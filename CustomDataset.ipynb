{
  "nbformat": 4,
  "nbformat_minor": 0,
  "metadata": {
    "colab": {
      "provenance": [],
      "mount_file_id": "1IY1xc4wytZ9oGUWUqgNWeAWjzIi7nD71",
      "authorship_tag": "ABX9TyMjJcwHmbGiE8xmT5el+d5X",
      "include_colab_link": true
    },
    "kernelspec": {
      "name": "python3",
      "display_name": "Python 3"
    },
    "language_info": {
      "name": "python"
    }
  },
  "cells": [
    {
      "cell_type": "markdown",
      "metadata": {
        "id": "view-in-github",
        "colab_type": "text"
      },
      "source": [
        "<a href=\"https://colab.research.google.com/github/chw8207/pytorch_study/blob/main/CustomDataset.ipynb\" target=\"_parent\"><img src=\"https://colab.research.google.com/assets/colab-badge.svg\" alt=\"Open In Colab\"/></a>"
      ]
    },
    {
      "cell_type": "markdown",
      "source": [
        "### 커스텀 데이터셋(Custom Dataset)"
      ],
      "metadata": {
        "id": "s1Mj_xyPQEd-"
      }
    },
    {
      "cell_type": "code",
      "source": [
        "import torch\n",
        "import torch.nn as nn\n",
        "import torch.nn.functional as F"
      ],
      "metadata": {
        "id": "UiEMgLU7VOLH"
      },
      "execution_count": 1,
      "outputs": []
    },
    {
      "cell_type": "code",
      "execution_count": null,
      "metadata": {
        "id": "LYIE73pEP8JK"
      },
      "outputs": [],
      "source": [
        "class CustomDataset(torch.utils.Dataset) : \n",
        "  # 데이터셋의 전처리를 해주는 부분\n",
        "  def __init__(self) :\n",
        "  \n",
        "  # 데이터셋의 길이(총 샘플의 수)\n",
        "  def __len__(self) : \n",
        "  \n",
        "  # 데이터셋에서 특정 1개의 샘플을 가져오는 부분\n",
        "  def __getitem__(self, idx) : "
      ]
    },
    {
      "cell_type": "markdown",
      "source": [
        "### 커스텀 데이터셋(Custom Dataset)으로 선형 회귀 구현"
      ],
      "metadata": {
        "id": "OsEgyDT2V37H"
      }
    },
    {
      "cell_type": "code",
      "source": [
        "import torch\n",
        "import torch.nn as nn\n",
        "import torch.nn.functional as F\n",
        "from torch.utils.data import Dataset\n",
        "from torch.utils.data import DataLoader"
      ],
      "metadata": {
        "id": "L_i6cqMzV40s"
      },
      "execution_count": 28,
      "outputs": []
    },
    {
      "cell_type": "code",
      "source": [
        "# Dataset 상속\n",
        "class CustomDataset(Dataset): \n",
        "  def __init__(self):\n",
        "    self.X_data = [[73, 80, 75],\n",
        "                   [93, 88, 93],\n",
        "                   [89, 91, 90],\n",
        "                   [96, 98, 100],\n",
        "                   [73, 66, 70]]\n",
        "    self.y_data = [[152], [185], [180], [196], [142]]\n",
        "\n",
        "  # 총 데이터의 개수를 리턴\n",
        "  def __len__(self): \n",
        "    return len(self.X_data)\n",
        "\n",
        "  # 인덱스를 입력받아 그에 맵핑되는 입출력 데이터를 파이토치의 Tensor 형태로 리턴\n",
        "  def __getitem__(self, idx): \n",
        "    X = torch.FloatTensor(self.X_data[idx])\n",
        "    y = torch.FloatTensor(self.y_data[idx])\n",
        "    return X, y"
      ],
      "metadata": {
        "id": "Ijft6IV_WR3S"
      },
      "execution_count": 29,
      "outputs": []
    },
    {
      "cell_type": "code",
      "source": [
        "dataset = CustomDataset()\n",
        "dataloader = DataLoader(dataset, batch_size=2, shuffle=True)"
      ],
      "metadata": {
        "id": "BNgd4XABW8xd"
      },
      "execution_count": 30,
      "outputs": []
    },
    {
      "cell_type": "code",
      "source": [
        "model = torch.nn.Linear(3,1)\n",
        "optimizer = torch.optim.SGD(model.parameters(), lr=1e-5) "
      ],
      "metadata": {
        "id": "KJRNVuJ8aR-x"
      },
      "execution_count": 31,
      "outputs": []
    },
    {
      "cell_type": "code",
      "source": [
        "nb_epochs = 20\n",
        "for epoch in range(nb_epochs + 1):\n",
        "  for batch_idx, samples in enumerate(dataloader):\n",
        "    # print(batch_idx)\n",
        "    # print(samples)\n",
        "    X_train, y_train = samples\n",
        "\n",
        "    # H(x) 계산\n",
        "    prediction = model(X_train)\n",
        "\n",
        "    # cost 계산\n",
        "    cost = F.mse_loss(prediction, y_train)\n",
        "\n",
        "    # cost로 H(x) 개선\n",
        "    optimizer.zero_grad()\n",
        "    cost.backward()\n",
        "    optimizer.step()\n",
        "\n",
        "    print(f'Epoch {epoch:4d}/{nb_epochs} Batch {batch_idx+1}/{len(dataloader)} Cost: {cost.item():.6f}')"
      ],
      "metadata": {
        "colab": {
          "base_uri": "https://localhost:8080/"
        },
        "id": "gbeK1BQ5alA5",
        "outputId": "ad9f88b6-1c79-440f-df3a-9e6db0fd18dd"
      },
      "execution_count": 32,
      "outputs": [
        {
          "output_type": "stream",
          "name": "stdout",
          "text": [
            "Epoch    0/20 Batch 1/3 Cost: 35164.726562\n",
            "Epoch    0/20 Batch 2/3 Cost: 25327.380859\n",
            "Epoch    0/20 Batch 3/3 Cost: 7376.926758\n",
            "Epoch    1/20 Batch 1/3 Cost: 1084.853271\n",
            "Epoch    1/20 Batch 2/3 Cost: 388.590515\n",
            "Epoch    1/20 Batch 3/3 Cost: 33.312851\n",
            "Epoch    2/20 Batch 1/3 Cost: 77.824951\n",
            "Epoch    2/20 Batch 2/3 Cost: 3.748768\n",
            "Epoch    2/20 Batch 3/3 Cost: 0.883576\n",
            "Epoch    3/20 Batch 1/3 Cost: 9.157857\n",
            "Epoch    3/20 Batch 2/3 Cost: 1.201113\n",
            "Epoch    3/20 Batch 3/3 Cost: 12.114938\n",
            "Epoch    4/20 Batch 1/3 Cost: 4.276888\n",
            "Epoch    4/20 Batch 2/3 Cost: 4.395586\n",
            "Epoch    4/20 Batch 3/3 Cost: 6.812661\n",
            "Epoch    5/20 Batch 1/3 Cost: 6.388806\n",
            "Epoch    5/20 Batch 2/3 Cost: 3.575401\n",
            "Epoch    5/20 Batch 3/3 Cost: 2.081481\n",
            "Epoch    6/20 Batch 1/3 Cost: 2.901273\n",
            "Epoch    6/20 Batch 2/3 Cost: 5.593609\n",
            "Epoch    6/20 Batch 3/3 Cost: 6.316782\n",
            "Epoch    7/20 Batch 1/3 Cost: 2.506712\n",
            "Epoch    7/20 Batch 2/3 Cost: 9.909648\n",
            "Epoch    7/20 Batch 3/3 Cost: 2.845031\n",
            "Epoch    8/20 Batch 1/3 Cost: 1.453196\n",
            "Epoch    8/20 Batch 2/3 Cost: 5.452767\n",
            "Epoch    8/20 Batch 3/3 Cost: 8.146645\n",
            "Epoch    9/20 Batch 1/3 Cost: 3.593750\n",
            "Epoch    9/20 Batch 2/3 Cost: 4.719007\n",
            "Epoch    9/20 Batch 3/3 Cost: 8.345042\n",
            "Epoch   10/20 Batch 1/3 Cost: 3.409634\n",
            "Epoch   10/20 Batch 2/3 Cost: 6.198372\n",
            "Epoch   10/20 Batch 3/3 Cost: 7.102271\n",
            "Epoch   11/20 Batch 1/3 Cost: 6.038918\n",
            "Epoch   11/20 Batch 2/3 Cost: 6.742735\n",
            "Epoch   11/20 Batch 3/3 Cost: 5.785414\n",
            "Epoch   12/20 Batch 1/3 Cost: 4.651311\n",
            "Epoch   12/20 Batch 2/3 Cost: 2.878917\n",
            "Epoch   12/20 Batch 3/3 Cost: 6.133211\n",
            "Epoch   13/20 Batch 1/3 Cost: 0.310547\n",
            "Epoch   13/20 Batch 2/3 Cost: 6.475427\n",
            "Epoch   13/20 Batch 3/3 Cost: 7.977849\n",
            "Epoch   14/20 Batch 1/3 Cost: 4.556502\n",
            "Epoch   14/20 Batch 2/3 Cost: 2.427686\n",
            "Epoch   14/20 Batch 3/3 Cost: 7.412359\n",
            "Epoch   15/20 Batch 1/3 Cost: 5.329476\n",
            "Epoch   15/20 Batch 2/3 Cost: 4.577780\n",
            "Epoch   15/20 Batch 3/3 Cost: 0.721110\n",
            "Epoch   16/20 Batch 1/3 Cost: 1.736911\n",
            "Epoch   16/20 Batch 2/3 Cost: 5.581608\n",
            "Epoch   16/20 Batch 3/3 Cost: 7.086257\n",
            "Epoch   17/20 Batch 1/3 Cost: 5.215374\n",
            "Epoch   17/20 Batch 2/3 Cost: 3.301141\n",
            "Epoch   17/20 Batch 3/3 Cost: 7.919772\n",
            "Epoch   18/20 Batch 1/3 Cost: 5.418433\n",
            "Epoch   18/20 Batch 2/3 Cost: 6.973389\n",
            "Epoch   18/20 Batch 3/3 Cost: 5.544568\n",
            "Epoch   19/20 Batch 1/3 Cost: 5.042752\n",
            "Epoch   19/20 Batch 2/3 Cost: 1.310669\n",
            "Epoch   19/20 Batch 3/3 Cost: 9.302146\n",
            "Epoch   20/20 Batch 1/3 Cost: 4.369533\n",
            "Epoch   20/20 Batch 2/3 Cost: 4.856138\n",
            "Epoch   20/20 Batch 3/3 Cost: 1.510638\n"
          ]
        }
      ]
    },
    {
      "cell_type": "code",
      "source": [
        "new_var = torch.FloatTensor([[73,80,75]])\n",
        "pred_y = model(new_var)\n",
        "print('훈련 후 입력이 73,80,75일 때의 예측값 :', pred_y)"
      ],
      "metadata": {
        "colab": {
          "base_uri": "https://localhost:8080/"
        },
        "id": "am9VFIgTil-_",
        "outputId": "1bb58871-72c0-406d-db07-76527a954b3c"
      },
      "execution_count": 33,
      "outputs": [
        {
          "output_type": "stream",
          "name": "stdout",
          "text": [
            "훈련 후 입력이 73,80,75일 때의 예측값 : tensor([[153.9436]], grad_fn=<AddmmBackward0>)\n"
          ]
        }
      ]
    }
  ]
}