{
  "nbformat": 4,
  "nbformat_minor": 0,
  "metadata": {
    "colab": {
      "provenance": [],
      "mount_file_id": "1YlS_sA-zJ1AThAurVJePrb8ZS7mTgeIz",
      "authorship_tag": "ABX9TyNwAHSxnhtq5UY45vf8z1gL",
      "include_colab_link": true
    },
    "kernelspec": {
      "name": "python3",
      "display_name": "Python 3"
    },
    "language_info": {
      "name": "python"
    }
  },
  "cells": [
    {
      "cell_type": "markdown",
      "metadata": {
        "id": "view-in-github",
        "colab_type": "text"
      },
      "source": [
        "<a href=\"https://colab.research.google.com/github/chw8207/pytorch_study/blob/main/class(logistic).ipynb\" target=\"_parent\"><img src=\"https://colab.research.google.com/assets/colab-badge.svg\" alt=\"Open In Colab\"/></a>"
      ]
    },
    {
      "cell_type": "markdown",
      "source": [
        "### 모델을 클래스로 구현"
      ],
      "metadata": {
        "id": "mgsmThCPvQIa"
      }
    },
    {
      "cell_type": "code",
      "execution_count": 1,
      "metadata": {
        "id": "UAcO3D58vDz6"
      },
      "outputs": [],
      "source": [
        "import torch\n",
        "import torch.nn as nn\n",
        "import torch.nn.functional as F\n",
        "import torch.optim as optim"
      ]
    },
    {
      "cell_type": "code",
      "source": [
        "model = nn.Sequential(\n",
        "    nn.Linear(2,1),\n",
        "    nn.Sigmoid()\n",
        ")"
      ],
      "metadata": {
        "id": "p1jPB5uhzagz"
      },
      "execution_count": 3,
      "outputs": []
    },
    {
      "cell_type": "code",
      "source": [
        "# 클래스로 모델 구현하기\n",
        "class BinaryClassifier(nn.Module) : \n",
        "  def __init__(self) : \n",
        "    super().__init__()\n",
        "    self.linear = nn.Linear(2,1)\n",
        "    self.sigmoid = nn.Sigmoid()\n",
        "\n",
        "  def forward(self, X) : \n",
        "    return self.sigmoid(self.linear(X))"
      ],
      "metadata": {
        "id": "KybGlCmkzlm8"
      },
      "execution_count": null,
      "outputs": []
    },
    {
      "cell_type": "markdown",
      "source": [
        "### 로지스틱 회귀 클래스로 구현"
      ],
      "metadata": {
        "id": "ls0JHgaK0Sio"
      }
    },
    {
      "cell_type": "code",
      "source": [],
      "metadata": {
        "id": "8X7FnTK80TgE"
      },
      "execution_count": null,
      "outputs": []
    }
  ]
}