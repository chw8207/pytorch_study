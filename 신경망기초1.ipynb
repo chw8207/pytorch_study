{
  "nbformat": 4,
  "nbformat_minor": 0,
  "metadata": {
    "colab": {
      "provenance": [],
      "mount_file_id": "1coPD42sVZEyZbGWJIo4u05EUNn38nYBd",
      "authorship_tag": "ABX9TyNnDG1SPGuzZE2OpqgDrd5i",
      "include_colab_link": true
    },
    "kernelspec": {
      "name": "python3",
      "display_name": "Python 3"
    },
    "language_info": {
      "name": "python"
    }
  },
  "cells": [
    {
      "cell_type": "markdown",
      "metadata": {
        "id": "view-in-github",
        "colab_type": "text"
      },
      "source": [
        "<a href=\"https://colab.research.google.com/github/chw8207/pytorch_study/blob/main/%EC%8B%A0%EA%B2%BD%EB%A7%9D%EA%B8%B0%EC%B4%881.ipynb\" target=\"_parent\"><img src=\"https://colab.research.google.com/assets/colab-badge.svg\" alt=\"Open In Colab\"/></a>"
      ]
    },
    {
      "cell_type": "markdown",
      "source": [
        "### 타입을 확인하는 함수"
      ],
      "metadata": {
        "id": "upc8U2eBlJCl"
      }
    },
    {
      "cell_type": "code",
      "source": [
        "# 넘파이로 간단한 함수 구현하기\n",
        "import numpy as np\n",
        "from numpy import ndarray\n",
        "\n",
        "def square(x: ndarray) -> ndarray :\n",
        "  '''\n",
        "  인자로 받은 ndarray 배열의 각 요솟값을 제곱한다.\n",
        "  '''\n",
        "  return np.power(x, 2)\n",
        "\n",
        "def leaky_relu(x: ndarray) -> ndarray :\n",
        "  '''\n",
        "  ndarray 각 배열의 요소에 'Leaky ReLu함수를 적용한다.'\n",
        "  '''\n",
        "  return np.maximum(0.2*x, x)"
      ],
      "metadata": {
        "id": "5Q3J6WZd6zOD"
      },
      "execution_count": 3,
      "outputs": []
    },
    {
      "cell_type": "markdown",
      "source": [
        "### 도함수"
      ],
      "metadata": {
        "id": "VyJNH6Bd7oVD"
      }
    },
    {
      "cell_type": "code",
      "source": [
        "# func: Callable[[ndarray], ndarray]\n",
        "#       인자로 ndarray를 입력으로 받고, ndarray타입값을 반환하는 함수\n",
        "from typing import Callable\n",
        "\n",
        "def deriv(func: Callable[[ndarray], ndarray],\n",
        "          input_: ndarray,\n",
        "          delta: float = 0.001) -> ndarray :\n",
        "    '''\n",
        "    배열 input이 각 요소에 대해 함수 func의 도함수값 계산\n",
        "    '''\n",
        "    return (func(input_ + delta) - func(input_ - delta)) / (2 * delta)"
      ],
      "metadata": {
        "id": "O8DldtTg7pwR"
      },
      "execution_count": 5,
      "outputs": []
    },
    {
      "cell_type": "markdown",
      "source": [
        "### 합성함수"
      ],
      "metadata": {
        "id": "IZqOn-NG8dC1"
      }
    },
    {
      "cell_type": "code",
      "source": [
        "# 데이터 타입 정의\n",
        "from typing import List\n",
        "\n",
        "# ndarray를 인자로 받고 ndarray를 반환하는 함수\n",
        "Array_Function = Callable[[ndarray], ndarray]\n",
        "\n",
        "# Chain은 함수의 리스트다.\n",
        "Chain = List[Array_Function]"
      ],
      "metadata": {
        "id": "ISSJDEUl8c56"
      },
      "execution_count": 7,
      "outputs": []
    },
    {
      "cell_type": "code",
      "source": [
        "Chain"
      ],
      "metadata": {
        "colab": {
          "base_uri": "https://localhost:8080/"
        },
        "id": "fMXmqy749HC_",
        "outputId": "e24ea443-bcd3-4142-dcad-98f4a56b1664"
      },
      "execution_count": 9,
      "outputs": [
        {
          "output_type": "execute_result",
          "data": {
            "text/plain": [
              "typing.List[typing.Callable[[numpy.ndarray], numpy.ndarray]]"
            ]
          },
          "metadata": {},
          "execution_count": 9
        }
      ]
    },
    {
      "cell_type": "code",
      "source": [
        "# 합성함수로 처리\n",
        "def chain_length_2(chain: Chain, a: ndarray) -> ndarray :\n",
        "  '''\n",
        "  두 함수를 연쇄(chain)적으로 평가\n",
        "  '''\n",
        "  # 인자 chain의 길이는 2여야 함(2개의 함수 연결)\n",
        "  assert len(chain) == 2\n",
        "\n",
        "  f1 = chain[0]\n",
        "  f2 = chain[1]\n",
        "\n",
        "  return f2(f1(x))"
      ],
      "metadata": {
        "id": "4d-9Q0B98yD0"
      },
      "execution_count": 10,
      "outputs": []
    }
  ]
}