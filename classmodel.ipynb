{
  "nbformat": 4,
  "nbformat_minor": 0,
  "metadata": {
    "colab": {
      "provenance": [],
      "authorship_tag": "ABX9TyPsCaGQCmdpJlb8Q/fnQ1NF",
      "include_colab_link": true
    },
    "kernelspec": {
      "name": "python3",
      "display_name": "Python 3"
    },
    "language_info": {
      "name": "python"
    }
  },
  "cells": [
    {
      "cell_type": "markdown",
      "metadata": {
        "id": "view-in-github",
        "colab_type": "text"
      },
      "source": [
        "<a href=\"https://colab.research.google.com/github/chw8207/pytorch_study/blob/main/classmodel.ipynb\" target=\"_parent\"><img src=\"https://colab.research.google.com/assets/colab-badge.svg\" alt=\"Open In Colab\"/></a>"
      ]
    },
    {
      "cell_type": "markdown",
      "source": [
        "### 모델을 클래스로 구현하기"
      ],
      "metadata": {
        "id": "Re0GS5bZHQAp"
      }
    },
    {
      "cell_type": "code",
      "source": [
        "from google.colab import drive\n",
        "drive.mount('/content/drive')"
      ],
      "metadata": {
        "colab": {
          "base_uri": "https://localhost:8080/"
        },
        "id": "xwG8TnZH1TBW",
        "outputId": "9431dcd4-7c4a-4055-df20-94a5de288cc9"
      },
      "execution_count": 1,
      "outputs": [
        {
          "output_type": "stream",
          "name": "stdout",
          "text": [
            "Mounted at /content/drive\n"
          ]
        }
      ]
    },
    {
      "cell_type": "code",
      "execution_count": 4,
      "metadata": {
        "id": "9Rmm0pgVHIHo"
      },
      "outputs": [],
      "source": [
        "# 단순선형회귀\n",
        "import torch\n",
        "import torch.nn as nn\n",
        "import torch.functional as F\n",
        "\n",
        "model = nn.Linear(1,1)"
      ]
    },
    {
      "cell_type": "code",
      "source": [
        "# 클래스로 구현\n",
        "class LinearRegressionModel(nn.Module) : # torch.nn.Module을 상속받는 클래스\n",
        "  def __init__(self) : \n",
        "    super().__init__()\n",
        "    self.linear = nn.Linear(1,1)\n",
        "\n",
        "  def forward(self, x) : \n",
        "    return self.linear(x)"
      ],
      "metadata": {
        "id": "mamCEvHT7Zgt"
      },
      "execution_count": 5,
      "outputs": []
    },
    {
      "cell_type": "code",
      "source": [
        "model = LinearRegressionModel()"
      ],
      "metadata": {
        "id": "2CKdWrrO8Wek"
      },
      "execution_count": 6,
      "outputs": []
    }
  ]
}