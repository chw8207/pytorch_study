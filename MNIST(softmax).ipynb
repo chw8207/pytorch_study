{
  "nbformat": 4,
  "nbformat_minor": 0,
  "metadata": {
    "colab": {
      "provenance": [],
      "mount_file_id": "1NTWP-TFLyci4AglMSWfFPlg1yAcxgRbj",
      "authorship_tag": "ABX9TyNzJoz5errY+i5wDTHj74bJ",
      "include_colab_link": true
    },
    "kernelspec": {
      "name": "python3",
      "display_name": "Python 3"
    },
    "language_info": {
      "name": "python"
    }
  },
  "cells": [
    {
      "cell_type": "markdown",
      "metadata": {
        "id": "view-in-github",
        "colab_type": "text"
      },
      "source": [
        "<a href=\"https://colab.research.google.com/github/chw8207/pytorch_study/blob/main/MNIST(softmax).ipynb\" target=\"_parent\"><img src=\"https://colab.research.google.com/assets/colab-badge.svg\" alt=\"Open In Colab\"/></a>"
      ]
    },
    {
      "cell_type": "markdown",
      "source": [
        "### 분류기 구현을 위한 사전 설정"
      ],
      "metadata": {
        "id": "VPEsMVj0nBRI"
      }
    },
    {
      "cell_type": "code",
      "source": [
        "import torch\n",
        "import torchvision.datasets as dsets\n",
        "import torchvision.transforms as transforms\n",
        "from torch.utils.data import DataLoader\n",
        "import torch.nn as nn\n",
        "import matplotlib.pyplot as plt\n",
        "import random"
      ],
      "metadata": {
        "id": "SbDErS5FnA1x"
      },
      "execution_count": 1,
      "outputs": []
    },
    {
      "cell_type": "code",
      "execution_count": 4,
      "metadata": {
        "colab": {
          "base_uri": "https://localhost:8080/"
        },
        "id": "setxS_NqlHY3",
        "outputId": "a6d6cf2a-7aae-43b5-d827-c6468d7bb285"
      },
      "outputs": [
        {
          "output_type": "stream",
          "name": "stdout",
          "text": [
            "다음 기기로 학습합니다. cpu\n"
          ]
        }
      ],
      "source": [
        "# 현재 환경에서 GPU 연산이 가능하다면 GPU 연산을 하고, 그렇지 않다면 CPU 연산을 하도록 하기\n",
        "USE_CUDA = torch.cuda.is_available() # GPU 사용가능하면 True 출력, 그렇지 않으면 False 출력\n",
        "device = torch.device('cuda' if USE_CUDA else 'cpu')\n",
        "print('다음 기기로 학습합니다.', device)"
      ]
    },
    {
      "cell_type": "code",
      "source": [
        "# 랜덤 시드 고정하기\n",
        "random.seed(777)\n",
        "torch.manual_seed(777)\n",
        "if device == 'cpu' : \n",
        "  torch.cpu.manual_seed_all(777)"
      ],
      "metadata": {
        "id": "qG-N4ymVpfns"
      },
      "execution_count": 5,
      "outputs": []
    },
    {
      "cell_type": "code",
      "source": [
        "# 하이퍼파라미터를 변수로 두기\n",
        "training_epochs = 15\n",
        "batch_size = 100"
      ],
      "metadata": {
        "id": "90da3XIWr8i7"
      },
      "execution_count": 6,
      "outputs": []
    }
  ]
}