{
  "nbformat": 4,
  "nbformat_minor": 0,
  "metadata": {
    "colab": {
      "provenance": [],
      "mount_file_id": "1PaHY_rw-rWDMBwt38hZltT5zxCEDrqRp",
      "authorship_tag": "ABX9TyMxEHNRY4mqwbLREmgoVGEx",
      "include_colab_link": true
    },
    "kernelspec": {
      "name": "python3",
      "display_name": "Python 3"
    },
    "language_info": {
      "name": "python"
    }
  },
  "cells": [
    {
      "cell_type": "markdown",
      "metadata": {
        "id": "view-in-github",
        "colab_type": "text"
      },
      "source": [
        "<a href=\"https://colab.research.google.com/github/chw8207/pytorch_study/blob/main/tensor_2.ipynb\" target=\"_parent\"><img src=\"https://colab.research.google.com/assets/colab-badge.svg\" alt=\"Open In Colab\"/></a>"
      ]
    },
    {
      "cell_type": "code",
      "source": [
        "from google.colab import drive\n",
        "drive.mount('/content/drive')"
      ],
      "metadata": {
        "colab": {
          "base_uri": "https://localhost:8080/"
        },
        "id": "luuL3Mwj9-sE",
        "outputId": "fe78ef17-4327-446c-a464-e54392103022"
      },
      "execution_count": null,
      "outputs": [
        {
          "output_type": "stream",
          "name": "stdout",
          "text": [
            "Mounted at /content/drive\n"
          ]
        }
      ]
    },
    {
      "cell_type": "code",
      "execution_count": null,
      "metadata": {
        "id": "yBy9MYk5WpAj"
      },
      "outputs": [],
      "source": [
        "# 뷰(view) : 원소의 수를 유지하면서 텐서의 크기 변경\n",
        "# numpy에서 reshape와 같음"
      ]
    },
    {
      "cell_type": "code",
      "source": [
        "import numpy as np\n",
        "import torch"
      ],
      "metadata": {
        "id": "Wr2S8IaKW-wc"
      },
      "execution_count": 1,
      "outputs": []
    },
    {
      "cell_type": "code",
      "source": [
        "t = np.array([[[0,1,2], [3,4,5]],\n",
        "              [[6,7,8], [9,10,11]]])\n",
        "\n",
        "ft = torch.FloatTensor(t)"
      ],
      "metadata": {
        "id": "UHtgrHQPXHsv"
      },
      "execution_count": null,
      "outputs": []
    },
    {
      "cell_type": "code",
      "source": [
        "print(ft.shape)"
      ],
      "metadata": {
        "colab": {
          "base_uri": "https://localhost:8080/"
        },
        "id": "3r1_JVCVXeMF",
        "outputId": "3106a7de-a94d-4b23-bb79-32c53bd35171"
      },
      "execution_count": null,
      "outputs": [
        {
          "output_type": "stream",
          "name": "stdout",
          "text": [
            "torch.Size([2, 2, 3])\n"
          ]
        }
      ]
    },
    {
      "cell_type": "code",
      "source": [
        "# 3차원 텐서에서 2차원 텐서로 변경하기\n",
        "#-1 : 파이토치에게 맡긴다.(-1,3)은(?,3)\n",
        "print(ft.view([-1,3]))\n",
        "print(ft.view([-1,3]).shape)"
      ],
      "metadata": {
        "colab": {
          "base_uri": "https://localhost:8080/"
        },
        "id": "9BLmfrXU99sY",
        "outputId": "fc894e44-ec3b-4ab9-c224-48511c75d3fc"
      },
      "execution_count": null,
      "outputs": [
        {
          "output_type": "stream",
          "name": "stdout",
          "text": [
            "tensor([[ 0.,  1.,  2.],\n",
            "        [ 3.,  4.,  5.],\n",
            "        [ 6.,  7.,  8.],\n",
            "        [ 9., 10., 11.]])\n",
            "torch.Size([4, 3])\n"
          ]
        }
      ]
    },
    {
      "cell_type": "code",
      "source": [
        "# 3차원 텐서의 크기 변경\n",
        "print(ft.view([-1,1,3]))\n",
        "print(ft.view([-1,1,3]).shape)"
      ],
      "metadata": {
        "colab": {
          "base_uri": "https://localhost:8080/"
        },
        "id": "L3PUHFfA_Ka9",
        "outputId": "478e0b90-0291-4b03-c1c6-683f47942a7a"
      },
      "execution_count": null,
      "outputs": [
        {
          "output_type": "stream",
          "name": "stdout",
          "text": [
            "tensor([[[ 0.,  1.,  2.]],\n",
            "\n",
            "        [[ 3.,  4.,  5.]],\n",
            "\n",
            "        [[ 6.,  7.,  8.]],\n",
            "\n",
            "        [[ 9., 10., 11.]]])\n",
            "torch.Size([4, 1, 3])\n"
          ]
        }
      ]
    },
    {
      "cell_type": "code",
      "source": [
        "# 스퀴즈(Squeeze) : 1인 차원을 제거한다.\n",
        "ft = torch.FloatTensor([[0],[1],[2]])\n",
        "print(ft)\n",
        "print(ft.shape)"
      ],
      "metadata": {
        "colab": {
          "base_uri": "https://localhost:8080/"
        },
        "id": "8KC7u5li_qO5",
        "outputId": "7b3a5754-df2e-47b8-d03b-b237e28e8e3e"
      },
      "execution_count": null,
      "outputs": [
        {
          "output_type": "stream",
          "name": "stdout",
          "text": [
            "tensor([[0.],\n",
            "        [1.],\n",
            "        [2.]])\n",
            "torch.Size([3, 1])\n"
          ]
        }
      ]
    },
    {
      "cell_type": "code",
      "source": [
        "print(ft.squeeze())\n",
        "print(ft.squeeze().shape)"
      ],
      "metadata": {
        "colab": {
          "base_uri": "https://localhost:8080/"
        },
        "id": "5Ev0GAcfDikN",
        "outputId": "8508ddc5-5fa7-426d-f01f-ece352c9244e"
      },
      "execution_count": null,
      "outputs": [
        {
          "output_type": "stream",
          "name": "stdout",
          "text": [
            "tensor([0., 1., 2.])\n",
            "torch.Size([3])\n"
          ]
        }
      ]
    },
    {
      "cell_type": "code",
      "source": [
        "# 언스퀴즈(Unsqueeze) : 특정 위치에 1인 차원 추가\n",
        "ft = torch.FloatTensor([0,1,2])\n",
        "print(ft.shape)"
      ],
      "metadata": {
        "colab": {
          "base_uri": "https://localhost:8080/"
        },
        "id": "VMafDonIDzHv",
        "outputId": "d978c14b-2055-4088-8e1e-39e42140d53c"
      },
      "execution_count": null,
      "outputs": [
        {
          "output_type": "stream",
          "name": "stdout",
          "text": [
            "torch.Size([3])\n"
          ]
        }
      ]
    },
    {
      "cell_type": "code",
      "source": [
        "# 첫 번째 차원에 1인 차원 추가하기\n",
        "print(ft.unsqueeze(0))\n",
        "print(ft.unsqueeze(0).shape)"
      ],
      "metadata": {
        "colab": {
          "base_uri": "https://localhost:8080/"
        },
        "id": "nx1sy4scEAIo",
        "outputId": "e7c814af-af0e-4d3e-e415-45dee15939bf"
      },
      "execution_count": null,
      "outputs": [
        {
          "output_type": "stream",
          "name": "stdout",
          "text": [
            "tensor([[0., 1., 2.]])\n",
            "torch.Size([1, 3])\n"
          ]
        }
      ]
    },
    {
      "cell_type": "code",
      "source": [
        "#  2차원으로 바꾸고 싶으면서 첫번째 차원은 1로 바꾸기\n",
        "print(ft.view(1,-1))\n",
        "print(ft.view(1,-1).shape)"
      ],
      "metadata": {
        "colab": {
          "base_uri": "https://localhost:8080/"
        },
        "id": "TLlf2UQcEgZz",
        "outputId": "c2b9e2f4-a81a-4080-b09f-c0624a946ee4"
      },
      "execution_count": null,
      "outputs": [
        {
          "output_type": "stream",
          "name": "stdout",
          "text": [
            "tensor([[0., 1., 2.]])\n",
            "torch.Size([1, 3])\n"
          ]
        }
      ]
    },
    {
      "cell_type": "code",
      "source": [
        "# 두번째 차원에 1을 추가\n",
        "print(ft.unsqueeze(1))\n",
        "print(ft.unsqueeze(1).shape)"
      ],
      "metadata": {
        "colab": {
          "base_uri": "https://localhost:8080/"
        },
        "id": "ELvV-cBEE2-P",
        "outputId": "08e2bbc0-83e7-4996-d22c-f38660f713ee"
      },
      "execution_count": null,
      "outputs": [
        {
          "output_type": "stream",
          "name": "stdout",
          "text": [
            "tensor([[0.],\n",
            "        [1.],\n",
            "        [2.]])\n",
            "torch.Size([3, 1])\n"
          ]
        }
      ]
    },
    {
      "cell_type": "code",
      "source": [
        "# 마지막 차원에 1을 추가\n",
        "print(ft.unsqueeze(-1))\n",
        "print(ft.unsqueeze(-1).shape)"
      ],
      "metadata": {
        "colab": {
          "base_uri": "https://localhost:8080/"
        },
        "id": "OvKNnIbeFa3U",
        "outputId": "f25e5f88-84de-46b4-c078-206d4cb85b80"
      },
      "execution_count": null,
      "outputs": [
        {
          "output_type": "stream",
          "name": "stdout",
          "text": [
            "tensor([[0.],\n",
            "        [1.],\n",
            "        [2.]])\n",
            "torch.Size([3, 1])\n"
          ]
        }
      ]
    },
    {
      "cell_type": "code",
      "source": [
        "# 타입 캐스팅\n",
        "lt = torch.LongTensor([1,2,3,4])\n",
        "print(lt)"
      ],
      "metadata": {
        "id": "0z0Idyw8GnMR",
        "colab": {
          "base_uri": "https://localhost:8080/"
        },
        "outputId": "cc400b80-fb18-49ba-d43a-726d8feff503"
      },
      "execution_count": 2,
      "outputs": [
        {
          "output_type": "stream",
          "name": "stdout",
          "text": [
            "tensor([1, 2, 3, 4])\n"
          ]
        }
      ]
    },
    {
      "cell_type": "code",
      "source": [
        "# float타입으로 변경\n",
        "print(lt.float())"
      ],
      "metadata": {
        "colab": {
          "base_uri": "https://localhost:8080/"
        },
        "id": "X-WLM6GX2798",
        "outputId": "13b76147-cb13-4f2c-9233-1cd98b5a4c62"
      },
      "execution_count": 3,
      "outputs": [
        {
          "output_type": "stream",
          "name": "stdout",
          "text": [
            "tensor([1., 2., 3., 4.])\n"
          ]
        }
      ]
    },
    {
      "cell_type": "code",
      "source": [
        "# byte 타입\n",
        "bt = torch.ByteTensor([True,False,False,True])\n",
        "print(bt)"
      ],
      "metadata": {
        "colab": {
          "base_uri": "https://localhost:8080/"
        },
        "id": "kqt8fXfU3CMT",
        "outputId": "a348dc15-18d8-4e39-e53a-afa16e7d7d42"
      },
      "execution_count": 4,
      "outputs": [
        {
          "output_type": "stream",
          "name": "stdout",
          "text": [
            "tensor([1, 0, 0, 1], dtype=torch.uint8)\n"
          ]
        }
      ]
    },
    {
      "cell_type": "code",
      "source": [
        "# 타입 변경\n",
        "print(bt.long())\n",
        "print(bt.float())"
      ],
      "metadata": {
        "colab": {
          "base_uri": "https://localhost:8080/"
        },
        "id": "SL4kOCHU3SPZ",
        "outputId": "c1dd6823-7a7b-448a-d26c-5cec0444882c"
      },
      "execution_count": 5,
      "outputs": [
        {
          "output_type": "stream",
          "name": "stdout",
          "text": [
            "tensor([1, 0, 0, 1])\n",
            "tensor([1., 0., 0., 1.])\n"
          ]
        }
      ]
    },
    {
      "cell_type": "code",
      "source": [
        "# 연결하기(concatenate)\n",
        "x = torch.FloatTensor([[1,2], [3,4]])\n",
        "y = torch.FloatTensor([[5,6], [7,8]])"
      ],
      "metadata": {
        "id": "ps8C2CyL3djS"
      },
      "execution_count": 7,
      "outputs": []
    },
    {
      "cell_type": "code",
      "source": [
        "# dim=0 : 첫 번째 차원 늘리기\n",
        "print(torch.cat([x,y], dim=0))"
      ],
      "metadata": {
        "colab": {
          "base_uri": "https://localhost:8080/"
        },
        "id": "w-imZ8Cc324e",
        "outputId": "76228758-f78c-49d2-8c2f-e445498dc829"
      },
      "execution_count": 8,
      "outputs": [
        {
          "output_type": "stream",
          "name": "stdout",
          "text": [
            "tensor([[1., 2.],\n",
            "        [3., 4.],\n",
            "        [5., 6.],\n",
            "        [7., 8.]])\n"
          ]
        }
      ]
    },
    {
      "cell_type": "code",
      "source": [
        "# dim=1 : 두 번째 차원 늘리기\n",
        "print(torch.cat([x,y], dim=1))"
      ],
      "metadata": {
        "colab": {
          "base_uri": "https://localhost:8080/"
        },
        "id": "jJMvtx9q3_c2",
        "outputId": "c72de462-d9d3-4f99-bb9e-1a8b4cf6a95b"
      },
      "execution_count": 9,
      "outputs": [
        {
          "output_type": "stream",
          "name": "stdout",
          "text": [
            "tensor([[1., 2., 5., 6.],\n",
            "        [3., 4., 7., 8.]])\n"
          ]
        }
      ]
    },
    {
      "cell_type": "code",
      "source": [
        "# 스택킹(Stacking)\n",
        "x = torch.FloatTensor([1,4])\n",
        "y = torch.FloatTensor([2,5])\n",
        "z = torch.FloatTensor([3,6])"
      ],
      "metadata": {
        "id": "RoFCsCxI4S-s"
      },
      "execution_count": 10,
      "outputs": []
    },
    {
      "cell_type": "code",
      "source": [
        "# 3개의 벡터 순서대로 쌓기\n",
        "print(torch.stack([x,y,z]))"
      ],
      "metadata": {
        "colab": {
          "base_uri": "https://localhost:8080/"
        },
        "id": "uoOxb4Um4h9b",
        "outputId": "e046385b-4727-4dad-9513-d784cbb357bd"
      },
      "execution_count": 11,
      "outputs": [
        {
          "output_type": "stream",
          "name": "stdout",
          "text": [
            "tensor([[1., 4.],\n",
            "        [2., 5.],\n",
            "        [3., 6.]])\n"
          ]
        }
      ]
    },
    {
      "cell_type": "code",
      "source": [
        "# dim=1 : 두 번째 차원이 증가하도록 쌓기\n",
        "print(torch.stack([x,y,z], dim=1))"
      ],
      "metadata": {
        "colab": {
          "base_uri": "https://localhost:8080/"
        },
        "id": "F5FODjVZ4xkq",
        "outputId": "4e54cffb-114e-4816-b167-0b9d3909124c"
      },
      "execution_count": 12,
      "outputs": [
        {
          "output_type": "stream",
          "name": "stdout",
          "text": [
            "tensor([[1., 2., 3.],\n",
            "        [4., 5., 6.]])\n"
          ]
        }
      ]
    },
    {
      "cell_type": "code",
      "source": [
        "# ones_like와 zeros_like - 0으로 채워진 텐서와 1로 채워진 텐서\n",
        "x = torch.FloatTensor([[0,1,2], [2,1,0]])\n",
        "print(x)"
      ],
      "metadata": {
        "colab": {
          "base_uri": "https://localhost:8080/"
        },
        "id": "mxEz5Etg5Xh8",
        "outputId": "eaa28ee0-cd3b-40a8-cba9-785186b09cc3"
      },
      "execution_count": 13,
      "outputs": [
        {
          "output_type": "stream",
          "name": "stdout",
          "text": [
            "tensor([[0., 1., 2.],\n",
            "        [2., 1., 0.]])\n"
          ]
        }
      ]
    },
    {
      "cell_type": "code",
      "source": [
        "# 동일 크기이지만 0값으로 채워진 텐서\n",
        "print(torch.zeros_like(x))"
      ],
      "metadata": {
        "colab": {
          "base_uri": "https://localhost:8080/"
        },
        "id": "vOLwJpVy5lxW",
        "outputId": "e1df5e59-5fa8-4f33-af94-c0d1065d53af"
      },
      "execution_count": 14,
      "outputs": [
        {
          "output_type": "stream",
          "name": "stdout",
          "text": [
            "tensor([[0., 0., 0.],\n",
            "        [0., 0., 0.]])\n"
          ]
        }
      ]
    },
    {
      "cell_type": "code",
      "source": [
        "# 동일 크기이지만 1값으로 채워진 텐서\n",
        "print(torch.ones_like(x))"
      ],
      "metadata": {
        "colab": {
          "base_uri": "https://localhost:8080/"
        },
        "id": "lrN78Kxa-rri",
        "outputId": "f933fc11-3b49-4dbe-cb61-82efd652d886"
      },
      "execution_count": 15,
      "outputs": [
        {
          "output_type": "stream",
          "name": "stdout",
          "text": [
            "tensor([[1., 1., 1.],\n",
            "        [1., 1., 1.]])\n"
          ]
        }
      ]
    },
    {
      "cell_type": "code",
      "source": [
        "# In-place Operation (덮어쓰기 연산)\n",
        "x = torch.FloatTensor([[1,2], [3,4]])"
      ],
      "metadata": {
        "id": "u-YjFdAW-2Xk"
      },
      "execution_count": 17,
      "outputs": []
    },
    {
      "cell_type": "code",
      "source": [
        "print(x.mul(2.)) # 곱하기2를 실행\n",
        "print(x)         # 기존값 출력"
      ],
      "metadata": {
        "colab": {
          "base_uri": "https://localhost:8080/"
        },
        "id": "kVMmE8Dl_Mbj",
        "outputId": "4f2162cc-972d-401f-e386-60fe07163a4d"
      },
      "execution_count": 19,
      "outputs": [
        {
          "output_type": "stream",
          "name": "stdout",
          "text": [
            "tensor([[2., 4.],\n",
            "        [6., 8.]])\n",
            "tensor([[1., 2.],\n",
            "        [3., 4.]])\n"
          ]
        }
      ]
    }
  ]
}