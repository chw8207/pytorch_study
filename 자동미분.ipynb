{
  "nbformat": 4,
  "nbformat_minor": 0,
  "metadata": {
    "colab": {
      "provenance": [],
      "mount_file_id": "1kGPJ2BOS4ZcmisLq58YKEZaedBW9KXwB",
      "authorship_tag": "ABX9TyOjmuWMcwpHsNO8RJFIbnqY",
      "include_colab_link": true
    },
    "kernelspec": {
      "name": "python3",
      "display_name": "Python 3"
    },
    "language_info": {
      "name": "python"
    }
  },
  "cells": [
    {
      "cell_type": "markdown",
      "metadata": {
        "id": "view-in-github",
        "colab_type": "text"
      },
      "source": [
        "<a href=\"https://colab.research.google.com/github/chw8207/pytorch_study/blob/main/%EC%9E%90%EB%8F%99%EB%AF%B8%EB%B6%84.ipynb\" target=\"_parent\"><img src=\"https://colab.research.google.com/assets/colab-badge.svg\" alt=\"Open In Colab\"/></a>"
      ]
    },
    {
      "cell_type": "markdown",
      "source": [
        "### 자동미분 실습하기"
      ],
      "metadata": {
        "id": "X99AUW-62kKg"
      }
    },
    {
      "cell_type": "code",
      "execution_count": 1,
      "metadata": {
        "id": "n-9-vml-2Zql"
      },
      "outputs": [],
      "source": [
        "import torch"
      ]
    },
    {
      "cell_type": "code",
      "source": [
        "# 스칼라 텐서 W선언\n",
        "W = torch.tensor(2.0, requires_grad = True)"
      ],
      "metadata": {
        "id": "cUZ2a_GB2qXC"
      },
      "execution_count": 2,
      "outputs": []
    },
    {
      "cell_type": "code",
      "source": [
        "# 수식 정의\n",
        "y = W**2\n",
        "z = 2*y+5"
      ],
      "metadata": {
        "id": "M3_6YbUe3BTH"
      },
      "execution_count": 3,
      "outputs": []
    },
    {
      "cell_type": "code",
      "source": [
        "# 해당 수식을 W에 대해 미분하기\n",
        "z.backward()"
      ],
      "metadata": {
        "id": "I3WDjqns3UVN"
      },
      "execution_count": 4,
      "outputs": []
    },
    {
      "cell_type": "code",
      "source": [
        "print(f'수식을 W로 미분한 값 : {W.grad}')"
      ],
      "metadata": {
        "colab": {
          "base_uri": "https://localhost:8080/"
        },
        "id": "A7aMLfLA3Zyw",
        "outputId": "99df6233-8ad6-436a-f7ce-861d9c757d94"
      },
      "execution_count": 5,
      "outputs": [
        {
          "output_type": "stream",
          "name": "stdout",
          "text": [
            "수식을 W로 미분한 값 : 8.0\n"
          ]
        }
      ]
    }
  ]
}