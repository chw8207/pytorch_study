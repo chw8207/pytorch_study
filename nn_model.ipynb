{
  "nbformat": 4,
  "nbformat_minor": 0,
  "metadata": {
    "colab": {
      "provenance": [],
      "mount_file_id": "1Itif5Roc6_fEyBDJwhjGA0Po0Q46Hcel",
      "authorship_tag": "ABX9TyNJaHEkPwPGOzEuwWxkW5JL",
      "include_colab_link": true
    },
    "kernelspec": {
      "name": "python3",
      "display_name": "Python 3"
    },
    "language_info": {
      "name": "python"
    }
  },
  "cells": [
    {
      "cell_type": "markdown",
      "metadata": {
        "id": "view-in-github",
        "colab_type": "text"
      },
      "source": [
        "<a href=\"https://colab.research.google.com/github/chw8207/pytorch_study/blob/main/nn_model.ipynb\" target=\"_parent\"><img src=\"https://colab.research.google.com/assets/colab-badge.svg\" alt=\"Open In Colab\"/></a>"
      ]
    },
    {
      "cell_type": "markdown",
      "source": [
        "### 함수 간단 예시\n",
        " - nn.Linear() : 선형회귀모델\n",
        " - nn.functional.mse_loss() : 평균제곱오차"
      ],
      "metadata": {
        "id": "ISJKsh630mji"
      }
    },
    {
      "cell_type": "code",
      "execution_count": 2,
      "metadata": {
        "id": "RMJUNI-z0Uvl"
      },
      "outputs": [],
      "source": [
        "import torch.nn as nn\n",
        "model = nn.Linear(input_dim, output_idm)"
      ]
    },
    {
      "cell_type": "code",
      "source": [
        "import torch.nn.functional as F\n",
        "cost = F.mse_loss(prediction, y_train)"
      ],
      "metadata": {
        "id": "UGD4XZtx0_zD"
      },
      "execution_count": null,
      "outputs": []
    },
    {
      "cell_type": "markdown",
      "source": [
        "### 단순 선형회귀 구현"
      ],
      "metadata": {
        "id": "VmFYeOxV1P0R"
      }
    },
    {
      "cell_type": "code",
      "source": [
        "import torch\n",
        "import torch.nn as nn\n",
        "import torch.nn.functional as F"
      ],
      "metadata": {
        "id": "YqCRGhb71Rki"
      },
      "execution_count": 3,
      "outputs": []
    }
  ]
}