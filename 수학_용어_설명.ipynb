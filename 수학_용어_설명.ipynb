{
  "nbformat": 4,
  "nbformat_minor": 0,
  "metadata": {
    "colab": {
      "provenance": [],
      "mount_file_id": "1PaHY_rw-rWDMBwt38hZltT5zxCEDrqRp",
      "authorship_tag": "ABX9TyNHl5QiklKr6hbuRMHsvQeN",
      "include_colab_link": true
    },
    "kernelspec": {
      "name": "python3",
      "display_name": "Python 3"
    },
    "language_info": {
      "name": "python"
    }
  },
  "cells": [
    {
      "cell_type": "markdown",
      "metadata": {
        "id": "view-in-github",
        "colab_type": "text"
      },
      "source": [
        "<a href=\"https://colab.research.google.com/github/chw8207/pytorch_study/blob/main/%EC%88%98%ED%95%99_%EC%9A%A9%EC%96%B4_%EC%84%A4%EB%AA%85.ipynb\" target=\"_parent\"><img src=\"https://colab.research.google.com/assets/colab-badge.svg\" alt=\"Open In Colab\"/></a>"
      ]
    },
    {
      "cell_type": "code",
      "source": [
        "from google.colab import drive\n",
        "drive.mount('/content/drive')"
      ],
      "metadata": {
        "colab": {
          "base_uri": "https://localhost:8080/"
        },
        "id": "luuL3Mwj9-sE",
        "outputId": "fe78ef17-4327-446c-a464-e54392103022"
      },
      "execution_count": null,
      "outputs": [
        {
          "output_type": "stream",
          "name": "stdout",
          "text": [
            "Mounted at /content/drive\n"
          ]
        }
      ]
    },
    {
      "cell_type": "markdown",
      "source": [
        "### 수열의 합"
      ],
      "metadata": {
        "id": "DsWN7tJ3xSiz"
      }
    },
    {
      "cell_type": "code",
      "execution_count": null,
      "metadata": {
        "id": "yBy9MYk5WpAj"
      },
      "outputs": [],
      "source": [
        "def sigma(x) : \n",
        "  ret = 0\n",
        "  for x_i in x : \n",
        "    ret += x_i\n",
        "\n",
        "  return ret\n",
        "\n",
        "x = [i+1 for i in range(n)]\n",
        "\n",
        "print(sigma(x))"
      ]
    },
    {
      "cell_type": "markdown",
      "source": [
        "### 수열의 곱"
      ],
      "metadata": {
        "id": "67YJ34QtyRyk"
      }
    },
    {
      "cell_type": "code",
      "source": [
        "def product(x) : \n",
        "  ret = 1\n",
        "  for x_i in x : \n",
        "    ret *= x_i\n",
        "\n",
        "  return ret\n",
        "\n",
        "x = [i+1 for i in range(n)]\n",
        "\n",
        "print(product(x))"
      ],
      "metadata": {
        "id": "VjjFH5y1yUuh"
      },
      "execution_count": null,
      "outputs": []
    },
    {
      "cell_type": "markdown",
      "source": [
        "### argmax()\n",
        "-  인자로 대상 함수와 대상 함수의 입력셋을 받는다.\n",
        "-  출력을 최대로 하는 입력값 반환"
      ],
      "metadata": {
        "id": "z8DVAXyJyrSz"
      }
    },
    {
      "cell_type": "code",
      "source": [
        "import numpy as np\n",
        "\n",
        "def argmax(target_func, X) : \n",
        "  max_val = -np.inf\n",
        "  ret = None\n",
        "  for x in X : \n",
        "    val = f(x)\n",
        "    if val > max_val : \n",
        "      max_val = val\n",
        "      ret = x\n",
        "\n",
        "  return ret\n",
        "\n",
        "X = [i+1 for i in range(n)]\n",
        "\n",
        "# 지수함수 구현\n",
        "def f(x) : \n",
        "  return -np.log(x)\n",
        "\n",
        "print(argmax(f, X))"
      ],
      "metadata": {
        "id": "wkKrym_Zy4Nh"
      },
      "execution_count": 9,
      "outputs": []
    }
  ]
}