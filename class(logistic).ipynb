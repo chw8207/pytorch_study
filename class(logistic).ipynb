{
  "nbformat": 4,
  "nbformat_minor": 0,
  "metadata": {
    "colab": {
      "provenance": [],
      "mount_file_id": "1YlS_sA-zJ1AThAurVJePrb8ZS7mTgeIz",
      "authorship_tag": "ABX9TyN4N6TjXBQBTCHJY7uy269i",
      "include_colab_link": true
    },
    "kernelspec": {
      "name": "python3",
      "display_name": "Python 3"
    },
    "language_info": {
      "name": "python"
    }
  },
  "cells": [
    {
      "cell_type": "markdown",
      "metadata": {
        "id": "view-in-github",
        "colab_type": "text"
      },
      "source": [
        "<a href=\"https://colab.research.google.com/github/chw8207/pytorch_study/blob/main/class(logistic).ipynb\" target=\"_parent\"><img src=\"https://colab.research.google.com/assets/colab-badge.svg\" alt=\"Open In Colab\"/></a>"
      ]
    },
    {
      "cell_type": "markdown",
      "source": [
        "### 모델을 클래스로 구현"
      ],
      "metadata": {
        "id": "mgsmThCPvQIa"
      }
    },
    {
      "cell_type": "code",
      "execution_count": null,
      "metadata": {
        "id": "UAcO3D58vDz6"
      },
      "outputs": [],
      "source": [
        "import torch\n",
        "import torch.nn as nn\n",
        "import torch.nn.functional as F\n",
        "import torch.optim as optim"
      ]
    },
    {
      "cell_type": "code",
      "source": [
        "model = nn.Sequential(\n",
        "    nn.Linear(2,1),\n",
        "    nn.Sigmoid()\n",
        ")"
      ],
      "metadata": {
        "id": "p1jPB5uhzagz"
      },
      "execution_count": null,
      "outputs": []
    },
    {
      "cell_type": "code",
      "source": [
        "# 클래스로 모델 구현하기\n",
        "class BinaryClassifier(nn.Module) : \n",
        "  def __init__(self) : \n",
        "    super().__init__()\n",
        "    self.linear = nn.Linear(2,1)\n",
        "    self.sigmoid = nn.Sigmoid()\n",
        "\n",
        "  def forward(self, X) : \n",
        "    return self.sigmoid(self.linear(X))"
      ],
      "metadata": {
        "id": "KybGlCmkzlm8"
      },
      "execution_count": null,
      "outputs": []
    },
    {
      "cell_type": "markdown",
      "source": [
        "### 로지스틱 회귀 클래스로 구현"
      ],
      "metadata": {
        "id": "ls0JHgaK0Sio"
      }
    },
    {
      "cell_type": "code",
      "source": [
        "import torch\n",
        "import torch.nn as nn\n",
        "import torch.nn.functional as F\n",
        "import torch.optim as optim"
      ],
      "metadata": {
        "id": "8X7FnTK80TgE"
      },
      "execution_count": 1,
      "outputs": []
    },
    {
      "cell_type": "code",
      "source": [
        "torch.manual_seed(1)"
      ],
      "metadata": {
        "colab": {
          "base_uri": "https://localhost:8080/"
        },
        "id": "faDbShwfpCmg",
        "outputId": "9bb467bd-91de-44a7-9fba-a8ea24165ae0"
      },
      "execution_count": 2,
      "outputs": [
        {
          "output_type": "execute_result",
          "data": {
            "text/plain": [
              "<torch._C.Generator at 0x7f8866c89bf0>"
            ]
          },
          "metadata": {},
          "execution_count": 2
        }
      ]
    },
    {
      "cell_type": "code",
      "source": [
        "X_data = [[1,2], [2,3], [3,1], [4,3], [5,3], [6,2]]\n",
        "y_data = [[0],[0],[0],[1],[1],[1]]\n",
        "X_train = torch.FloatTensor(X_data)\n",
        "y_train = torch.FloatTensor(y_data)"
      ],
      "metadata": {
        "id": "79CzVrenpJyc"
      },
      "execution_count": 3,
      "outputs": []
    },
    {
      "cell_type": "code",
      "source": [
        "class BinaryClassifier(nn.Module) : \n",
        "  def __init__(self) : \n",
        "    super().__init__()\n",
        "    self.linear = nn.Linear(2,1)\n",
        "    self.sigmoid = nn.Sigmoid()\n",
        "\n",
        "  def forward(self, X) : \n",
        "    return self.sigmoid(self.linear(X))"
      ],
      "metadata": {
        "id": "HFtnLy5kuFNm"
      },
      "execution_count": 4,
      "outputs": []
    },
    {
      "cell_type": "code",
      "source": [
        "model = BinaryClassifier()"
      ],
      "metadata": {
        "id": "ErCtAFy6up9i"
      },
      "execution_count": 5,
      "outputs": []
    },
    {
      "cell_type": "code",
      "source": [
        "optimizer = optim.SGD(model.parameters(), lr=1)\n",
        "\n",
        "nb_epochs = 1000\n",
        "for epoch in range(nb_epochs+1) : \n",
        "  # H(x) 계산\n",
        "  hypothesis = model(X_train)\n",
        "\n",
        "  # cost 계산\n",
        "  cost = F.binary_cross_entropy(hypothesis, y_train)\n",
        "\n",
        "  # cost로 H(x) 개선\n",
        "  optimizer.zero_grad()\n",
        "  cost.backward()\n",
        "  optimizer.step()\n",
        "\n",
        "  if epoch%20==0 : \n",
        "    prediction = hypothesis>=torch.FloatTensor([0.5])\n",
        "    correct_prediction = prediction.float()==y_train\n",
        "    accuracy = correct_prediction.sum().item()/len(correct_prediction)\n",
        "    print(f'Epoch {epoch:4d}/{nb_epochs} Cost : {cost.item():.6f} Accuracy {accuracy*100:2.2f}%')"
      ],
      "metadata": {
        "colab": {
          "base_uri": "https://localhost:8080/"
        },
        "id": "i4-Zwk-Suxic",
        "outputId": "0fc1e7d9-d8d0-4219-90e3-dd0cae8da0fc"
      },
      "execution_count": 6,
      "outputs": [
        {
          "output_type": "stream",
          "name": "stdout",
          "text": [
            "Epoch    0/1000 Cost : 0.539713 Accuracy 83.33%\n",
            "Epoch   20/1000 Cost : 0.441875 Accuracy 66.67%\n",
            "Epoch   40/1000 Cost : 0.316358 Accuracy 83.33%\n",
            "Epoch   60/1000 Cost : 0.220498 Accuracy 100.00%\n",
            "Epoch   80/1000 Cost : 0.157299 Accuracy 100.00%\n",
            "Epoch  100/1000 Cost : 0.134272 Accuracy 100.00%\n",
            "Epoch  120/1000 Cost : 0.118297 Accuracy 100.00%\n",
            "Epoch  140/1000 Cost : 0.105779 Accuracy 100.00%\n",
            "Epoch  160/1000 Cost : 0.095704 Accuracy 100.00%\n",
            "Epoch  180/1000 Cost : 0.087420 Accuracy 100.00%\n",
            "Epoch  200/1000 Cost : 0.080486 Accuracy 100.00%\n",
            "Epoch  220/1000 Cost : 0.074595 Accuracy 100.00%\n",
            "Epoch  240/1000 Cost : 0.069526 Accuracy 100.00%\n",
            "Epoch  260/1000 Cost : 0.065118 Accuracy 100.00%\n",
            "Epoch  280/1000 Cost : 0.061247 Accuracy 100.00%\n",
            "Epoch  300/1000 Cost : 0.057820 Accuracy 100.00%\n",
            "Epoch  320/1000 Cost : 0.054764 Accuracy 100.00%\n",
            "Epoch  340/1000 Cost : 0.052022 Accuracy 100.00%\n",
            "Epoch  360/1000 Cost : 0.049546 Accuracy 100.00%\n",
            "Epoch  380/1000 Cost : 0.047299 Accuracy 100.00%\n",
            "Epoch  400/1000 Cost : 0.045251 Accuracy 100.00%\n",
            "Epoch  420/1000 Cost : 0.043376 Accuracy 100.00%\n",
            "Epoch  440/1000 Cost : 0.041653 Accuracy 100.00%\n",
            "Epoch  460/1000 Cost : 0.040064 Accuracy 100.00%\n",
            "Epoch  480/1000 Cost : 0.038593 Accuracy 100.00%\n",
            "Epoch  500/1000 Cost : 0.037228 Accuracy 100.00%\n",
            "Epoch  520/1000 Cost : 0.035958 Accuracy 100.00%\n",
            "Epoch  540/1000 Cost : 0.034773 Accuracy 100.00%\n",
            "Epoch  560/1000 Cost : 0.033664 Accuracy 100.00%\n",
            "Epoch  580/1000 Cost : 0.032625 Accuracy 100.00%\n",
            "Epoch  600/1000 Cost : 0.031649 Accuracy 100.00%\n",
            "Epoch  620/1000 Cost : 0.030730 Accuracy 100.00%\n",
            "Epoch  640/1000 Cost : 0.029864 Accuracy 100.00%\n",
            "Epoch  660/1000 Cost : 0.029046 Accuracy 100.00%\n",
            "Epoch  680/1000 Cost : 0.028272 Accuracy 100.00%\n",
            "Epoch  700/1000 Cost : 0.027538 Accuracy 100.00%\n",
            "Epoch  720/1000 Cost : 0.026842 Accuracy 100.00%\n",
            "Epoch  740/1000 Cost : 0.026181 Accuracy 100.00%\n",
            "Epoch  760/1000 Cost : 0.025552 Accuracy 100.00%\n",
            "Epoch  780/1000 Cost : 0.024952 Accuracy 100.00%\n",
            "Epoch  800/1000 Cost : 0.024381 Accuracy 100.00%\n",
            "Epoch  820/1000 Cost : 0.023835 Accuracy 100.00%\n",
            "Epoch  840/1000 Cost : 0.023313 Accuracy 100.00%\n",
            "Epoch  860/1000 Cost : 0.022814 Accuracy 100.00%\n",
            "Epoch  880/1000 Cost : 0.022336 Accuracy 100.00%\n",
            "Epoch  900/1000 Cost : 0.021877 Accuracy 100.00%\n",
            "Epoch  920/1000 Cost : 0.021437 Accuracy 100.00%\n",
            "Epoch  940/1000 Cost : 0.021015 Accuracy 100.00%\n",
            "Epoch  960/1000 Cost : 0.020609 Accuracy 100.00%\n",
            "Epoch  980/1000 Cost : 0.020219 Accuracy 100.00%\n",
            "Epoch 1000/1000 Cost : 0.019843 Accuracy 100.00%\n"
          ]
        }
      ]
    }
  ]
}