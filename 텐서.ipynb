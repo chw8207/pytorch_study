{
  "nbformat": 4,
  "nbformat_minor": 0,
  "metadata": {
    "colab": {
      "provenance": [],
      "mount_file_id": "1bPh3kZNaXdcFyM7I0fFdz2AGzPf_Cnp_",
      "authorship_tag": "ABX9TyNweqAp2Radiqwt5XyDQV0A",
      "include_colab_link": true
    },
    "kernelspec": {
      "name": "python3",
      "display_name": "Python 3"
    },
    "language_info": {
      "name": "python"
    }
  },
  "cells": [
    {
      "cell_type": "markdown",
      "metadata": {
        "id": "view-in-github",
        "colab_type": "text"
      },
      "source": [
        "<a href=\"https://colab.research.google.com/github/chw8207/pytorch_study/blob/main/%ED%85%90%EC%84%9C.ipynb\" target=\"_parent\"><img src=\"https://colab.research.google.com/assets/colab-badge.svg\" alt=\"Open In Colab\"/></a>"
      ]
    },
    {
      "cell_type": "markdown",
      "source": [
        "### 파이토치 텐서 생성하기기"
      ],
      "metadata": {
        "id": "d_Ia281KAzGZ"
      }
    },
    {
      "cell_type": "code",
      "execution_count": 1,
      "metadata": {
        "id": "PepHaiIn39j1"
      },
      "outputs": [],
      "source": [
        "import torch"
      ]
    },
    {
      "cell_type": "code",
      "source": [
        "# 실수형 Float텐서를 선언하기\n",
        "ft = torch.FloatTensor([[1,2],\n",
        "                        [3,4]])\n",
        "\n",
        "ft"
      ],
      "metadata": {
        "colab": {
          "base_uri": "https://localhost:8080/"
        },
        "id": "OZFjOtC8_sOu",
        "outputId": "d862da65-bcb6-4ecb-abc8-d0d7732f7ea8"
      },
      "execution_count": 3,
      "outputs": [
        {
          "output_type": "execute_result",
          "data": {
            "text/plain": [
              "tensor([[1., 2.],\n",
              "        [3., 4.]])"
            ]
          },
          "metadata": {},
          "execution_count": 3
        }
      ]
    },
    {
      "cell_type": "code",
      "source": [
        "# Long타입 텐서 선언\n",
        "lt = torch.LongTensor([[1,2],\n",
        "                       [3,4]])\n",
        "\n",
        "lt"
      ],
      "metadata": {
        "colab": {
          "base_uri": "https://localhost:8080/"
        },
        "id": "aD1hj81c_6yN",
        "outputId": "0d31c53f-05c5-402a-9784-291e23a39a07"
      },
      "execution_count": 4,
      "outputs": [
        {
          "output_type": "execute_result",
          "data": {
            "text/plain": [
              "tensor([[1, 2],\n",
              "        [3, 4]])"
            ]
          },
          "metadata": {},
          "execution_count": 4
        }
      ]
    },
    {
      "cell_type": "code",
      "source": [
        "# Byte타입 텐서 선언\n",
        "bt = torch.ByteTensor([[1,0],\n",
        "                       [0,1]])\n",
        "\n",
        "bt"
      ],
      "metadata": {
        "colab": {
          "base_uri": "https://localhost:8080/"
        },
        "id": "0Y8YAFqHAPvb",
        "outputId": "e3683401-9d6d-48ea-f315-beea26509a61"
      },
      "execution_count": 5,
      "outputs": [
        {
          "output_type": "execute_result",
          "data": {
            "text/plain": [
              "tensor([[1, 0],\n",
              "        [0, 1]], dtype=torch.uint8)"
            ]
          },
          "metadata": {},
          "execution_count": 5
        }
      ]
    },
    {
      "cell_type": "code",
      "source": [
        "# 임의의 값으로 채워진 원하는 크기의 텐서 만들기\n",
        "x = torch.FloatTensor(3,2)\n",
        "\n",
        "x"
      ],
      "metadata": {
        "colab": {
          "base_uri": "https://localhost:8080/"
        },
        "id": "MCpVT3pLAhoU",
        "outputId": "b0b0c95e-0549-4488-ccc6-f7dab95d198b"
      },
      "execution_count": 7,
      "outputs": [
        {
          "output_type": "execute_result",
          "data": {
            "text/plain": [
              "tensor([[1.1490e-29, 4.5719e-41],\n",
              "        [1.1490e-29, 4.5719e-41],\n",
              "        [0.0000e+00, 0.0000e+00]])"
            ]
          },
          "metadata": {},
          "execution_count": 7
        }
      ]
    },
    {
      "cell_type": "markdown",
      "source": [
        "### 넘파이 호환"
      ],
      "metadata": {
        "id": "oq9cZ9l_A2gx"
      }
    },
    {
      "cell_type": "code",
      "source": [
        "import torch\n",
        "import numpy as np"
      ],
      "metadata": {
        "id": "_hEoVg1oA6b_"
      },
      "execution_count": 8,
      "outputs": []
    },
    {
      "cell_type": "code",
      "source": [
        "# 넘파이 배열 생성\n",
        "x = np.array([[1,2],\n",
        "              [3,4]])\n",
        "print(x, type(x))"
      ],
      "metadata": {
        "colab": {
          "base_uri": "https://localhost:8080/"
        },
        "id": "Px8lxFL5A-2h",
        "outputId": "ac370341-9a7f-4ae1-8652-f71ede4a2917"
      },
      "execution_count": 9,
      "outputs": [
        {
          "output_type": "stream",
          "name": "stdout",
          "text": [
            "[[1 2]\n",
            " [3 4]] <class 'numpy.ndarray'>\n"
          ]
        }
      ]
    },
    {
      "cell_type": "code",
      "source": [
        "# 파이토치 텐서로 변환\n",
        "x = torch.from_numpy(x)\n",
        "print(x, type(x))"
      ],
      "metadata": {
        "colab": {
          "base_uri": "https://localhost:8080/"
        },
        "id": "MC2UMGlXBI-Q",
        "outputId": "cd7ce5a6-bf83-45b5-a93b-fd127fda8652"
      },
      "execution_count": 10,
      "outputs": [
        {
          "output_type": "stream",
          "name": "stdout",
          "text": [
            "tensor([[1, 2],\n",
            "        [3, 4]]) <class 'torch.Tensor'>\n"
          ]
        }
      ]
    },
    {
      "cell_type": "code",
      "source": [
        "# 넘파이 배열로 변환\n",
        "x = x.numpy()\n",
        "print(x, type(x))"
      ],
      "metadata": {
        "colab": {
          "base_uri": "https://localhost:8080/"
        },
        "id": "DrTyc12VBTJd",
        "outputId": "1b17e0db-fae0-4599-b759-e7db3b0e830c"
      },
      "execution_count": 11,
      "outputs": [
        {
          "output_type": "stream",
          "name": "stdout",
          "text": [
            "[[1 2]\n",
            " [3 4]] <class 'numpy.ndarray'>\n"
          ]
        }
      ]
    },
    {
      "cell_type": "markdown",
      "source": [
        "### 텐서 타입 변환환"
      ],
      "metadata": {
        "id": "kfF4jXTdBba2"
      }
    },
    {
      "cell_type": "code",
      "source": [
        "# Float 타입을 Long 타입으로 변환하기\n",
        "ft.long()"
      ],
      "metadata": {
        "colab": {
          "base_uri": "https://localhost:8080/"
        },
        "id": "eRmBRYDNBiCb",
        "outputId": "27641749-72da-4028-c8df-7bbf3b1584df"
      },
      "execution_count": 12,
      "outputs": [
        {
          "output_type": "execute_result",
          "data": {
            "text/plain": [
              "tensor([[1, 2],\n",
              "        [3, 4]])"
            ]
          },
          "metadata": {},
          "execution_count": 12
        }
      ]
    },
    {
      "cell_type": "code",
      "source": [
        "# Long 타입을 Float 타입으로 변환하기\n",
        "lt.float()"
      ],
      "metadata": {
        "colab": {
          "base_uri": "https://localhost:8080/"
        },
        "id": "Ney1eEvqBqdv",
        "outputId": "afa5d82a-6ba5-422e-d99b-ede0d0a7cf63"
      },
      "execution_count": 13,
      "outputs": [
        {
          "output_type": "execute_result",
          "data": {
            "text/plain": [
              "tensor([[1., 2.],\n",
              "        [3., 4.]])"
            ]
          },
          "metadata": {},
          "execution_count": 13
        }
      ]
    },
    {
      "cell_type": "markdown",
      "source": [
        "### 텐서 크기 구하기"
      ],
      "metadata": {
        "id": "1WkTqRgJBym3"
      }
    },
    {
      "cell_type": "code",
      "source": [
        "# 3*2*2 텐서 선언하기\n",
        "x = torch.FloatTensor([[[1,2],\n",
        "                        [3,4]],\n",
        "                       [[5,6],\n",
        "                        [7,8]],\n",
        "                       [[9,10],\n",
        "                        [11,12]]])"
      ],
      "metadata": {
        "id": "BweTQKMQB0EP"
      },
      "execution_count": 14,
      "outputs": []
    },
    {
      "cell_type": "code",
      "source": [
        "# 크기 확인\n",
        "print(x.size())"
      ],
      "metadata": {
        "colab": {
          "base_uri": "https://localhost:8080/"
        },
        "id": "M2AX0DILCKRA",
        "outputId": "a33421d6-5378-4a1d-b5d4-50b6df6f09c9"
      },
      "execution_count": 15,
      "outputs": [
        {
          "output_type": "stream",
          "name": "stdout",
          "text": [
            "torch.Size([3, 2, 2])\n"
          ]
        }
      ]
    },
    {
      "cell_type": "code",
      "source": [
        "print(x.shape)"
      ],
      "metadata": {
        "colab": {
          "base_uri": "https://localhost:8080/"
        },
        "id": "NHRGhSC5CWx9",
        "outputId": "8f75a1d1-8ac3-4c77-bfb0-abdb7a50cfdf"
      },
      "execution_count": 16,
      "outputs": [
        {
          "output_type": "stream",
          "name": "stdout",
          "text": [
            "torch.Size([3, 2, 2])\n"
          ]
        }
      ]
    },
    {
      "cell_type": "code",
      "source": [
        "# 특정 차원의 크기 확인하기\n",
        "print(x.size(1))"
      ],
      "metadata": {
        "colab": {
          "base_uri": "https://localhost:8080/"
        },
        "id": "4lnzSF-HCcfg",
        "outputId": "c0aefb6f-4524-4d8e-9524-46c1c1bef002"
      },
      "execution_count": 17,
      "outputs": [
        {
          "output_type": "stream",
          "name": "stdout",
          "text": [
            "2\n"
          ]
        }
      ]
    },
    {
      "cell_type": "code",
      "source": [
        "print(x.shape[1])"
      ],
      "metadata": {
        "colab": {
          "base_uri": "https://localhost:8080/"
        },
        "id": "LmInad5KCkpB",
        "outputId": "03e79bc9-e825-46e7-936a-199dda5e6a5e"
      },
      "execution_count": 18,
      "outputs": [
        {
          "output_type": "stream",
          "name": "stdout",
          "text": [
            "2\n"
          ]
        }
      ]
    },
    {
      "cell_type": "code",
      "source": [
        "# 텐서 차원의 개수 확인하기\n",
        "print(x.dim())"
      ],
      "metadata": {
        "colab": {
          "base_uri": "https://localhost:8080/"
        },
        "id": "FeTzP0h6DYce",
        "outputId": "2bb9106a-3d03-4d4c-fc8e-9872752d735b"
      },
      "execution_count": 19,
      "outputs": [
        {
          "output_type": "stream",
          "name": "stdout",
          "text": [
            "3\n"
          ]
        }
      ]
    },
    {
      "cell_type": "code",
      "source": [
        "print(len(x.size()))"
      ],
      "metadata": {
        "colab": {
          "base_uri": "https://localhost:8080/"
        },
        "id": "lurb9HVaDctt",
        "outputId": "12adf73e-ca37-45cb-961c-211ab5449309"
      },
      "execution_count": 21,
      "outputs": [
        {
          "output_type": "stream",
          "name": "stdout",
          "text": [
            "3\n"
          ]
        }
      ]
    }
  ]
}