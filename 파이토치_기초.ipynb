{
  "nbformat": 4,
  "nbformat_minor": 0,
  "metadata": {
    "colab": {
      "provenance": [],
      "machine_shape": "hm",
      "gpuType": "V100",
      "mount_file_id": "1ScvLpPpsTgRPPdp8Avblh3Yyo7WDvkCH",
      "authorship_tag": "ABX9TyPJVWU13Em7EoVim9OvwIGM",
      "include_colab_link": true
    },
    "kernelspec": {
      "name": "python3",
      "display_name": "Python 3"
    },
    "language_info": {
      "name": "python"
    },
    "accelerator": "GPU"
  },
  "cells": [
    {
      "cell_type": "markdown",
      "metadata": {
        "id": "view-in-github",
        "colab_type": "text"
      },
      "source": [
        "<a href=\"https://colab.research.google.com/github/chw8207/pytorch_study/blob/main/%ED%8C%8C%EC%9D%B4%ED%86%A0%EC%B9%98_%EA%B8%B0%EC%B4%88.ipynb\" target=\"_parent\"><img src=\"https://colab.research.google.com/assets/colab-badge.svg\" alt=\"Open In Colab\"/></a>"
      ]
    },
    {
      "cell_type": "code",
      "source": [
        "from google.colab import drive\n",
        "drive.mount('/content/drive')"
      ],
      "metadata": {
        "colab": {
          "base_uri": "https://localhost:8080/"
        },
        "id": "PZiCVJfjPiA0",
        "outputId": "f6208060-d5ec-4d51-a3c1-d0bf4832ff1d"
      },
      "execution_count": null,
      "outputs": [
        {
          "output_type": "stream",
          "name": "stdout",
          "text": [
            "Mounted at /content/drive\n"
          ]
        }
      ]
    },
    {
      "cell_type": "code",
      "execution_count": 13,
      "metadata": {
        "id": "PNhjSNKKPMeQ"
      },
      "outputs": [],
      "source": [
        "import tensorflow as tf\n",
        "import torch\n",
        "import pandas as pd\n",
        "import numpy as np\n",
        "from torch import optim, nn\n",
        "from torch.utils.data import TensorDataset, DataLoader, Dataset"
      ]
    },
    {
      "cell_type": "code",
      "source": [
        "device_name = tf.test.gpu_device_name()\n",
        "if device_name != '/device:GPU:0' :\n",
        "    raise SystemError('GPU device not found')\n",
        "print(f'Found GPU at: {device_name}')"
      ],
      "metadata": {
        "colab": {
          "base_uri": "https://localhost:8080/"
        },
        "id": "IyseAfaGPbmu",
        "outputId": "f7aa24b9-f37b-4bda-d7ca-befc3699be06"
      },
      "execution_count": 2,
      "outputs": [
        {
          "output_type": "stream",
          "name": "stdout",
          "text": [
            "Found GPU at: /device:GPU:0\n"
          ]
        }
      ]
    },
    {
      "cell_type": "code",
      "source": [
        "from tensorflow.python.client import device_lib\n",
        "\n",
        "print(device_lib.list_local_devices())"
      ],
      "metadata": {
        "colab": {
          "base_uri": "https://localhost:8080/"
        },
        "id": "O3La-RFhPdFj",
        "outputId": "67d07bdf-b8ee-489a-abac-01e4b768d92a"
      },
      "execution_count": 3,
      "outputs": [
        {
          "output_type": "stream",
          "name": "stdout",
          "text": [
            "[name: \"/device:CPU:0\"\n",
            "device_type: \"CPU\"\n",
            "memory_limit: 268435456\n",
            "locality {\n",
            "}\n",
            "incarnation: 16894799595682062605\n",
            "xla_global_id: -1\n",
            ", name: \"/device:GPU:0\"\n",
            "device_type: \"GPU\"\n",
            "memory_limit: 15510929408\n",
            "locality {\n",
            "  bus_id: 1\n",
            "  links {\n",
            "  }\n",
            "}\n",
            "incarnation: 13986138932465722896\n",
            "physical_device_desc: \"device: 0, name: Tesla V100-SXM2-16GB, pci bus id: 0000:00:04.0, compute capability: 7.0\"\n",
            "xla_global_id: 416903419\n",
            "]\n"
          ]
        }
      ]
    },
    {
      "cell_type": "code",
      "source": [
        "print(torch.__version__)\n",
        "print(torch.cuda.is_available())"
      ],
      "metadata": {
        "colab": {
          "base_uri": "https://localhost:8080/"
        },
        "id": "D1IFYHE7QVRc",
        "outputId": "01df98f5-32d8-4167-f61f-dd35c2fd93a7"
      },
      "execution_count": 4,
      "outputs": [
        {
          "output_type": "stream",
          "name": "stdout",
          "text": [
            "2.1.0+cu121\n",
            "True\n"
          ]
        }
      ]
    },
    {
      "cell_type": "markdown",
      "source": [
        "### 텐서 생성"
      ],
      "metadata": {
        "id": "UhWmSRWUQpz2"
      }
    },
    {
      "cell_type": "code",
      "source": [
        "print(torch.tensor([1,2,3]))\n",
        "print(torch.Tensor([[1,2,3],[4,5,6]]))\n",
        "print(torch.LongTensor([1,2,3]))\n",
        "print(torch.FloatTensor([1,2,3]))"
      ],
      "metadata": {
        "colab": {
          "base_uri": "https://localhost:8080/"
        },
        "id": "uWeVz8OuQppl",
        "outputId": "1503765b-059e-4740-ff56-20e1de7ac59a"
      },
      "execution_count": null,
      "outputs": [
        {
          "output_type": "stream",
          "name": "stdout",
          "text": [
            "tensor([1, 2, 3])\n",
            "tensor([[1., 2., 3.],\n",
            "        [4., 5., 6.]])\n",
            "tensor([1, 2, 3])\n",
            "tensor([1., 2., 3.])\n"
          ]
        }
      ]
    },
    {
      "cell_type": "markdown",
      "source": [
        "### 텐서 속성"
      ],
      "metadata": {
        "id": "pN55rqXBRMqT"
      }
    },
    {
      "cell_type": "code",
      "source": [
        "tensor = torch.rand(1,2)\n",
        "print(tensor)\n",
        "print(tensor.shape)\n",
        "print(tensor.dtype)\n",
        "print(tensor.device)"
      ],
      "metadata": {
        "colab": {
          "base_uri": "https://localhost:8080/"
        },
        "id": "A_FFbPsURMfn",
        "outputId": "073746c2-1a23-49fa-b507-5bc87bc5d262"
      },
      "execution_count": null,
      "outputs": [
        {
          "output_type": "stream",
          "name": "stdout",
          "text": [
            "tensor([[0.4146, 0.6093]])\n",
            "torch.Size([1, 2])\n",
            "torch.float32\n",
            "cpu\n"
          ]
        }
      ]
    },
    {
      "cell_type": "markdown",
      "source": [
        "### 차원변환"
      ],
      "metadata": {
        "id": "ZaGmKbLHRvJt"
      }
    },
    {
      "cell_type": "code",
      "source": [
        "tensor = torch.rand(1,2)\n",
        "print(tensor)\n",
        "print(tensor.shape)"
      ],
      "metadata": {
        "colab": {
          "base_uri": "https://localhost:8080/"
        },
        "id": "AuVkHZDURwWp",
        "outputId": "406c2a5b-61fb-48fd-9e1c-b4dac54ee552"
      },
      "execution_count": null,
      "outputs": [
        {
          "output_type": "stream",
          "name": "stdout",
          "text": [
            "tensor([[0.8151, 0.4838]])\n",
            "torch.Size([1, 2])\n"
          ]
        }
      ]
    },
    {
      "cell_type": "code",
      "source": [
        "tensor = tensor.reshape(2,1)\n",
        "print(tensor)\n",
        "print(tensor.shape)"
      ],
      "metadata": {
        "colab": {
          "base_uri": "https://localhost:8080/"
        },
        "id": "D3BXIsN7SC4w",
        "outputId": "97f403b8-4b5b-45b8-eb0a-e1af04996f0e"
      },
      "execution_count": null,
      "outputs": [
        {
          "output_type": "stream",
          "name": "stdout",
          "text": [
            "tensor([[0.8151],\n",
            "        [0.4838]])\n",
            "torch.Size([2, 1])\n"
          ]
        }
      ]
    },
    {
      "cell_type": "markdown",
      "source": [
        "### 자료형 설정"
      ],
      "metadata": {
        "id": "IVccYjg1SNCz"
      }
    },
    {
      "cell_type": "code",
      "source": [
        "tensor = torch.rand((3,3), dtype=torch.float)\n",
        "print(tensor)"
      ],
      "metadata": {
        "colab": {
          "base_uri": "https://localhost:8080/"
        },
        "id": "jDMXjFUUSMqa",
        "outputId": "450ea06c-1272-46a8-9951-a5123ef5f679"
      },
      "execution_count": null,
      "outputs": [
        {
          "output_type": "stream",
          "name": "stdout",
          "text": [
            "tensor([[0.5237, 0.1550, 0.4514],\n",
            "        [0.1769, 0.7696, 0.8515],\n",
            "        [0.5145, 0.7181, 0.3754]])\n"
          ]
        }
      ]
    },
    {
      "cell_type": "markdown",
      "source": [
        "### 장치 설정"
      ],
      "metadata": {
        "id": "3f_Gxc0ESgUl"
      }
    },
    {
      "cell_type": "code",
      "source": [
        "device = 'cuda' if torch.cuda.is_available() else 'cpu'\n",
        "cpu = torch.FloatTensor([1,2,3])\n",
        "gpu = torch.cuda.FloatTensor([1,2,3])\n",
        "tensor = torch.rand((1,1), device=device)\n",
        "print(device)\n",
        "print(cpu)\n",
        "print(gpu)\n",
        "print(tensor)"
      ],
      "metadata": {
        "colab": {
          "base_uri": "https://localhost:8080/"
        },
        "id": "rP87KtrySgLu",
        "outputId": "9e5b42c1-31d9-4739-e5e6-7827be11cf7e"
      },
      "execution_count": null,
      "outputs": [
        {
          "output_type": "stream",
          "name": "stderr",
          "text": [
            "<ipython-input-4-b0dbfd40ce26>:3: UserWarning: The torch.cuda.*DtypeTensor constructors are no longer recommended. It's best to use methods such as torch.tensor(data, dtype=*, device='cuda') to create tensors. (Triggered internally at ../torch/csrc/tensor/python_tensor.cpp:83.)\n",
            "  gpu = torch.cuda.FloatTensor([1,2,3])\n"
          ]
        },
        {
          "output_type": "stream",
          "name": "stdout",
          "text": [
            "cuda\n",
            "tensor([1., 2., 3.])\n",
            "tensor([1., 2., 3.], device='cuda:0')\n",
            "tensor([[0.3150]], device='cuda:0')\n"
          ]
        }
      ]
    },
    {
      "cell_type": "markdown",
      "source": [
        "### 장치 변환"
      ],
      "metadata": {
        "id": "3Cj0wFobTIV8"
      }
    },
    {
      "cell_type": "code",
      "source": [
        "cpu = torch.FloatTensor([1,2,3])\n",
        "gpu = cpu.cuda()\n",
        "gpu2cpu = gpu.cpu()\n",
        "cpu2gpu = cpu.to('cuda')\n",
        "print(cpu)\n",
        "print(gpu)\n",
        "print(gpu2cpu)\n",
        "print(cpu2gpu)"
      ],
      "metadata": {
        "id": "hyBN9dxSS_EI",
        "colab": {
          "base_uri": "https://localhost:8080/"
        },
        "outputId": "beaa77b7-c147-4686-f954-d9ee3fdc574c"
      },
      "execution_count": null,
      "outputs": [
        {
          "output_type": "stream",
          "name": "stdout",
          "text": [
            "tensor([1., 2., 3.])\n",
            "tensor([1., 2., 3.], device='cuda:0')\n",
            "tensor([1., 2., 3.])\n",
            "tensor([1., 2., 3.], device='cuda:0')\n"
          ]
        }
      ]
    },
    {
      "cell_type": "markdown",
      "source": [
        "### 넘파이 배열의 텐서 변환"
      ],
      "metadata": {
        "id": "h762zCZezW6Z"
      }
    },
    {
      "cell_type": "code",
      "source": [
        "ndarray = np.array([1,2,3], dtype=np.uint8)\n",
        "print(torch.tensor(ndarray))\n",
        "print(torch.Tensor(ndarray))\n",
        "print(torch.from_numpy(ndarray))"
      ],
      "metadata": {
        "colab": {
          "base_uri": "https://localhost:8080/"
        },
        "id": "yxCGr6QRzWt1",
        "outputId": "89acd6dd-0d20-4c4c-e02d-e746e0decba3"
      },
      "execution_count": null,
      "outputs": [
        {
          "output_type": "stream",
          "name": "stdout",
          "text": [
            "tensor([1, 2, 3], dtype=torch.uint8)\n",
            "tensor([1., 2., 3.])\n",
            "tensor([1, 2, 3], dtype=torch.uint8)\n"
          ]
        }
      ]
    },
    {
      "cell_type": "markdown",
      "source": [
        "### 텐서의 넘파이 배열 변환"
      ],
      "metadata": {
        "id": "R72hwXCOz_fE"
      }
    },
    {
      "cell_type": "code",
      "source": [
        "tensor = torch.cuda.FloatTensor([1,2,3])\n",
        "ndarray = tensor.detach().cpu().numpy()\n",
        "print(ndarray)\n",
        "print(type(ndarray))"
      ],
      "metadata": {
        "colab": {
          "base_uri": "https://localhost:8080/"
        },
        "id": "tdbw9NGMz_YA",
        "outputId": "027f7d11-79f4-4462-db63-b30ff53bd81c"
      },
      "execution_count": null,
      "outputs": [
        {
          "output_type": "stream",
          "name": "stdout",
          "text": [
            "[1. 2. 3.]\n",
            "<class 'numpy.ndarray'>\n"
          ]
        }
      ]
    },
    {
      "cell_type": "markdown",
      "source": [
        "### 단순선형회귀: 넘파이"
      ],
      "metadata": {
        "id": "1TEtCYFMB0aD"
      }
    },
    {
      "cell_type": "code",
      "source": [
        "X = np.array(\n",
        "    [[1], [2], [3], [4], [5], [6], [7], [8], [9], [10],\n",
        "    [11], [12], [13], [14], [15], [16], [17], [18], [19], [20],\n",
        "    [21], [22], [23], [24], [25], [26], [27], [28], [29], [30]]\n",
        ")\n",
        "y = np.array(\n",
        "    [[0.94], [1.98], [2.88], [3.92], [3.96], [4.55], [5.64], [6.3], [7.44], [9.1],\n",
        "    [8.46], [9.5], [10.67], [11.16], [14], [11.83], [14.4], [14.25], [16.2], [16.32],\n",
        "    [17.46], [19.8], [18], [21.34], [22], [22.5], [24.57], [26.04], [21.6], [28.8]]\n",
        ")"
      ],
      "metadata": {
        "id": "AufcPHlt_iNJ"
      },
      "execution_count": null,
      "outputs": []
    },
    {
      "cell_type": "code",
      "source": [
        "# 하이퍼파라미터 초기화\n",
        "weight = 0.0\n",
        "bias = 0.0\n",
        "learning_rate = 0.005"
      ],
      "metadata": {
        "id": "8xIC2t_9CBBt"
      },
      "execution_count": null,
      "outputs": []
    },
    {
      "cell_type": "code",
      "source": [
        "# 에폭 설정\n",
        "for epoch in range(10000) :\n",
        "  # 손실 함수 및 가설 선언\n",
        "  y_hat = weight*X + bias\n",
        "  cost = ((y-y_hat)**2).mean()\n",
        "\n",
        "  # 가중치와 편향 갱신\n",
        "  weight = weight - learning_rate*((y_hat-y)*X).mean()\n",
        "  bias = bias - learning_rate*(y_hat-y).mean()\n",
        "\n",
        "  if (epoch + 1) % 1000 == 0 :\n",
        "    print(f'Epoch: {epoch+1:4d}, Weight: {weight:.3f}, Bias: {bias:.3f}, Cost: {cost:.3f}')"
      ],
      "metadata": {
        "colab": {
          "base_uri": "https://localhost:8080/"
        },
        "id": "Teqa7nVbCQuf",
        "outputId": "edad4374-b88d-4b36-e2fd-93955fd57f62"
      },
      "execution_count": null,
      "outputs": [
        {
          "output_type": "stream",
          "name": "stdout",
          "text": [
            "Epoch: 1000, Weight: 0.872, Bias: -0.290, Cost: 1.377\n",
            "Epoch: 2000, Weight: 0.877, Bias: -0.391, Cost: 1.373\n",
            "Epoch: 3000, Weight: 0.878, Bias: -0.422, Cost: 1.372\n",
            "Epoch: 4000, Weight: 0.879, Bias: -0.432, Cost: 1.372\n",
            "Epoch: 5000, Weight: 0.879, Bias: -0.435, Cost: 1.372\n",
            "Epoch: 6000, Weight: 0.879, Bias: -0.436, Cost: 1.372\n",
            "Epoch: 7000, Weight: 0.879, Bias: -0.436, Cost: 1.372\n",
            "Epoch: 8000, Weight: 0.879, Bias: -0.436, Cost: 1.372\n",
            "Epoch: 9000, Weight: 0.879, Bias: -0.436, Cost: 1.372\n",
            "Epoch: 10000, Weight: 0.879, Bias: -0.436, Cost: 1.372\n"
          ]
        }
      ]
    },
    {
      "cell_type": "markdown",
      "source": [
        "- 초깃값 다르게: learning_rate=0.001"
      ],
      "metadata": {
        "id": "2z_RrycADs3s"
      }
    },
    {
      "cell_type": "code",
      "source": [
        "# 하이퍼파라미터 초기화\n",
        "weight = 0.0\n",
        "bias = 0.0\n",
        "learning_rate = 0.001"
      ],
      "metadata": {
        "id": "xvmPo1-UDrxy"
      },
      "execution_count": null,
      "outputs": []
    },
    {
      "cell_type": "code",
      "source": [
        "# 에폭 설정\n",
        "for epoch in range(10000) :\n",
        "  # 손실 함수 및 가설 선언\n",
        "  y_hat = weight*X + bias\n",
        "  cost = ((y-y_hat)**2).mean()\n",
        "\n",
        "  # 가중치와 편향 갱신\n",
        "  weight = weight - learning_rate*((y_hat-y)*X).mean()\n",
        "  bias = bias - learning_rate*(y_hat-y).mean()\n",
        "\n",
        "  if (epoch + 1) % 1000 == 0 :\n",
        "    print(f'Epoch: {epoch+1:4d}, Weight: {weight:.3f}, Bias: {bias:.3f}, Cost: {cost:.3f}')"
      ],
      "metadata": {
        "colab": {
          "base_uri": "https://localhost:8080/"
        },
        "id": "LjI7hvpPD0xv",
        "outputId": "08424ee5-c55b-4a2a-f7a3-2a208d0b18c9"
      },
      "execution_count": null,
      "outputs": [
        {
          "output_type": "stream",
          "name": "stdout",
          "text": [
            "Epoch: 1000, Weight: 0.860, Bias: -0.059, Cost: 1.406\n",
            "Epoch: 2000, Weight: 0.864, Bias: -0.138, Cost: 1.393\n",
            "Epoch: 3000, Weight: 0.867, Bias: -0.201, Cost: 1.385\n",
            "Epoch: 4000, Weight: 0.870, Bias: -0.251, Cost: 1.380\n",
            "Epoch: 5000, Weight: 0.872, Bias: -0.290, Cost: 1.377\n",
            "Epoch: 6000, Weight: 0.873, Bias: -0.321, Cost: 1.375\n",
            "Epoch: 7000, Weight: 0.874, Bias: -0.345, Cost: 1.374\n",
            "Epoch: 8000, Weight: 0.875, Bias: -0.364, Cost: 1.373\n",
            "Epoch: 9000, Weight: 0.876, Bias: -0.379, Cost: 1.373\n",
            "Epoch: 10000, Weight: 0.877, Bias: -0.391, Cost: 1.373\n"
          ]
        }
      ]
    },
    {
      "cell_type": "markdown",
      "source": [
        "- 초깃값 다르게: learning_rate=0.006"
      ],
      "metadata": {
        "id": "27G9uPdbD9_d"
      }
    },
    {
      "cell_type": "code",
      "source": [
        "# 하이퍼파라미터 초기화\n",
        "weight = 0.0\n",
        "bias = 0.0\n",
        "learning_rate = 0.006"
      ],
      "metadata": {
        "id": "7E1gLLoaD91k"
      },
      "execution_count": null,
      "outputs": []
    },
    {
      "cell_type": "code",
      "source": [
        "# 에폭 설정\n",
        "for epoch in range(10000) :\n",
        "  # 손실 함수 및 가설 선언\n",
        "  y_hat = weight*X + bias\n",
        "  cost = ((y-y_hat)**2).mean()\n",
        "\n",
        "  # 가중치와 편향 갱신\n",
        "  weight = weight - learning_rate*((y_hat-y)*X).mean()\n",
        "  bias = bias - learning_rate*(y_hat-y).mean()\n",
        "\n",
        "  if (epoch + 1) % 1000 == 0 :\n",
        "    print(f'Epoch: {epoch+1:4d}, Weight: {weight:.3f}, Bias: {bias:.3f}, Cost: {cost:.3f}')"
      ],
      "metadata": {
        "colab": {
          "base_uri": "https://localhost:8080/"
        },
        "id": "2Gqa0Rc4EDUB",
        "outputId": "b59b121c-b7e1-47f8-e1fd-ebec794cbdd5"
      },
      "execution_count": null,
      "outputs": [
        {
          "output_type": "stream",
          "name": "stdout",
          "text": [
            "Epoch: 1000, Weight: 0.873, Bias: -0.321, Cost: 1.375\n",
            "Epoch: 2000, Weight: 0.878, Bias: -0.408, Cost: 1.372\n",
            "Epoch: 3000, Weight: 0.879, Bias: -0.429, Cost: 1.372\n",
            "Epoch: 4000, Weight: 0.879, Bias: -0.434, Cost: 1.372\n",
            "Epoch: 5000, Weight: 0.879, Bias: -0.436, Cost: 1.372\n",
            "Epoch: 6000, Weight: 0.879, Bias: -0.436, Cost: 1.372\n",
            "Epoch: 7000, Weight: 0.879, Bias: -0.436, Cost: 1.372\n",
            "Epoch: 8000, Weight: 0.879, Bias: -0.436, Cost: 1.372\n",
            "Epoch: 9000, Weight: 0.879, Bias: -0.436, Cost: 1.372\n",
            "Epoch: 10000, Weight: 0.879, Bias: -0.436, Cost: 1.372\n"
          ]
        }
      ]
    },
    {
      "cell_type": "markdown",
      "source": [
        "### 단순선형회귀: 파이토치"
      ],
      "metadata": {
        "id": "-yy6ib8oEVCB"
      }
    },
    {
      "cell_type": "code",
      "source": [
        "X = torch.FloatTensor(\n",
        "    [[1], [2], [3], [4], [5], [6], [7], [8], [9], [10],\n",
        "    [11], [12], [13], [14], [15], [16], [17], [18], [19], [20],\n",
        "    [21], [22], [23], [24], [25], [26], [27], [28], [29], [30]]\n",
        ")\n",
        "y = torch.FloatTensor(\n",
        "    [[0.94], [1.98], [2.88], [3.92], [3.96], [4.55], [5.64], [6.3], [7.44], [9.1],\n",
        "    [8.46], [9.5], [10.67], [11.16], [14], [11.83], [14.4], [14.25], [16.2], [16.32],\n",
        "    [17.46], [19.8], [18], [21.34], [22], [22.5], [24.57], [26.04], [21.6], [28.8]]\n",
        ")"
      ],
      "metadata": {
        "id": "N42n3pN8EU5W"
      },
      "execution_count": null,
      "outputs": []
    },
    {
      "cell_type": "code",
      "source": [
        "# 하이퍼파라미터 초기화\n",
        "weight = torch.zeros(1, requires_grad=True)\n",
        "bias = torch.zeros(1, requires_grad=True)\n",
        "learning_rate = 0.001"
      ],
      "metadata": {
        "id": "bHMsJ_tiEl6B"
      },
      "execution_count": null,
      "outputs": []
    },
    {
      "cell_type": "code",
      "source": [
        "# 최적화 선언\n",
        "optimizer = optim.SGD([weight,bias], lr=learning_rate)"
      ],
      "metadata": {
        "id": "WaEQgSh9E5BP"
      },
      "execution_count": null,
      "outputs": []
    },
    {
      "cell_type": "code",
      "source": [
        "# 에폭, 가설, 손실 함수 선언\n",
        "for epoch in range(10000) :\n",
        "  hypothesis = X*weight + bias\n",
        "  cost = torch.mean((hypothesis-y)**2)\n",
        "\n",
        "  # 가중치와 편향 갱신\n",
        "  optimizer.zero_grad()\n",
        "  cost.backward()\n",
        "  optimizer.step()\n",
        "\n",
        "  if (epoch + 1) % 1000 == 0:\n",
        "    print(f\"Epoch : {epoch+1:4d}, Weight : {weight.item():.3f}, Bias : {bias.item():.3f}, Cost : {cost:.3f}\")"
      ],
      "metadata": {
        "colab": {
          "base_uri": "https://localhost:8080/"
        },
        "id": "bL0DIeqkFMKJ",
        "outputId": "79441d83-82bb-4974-f1b1-8fd21d25c289"
      },
      "execution_count": null,
      "outputs": [
        {
          "output_type": "stream",
          "name": "stdout",
          "text": [
            "Epoch : 1000, Weight : 0.873, Bias : -0.321, Cost : 1.375\n",
            "Epoch : 2000, Weight : 0.875, Bias : -0.364, Cost : 1.373\n",
            "Epoch : 3000, Weight : 0.877, Bias : -0.391, Cost : 1.373\n",
            "Epoch : 4000, Weight : 0.878, Bias : -0.408, Cost : 1.372\n",
            "Epoch : 5000, Weight : 0.878, Bias : -0.419, Cost : 1.372\n",
            "Epoch : 6000, Weight : 0.878, Bias : -0.425, Cost : 1.372\n",
            "Epoch : 7000, Weight : 0.879, Bias : -0.429, Cost : 1.372\n",
            "Epoch : 8000, Weight : 0.879, Bias : -0.432, Cost : 1.372\n",
            "Epoch : 9000, Weight : 0.879, Bias : -0.433, Cost : 1.372\n",
            "Epoch : 10000, Weight : 0.879, Bias : -0.434, Cost : 1.372\n"
          ]
        }
      ]
    },
    {
      "cell_type": "code",
      "source": [
        "# 에폭, 가설, 손실 함수 선언\n",
        "for epoch in range(10000) :\n",
        "  hypothesis = X*weight + bias\n",
        "  cost = torch.mean((hypothesis-y)**2)\n",
        "\n",
        "  print(f'Epoch: {epoch+1:4d}')\n",
        "  print(f'Step [1]: Gradient: {weight.grad}, Weight: {weight.item():.5f}')\n",
        "\n",
        "  optimizer.zero_grad()\n",
        "  print(f'Step [2]: Gradient: {weight.grad}, Weight: {weight.item():.5f}')\n",
        "\n",
        "  cost.backward()\n",
        "  print(f'Step [3]: Gradient: {weight.grad}, Weight: {weight.item():.5f}')\n",
        "\n",
        "  optimizer.step()\n",
        "  print(f'Step [4]: Gradient: {weight.grad}, Weight: {weight.item():.5f}')\n",
        "\n",
        "  if epoch==3:\n",
        "    break"
      ],
      "metadata": {
        "colab": {
          "base_uri": "https://localhost:8080/"
        },
        "id": "EDrZgqFGPDtN",
        "outputId": "6d585fa0-bf1e-4101-d522-6bbfb2797258"
      },
      "execution_count": null,
      "outputs": [
        {
          "output_type": "stream",
          "name": "stdout",
          "text": [
            "Epoch:    1\n",
            "Step [1]: Gradient: None, Weight: 0.00000\n",
            "Step [2]: Gradient: None, Weight: 0.00000\n",
            "Step [3]: Gradient: tensor([-540.4854]), Weight: 0.00000\n",
            "Step [4]: Gradient: tensor([-540.4854]), Weight: 0.54049\n",
            "Epoch:    2\n",
            "Step [1]: Gradient: tensor([-540.4854]), Weight: 0.54049\n",
            "Step [2]: Gradient: None, Weight: 0.54049\n",
            "Step [3]: Gradient: tensor([-198.9818]), Weight: 0.54049\n",
            "Step [4]: Gradient: tensor([-198.9818]), Weight: 0.73947\n",
            "Epoch:    3\n",
            "Step [1]: Gradient: tensor([-198.9818]), Weight: 0.73947\n",
            "Step [2]: Gradient: None, Weight: 0.73947\n",
            "Step [3]: Gradient: tensor([-73.2604]), Weight: 0.73947\n",
            "Step [4]: Gradient: tensor([-73.2604]), Weight: 0.81273\n",
            "Epoch:    4\n",
            "Step [1]: Gradient: tensor([-73.2604]), Weight: 0.81273\n",
            "Step [2]: Gradient: None, Weight: 0.81273\n",
            "Step [3]: Gradient: tensor([-26.9772]), Weight: 0.81273\n",
            "Step [4]: Gradient: tensor([-26.9772]), Weight: 0.83970\n"
          ]
        }
      ]
    },
    {
      "cell_type": "markdown",
      "source": [
        "### 신경망 패키지"
      ],
      "metadata": {
        "id": "6VCr2O-lQVO9"
      }
    },
    {
      "cell_type": "code",
      "source": [
        "X = torch.FloatTensor(\n",
        "    [[1], [2], [3], [4], [5], [6], [7], [8], [9], [10],\n",
        "    [11], [12], [13], [14], [15], [16], [17], [18], [19], [20],\n",
        "    [21], [22], [23], [24], [25], [26], [27], [28], [29], [30]]\n",
        ")\n",
        "y = torch.FloatTensor(\n",
        "    [[0.94], [1.98], [2.88], [3.92], [3.96], [4.55], [5.64], [6.3], [7.44], [9.1],\n",
        "    [8.46], [9.5], [10.67], [11.16], [14], [11.83], [14.4], [14.25], [16.2], [16.32],\n",
        "    [17.46], [19.8], [18], [21.34], [22], [22.5], [24.57], [26.04], [21.6], [28.8]]\n",
        ")"
      ],
      "metadata": {
        "id": "UUzsr7r-QVC7"
      },
      "execution_count": null,
      "outputs": []
    },
    {
      "cell_type": "code",
      "source": [
        "# 모델 선언\n",
        "model = nn.Linear(1,1, bias=True)\n",
        "criterion = torch.nn.MSELoss()\n",
        "learning_rate = 0.001"
      ],
      "metadata": {
        "id": "WB6wS2v4QgJY"
      },
      "execution_count": null,
      "outputs": []
    },
    {
      "cell_type": "code",
      "source": [
        "# 순방향 연산\n",
        "for epoch in range(10000) :\n",
        "  output = model(X)\n",
        "  cost = criterion(output, y)\n",
        "\n",
        "  if (epoch+1) % 1000 == 0 :\n",
        "    print(f'Epoch: {epoch+1:4d}, Model: {list(model.parameters())}, Cost: {cost:.3f}')"
      ],
      "metadata": {
        "colab": {
          "base_uri": "https://localhost:8080/"
        },
        "id": "B1f80OuPQ6c7",
        "outputId": "540caa21-7222-4bda-b6df-7cedd60f9a21"
      },
      "execution_count": null,
      "outputs": [
        {
          "output_type": "stream",
          "name": "stdout",
          "text": [
            "Epoch: 1000, Model: [Parameter containing:\n",
            "tensor([[-0.7150]], requires_grad=True), Parameter containing:\n",
            "tensor([0.8314], requires_grad=True)], Cost: 741.075\n",
            "Epoch: 2000, Model: [Parameter containing:\n",
            "tensor([[-0.7150]], requires_grad=True), Parameter containing:\n",
            "tensor([0.8314], requires_grad=True)], Cost: 741.075\n",
            "Epoch: 3000, Model: [Parameter containing:\n",
            "tensor([[-0.7150]], requires_grad=True), Parameter containing:\n",
            "tensor([0.8314], requires_grad=True)], Cost: 741.075\n",
            "Epoch: 4000, Model: [Parameter containing:\n",
            "tensor([[-0.7150]], requires_grad=True), Parameter containing:\n",
            "tensor([0.8314], requires_grad=True)], Cost: 741.075\n",
            "Epoch: 5000, Model: [Parameter containing:\n",
            "tensor([[-0.7150]], requires_grad=True), Parameter containing:\n",
            "tensor([0.8314], requires_grad=True)], Cost: 741.075\n",
            "Epoch: 6000, Model: [Parameter containing:\n",
            "tensor([[-0.7150]], requires_grad=True), Parameter containing:\n",
            "tensor([0.8314], requires_grad=True)], Cost: 741.075\n",
            "Epoch: 7000, Model: [Parameter containing:\n",
            "tensor([[-0.7150]], requires_grad=True), Parameter containing:\n",
            "tensor([0.8314], requires_grad=True)], Cost: 741.075\n",
            "Epoch: 8000, Model: [Parameter containing:\n",
            "tensor([[-0.7150]], requires_grad=True), Parameter containing:\n",
            "tensor([0.8314], requires_grad=True)], Cost: 741.075\n",
            "Epoch: 9000, Model: [Parameter containing:\n",
            "tensor([[-0.7150]], requires_grad=True), Parameter containing:\n",
            "tensor([0.8314], requires_grad=True)], Cost: 741.075\n",
            "Epoch: 10000, Model: [Parameter containing:\n",
            "tensor([[-0.7150]], requires_grad=True), Parameter containing:\n",
            "tensor([0.8314], requires_grad=True)], Cost: 741.075\n"
          ]
        }
      ]
    },
    {
      "cell_type": "markdown",
      "source": [
        "## 데이터세트와 데이터로더"
      ],
      "metadata": {
        "id": "i1iggtLIRuMc"
      }
    },
    {
      "cell_type": "markdown",
      "source": [
        "### 다중선형회귀"
      ],
      "metadata": {
        "id": "9I0cHxJxTk_I"
      }
    },
    {
      "cell_type": "code",
      "source": [
        "# 학습 데이터 선언\n",
        "train_X = torch.FloatTensor([\n",
        "    [1,2],[2,3],[3,4],[4,5],[5,6],[6,7]\n",
        "])\n",
        "train_y = torch.FloatTensor([\n",
        "    [0.1,1.5],[1,2.8],[1.9,4.1],[2.8,5.4],[3.7,6.7],[4.6,8]\n",
        "])"
      ],
      "metadata": {
        "id": "TFbidgCMRuFJ"
      },
      "execution_count": 6,
      "outputs": []
    },
    {
      "cell_type": "code",
      "source": [
        "# 데이터세트와 데이터 로더\n",
        "train_dataset = TensorDataset(train_X, train_y)\n",
        "train_dataloader = DataLoader(train_dataset, batch_size=2, shuffle=True, drop_last=True)"
      ],
      "metadata": {
        "id": "hLe60n9bUT0h"
      },
      "execution_count": 8,
      "outputs": []
    },
    {
      "cell_type": "code",
      "source": [
        "# 모델, 오차함수, 최적화 함수 선언\n",
        "model = nn.Linear(2, 2, bias=True)\n",
        "criterion = nn.MSELoss()\n",
        "optimizer = optim.SGD(model.parameters(), lr=0.0001)"
      ],
      "metadata": {
        "id": "zZopodYlU1n_"
      },
      "execution_count": 9,
      "outputs": []
    },
    {
      "cell_type": "code",
      "source": [
        "# 데이터로더 적용\n",
        "for epoch in range(20000):\n",
        "  # 에폭마다 오차를 다시 계산하기 위해 초기화\n",
        "  cost = 0\n",
        "\n",
        "  for batch in train_dataloader:\n",
        "    X, y = batch\n",
        "    output = model(X)\n",
        "\n",
        "    loss = criterion(output, y)\n",
        "\n",
        "    optimizer.zero_grad()\n",
        "    loss.backward()\n",
        "    optimizer.step()\n",
        "\n",
        "    cost += loss\n",
        "\n",
        "  cost = cost / len(train_dataloader)\n",
        "\n",
        "  if (epoch + 1) % 1000 == 0 :\n",
        "    print(f'Epoch: {epoch+1:4d}, Model: {list(model.parameters())}, Cost: {cost:.3f}')"
      ],
      "metadata": {
        "colab": {
          "base_uri": "https://localhost:8080/"
        },
        "id": "DIJw7hPkVZOj",
        "outputId": "0be412cb-6adf-4aff-8608-e30741e3d48b"
      },
      "execution_count": 10,
      "outputs": [
        {
          "output_type": "stream",
          "name": "stdout",
          "text": [
            "Epoch: 1000, Model: [Parameter containing:\n",
            "tensor([[0.2332, 0.4948],\n",
            "        [0.5020, 0.7758]], requires_grad=True), Parameter containing:\n",
            "tensor([-0.5722, -0.4823], requires_grad=True)], Cost: 0.051\n",
            "Epoch: 2000, Model: [Parameter containing:\n",
            "tensor([[0.2563, 0.4829],\n",
            "        [0.5050, 0.7742]], requires_grad=True), Parameter containing:\n",
            "tensor([-0.6073, -0.4868], requires_grad=True)], Cost: 0.045\n",
            "Epoch: 3000, Model: [Parameter containing:\n",
            "tensor([[0.2779, 0.4718],\n",
            "        [0.5078, 0.7728]], requires_grad=True), Parameter containing:\n",
            "tensor([-0.6400, -0.4910], requires_grad=True)], Cost: 0.039\n",
            "Epoch: 4000, Model: [Parameter containing:\n",
            "tensor([[0.2981, 0.4613],\n",
            "        [0.5104, 0.7714]], requires_grad=True), Parameter containing:\n",
            "tensor([-0.6706, -0.4950], requires_grad=True)], Cost: 0.034\n",
            "Epoch: 5000, Model: [Parameter containing:\n",
            "tensor([[0.3170, 0.4516],\n",
            "        [0.5128, 0.7702]], requires_grad=True), Parameter containing:\n",
            "tensor([-0.6992, -0.4987], requires_grad=True)], Cost: 0.030\n",
            "Epoch: 6000, Model: [Parameter containing:\n",
            "tensor([[0.3346, 0.4425],\n",
            "        [0.5151, 0.7690]], requires_grad=True), Parameter containing:\n",
            "tensor([-0.7260, -0.5022], requires_grad=True)], Cost: 0.026\n",
            "Epoch: 7000, Model: [Parameter containing:\n",
            "tensor([[0.3511, 0.4340],\n",
            "        [0.5172, 0.7679]], requires_grad=True), Parameter containing:\n",
            "tensor([-0.7510, -0.5054], requires_grad=True)], Cost: 0.023\n",
            "Epoch: 8000, Model: [Parameter containing:\n",
            "tensor([[0.3665, 0.4260],\n",
            "        [0.5192, 0.7669]], requires_grad=True), Parameter containing:\n",
            "tensor([-0.7744, -0.5084], requires_grad=True)], Cost: 0.020\n",
            "Epoch: 9000, Model: [Parameter containing:\n",
            "tensor([[0.3810, 0.4185],\n",
            "        [0.5211, 0.7659]], requires_grad=True), Parameter containing:\n",
            "tensor([-0.7963, -0.5113], requires_grad=True)], Cost: 0.018\n",
            "Epoch: 10000, Model: [Parameter containing:\n",
            "tensor([[0.3945, 0.4116],\n",
            "        [0.5228, 0.7650]], requires_grad=True), Parameter containing:\n",
            "tensor([-0.8167, -0.5139], requires_grad=True)], Cost: 0.015\n",
            "Epoch: 11000, Model: [Parameter containing:\n",
            "tensor([[0.4071, 0.4051],\n",
            "        [0.5245, 0.7642]], requires_grad=True), Parameter containing:\n",
            "tensor([-0.8359, -0.5164], requires_grad=True)], Cost: 0.013\n",
            "Epoch: 12000, Model: [Parameter containing:\n",
            "tensor([[0.4189, 0.3990],\n",
            "        [0.5260, 0.7634]], requires_grad=True), Parameter containing:\n",
            "tensor([-0.8538, -0.5187], requires_grad=True)], Cost: 0.012\n",
            "Epoch: 13000, Model: [Parameter containing:\n",
            "tensor([[0.4299, 0.3933],\n",
            "        [0.5274, 0.7626]], requires_grad=True), Parameter containing:\n",
            "tensor([-0.8705, -0.5209], requires_grad=True)], Cost: 0.010\n",
            "Epoch: 14000, Model: [Parameter containing:\n",
            "tensor([[0.4402, 0.3880],\n",
            "        [0.5288, 0.7619]], requires_grad=True), Parameter containing:\n",
            "tensor([-0.8861, -0.5229], requires_grad=True)], Cost: 0.009\n",
            "Epoch: 15000, Model: [Parameter containing:\n",
            "tensor([[0.4499, 0.3830],\n",
            "        [0.5300, 0.7613]], requires_grad=True), Parameter containing:\n",
            "tensor([-0.9007, -0.5248], requires_grad=True)], Cost: 0.008\n",
            "Epoch: 16000, Model: [Parameter containing:\n",
            "tensor([[0.4589, 0.3783],\n",
            "        [0.5312, 0.7607]], requires_grad=True), Parameter containing:\n",
            "tensor([-0.9144, -0.5266], requires_grad=True)], Cost: 0.007\n",
            "Epoch: 17000, Model: [Parameter containing:\n",
            "tensor([[0.4673, 0.3740],\n",
            "        [0.5323, 0.7601]], requires_grad=True), Parameter containing:\n",
            "tensor([-0.9272, -0.5282], requires_grad=True)], Cost: 0.006\n",
            "Epoch: 18000, Model: [Parameter containing:\n",
            "tensor([[0.4752, 0.3699],\n",
            "        [0.5333, 0.7596]], requires_grad=True), Parameter containing:\n",
            "tensor([-0.9392, -0.5297], requires_grad=True)], Cost: 0.005\n",
            "Epoch: 19000, Model: [Parameter containing:\n",
            "tensor([[0.4826, 0.3661],\n",
            "        [0.5342, 0.7591]], requires_grad=True), Parameter containing:\n",
            "tensor([-0.9503, -0.5312], requires_grad=True)], Cost: 0.005\n",
            "Epoch: 20000, Model: [Parameter containing:\n",
            "tensor([[0.4895, 0.3625],\n",
            "        [0.5351, 0.7587]], requires_grad=True), Parameter containing:\n",
            "tensor([-0.9608, -0.5325], requires_grad=True)], Cost: 0.004\n"
          ]
        }
      ]
    },
    {
      "cell_type": "markdown",
      "source": [
        "- 편향 제거"
      ],
      "metadata": {
        "id": "FVfKyB9fYQSE"
      }
    },
    {
      "cell_type": "code",
      "source": [
        "# 모델, 오차함수, 최적화 함수 선언\n",
        "model = nn.Linear(2, 2, bias=False)\n",
        "criterion = nn.MSELoss()\n",
        "optimizer = optim.SGD(model.parameters(), lr=0.0001)"
      ],
      "metadata": {
        "id": "1n_pPNFwYQA3"
      },
      "execution_count": 11,
      "outputs": []
    },
    {
      "cell_type": "code",
      "source": [
        "# 데이터로더 적용\n",
        "for epoch in range(20000):\n",
        "  # 에폭마다 오차를 다시 계산하기 위해 초기화\n",
        "  cost = 0\n",
        "\n",
        "  for batch in train_dataloader:\n",
        "    X, y = batch\n",
        "    output = model(X)\n",
        "\n",
        "    loss = criterion(output, y)\n",
        "\n",
        "    optimizer.zero_grad()\n",
        "    loss.backward()\n",
        "    optimizer.step()\n",
        "\n",
        "    cost += loss\n",
        "\n",
        "  cost = cost / len(train_dataloader)\n",
        "\n",
        "  if (epoch + 1) % 1000 == 0 :\n",
        "    print(f'Epoch: {epoch+1:4d}, Model: {list(model.parameters())}, Cost: {cost:.3f}')"
      ],
      "metadata": {
        "colab": {
          "base_uri": "https://localhost:8080/"
        },
        "id": "B1vE_aTzYVQ1",
        "outputId": "71ac535a-53da-4b46-878a-281c28b602a3"
      },
      "execution_count": 12,
      "outputs": [
        {
          "output_type": "stream",
          "name": "stdout",
          "text": [
            "Epoch: 1000, Model: [Parameter containing:\n",
            "tensor([[0.3124, 0.3218],\n",
            "        [0.3771, 0.7844]], requires_grad=True)], Cost: 0.154\n",
            "Epoch: 2000, Model: [Parameter containing:\n",
            "tensor([[0.3438, 0.2964],\n",
            "        [0.3935, 0.7712]], requires_grad=True)], Cost: 0.148\n",
            "Epoch: 3000, Model: [Parameter containing:\n",
            "tensor([[0.3744, 0.2716],\n",
            "        [0.4095, 0.7582]], requires_grad=True)], Cost: 0.141\n",
            "Epoch: 4000, Model: [Parameter containing:\n",
            "tensor([[0.4044, 0.2474],\n",
            "        [0.4251, 0.7456]], requires_grad=True)], Cost: 0.135\n",
            "Epoch: 5000, Model: [Parameter containing:\n",
            "tensor([[0.4337, 0.2237],\n",
            "        [0.4404, 0.7333]], requires_grad=True)], Cost: 0.129\n",
            "Epoch: 6000, Model: [Parameter containing:\n",
            "tensor([[0.4624, 0.2005],\n",
            "        [0.4553, 0.7212]], requires_grad=True)], Cost: 0.123\n",
            "Epoch: 7000, Model: [Parameter containing:\n",
            "tensor([[0.4904, 0.1779],\n",
            "        [0.4699, 0.7094]], requires_grad=True)], Cost: 0.117\n",
            "Epoch: 8000, Model: [Parameter containing:\n",
            "tensor([[0.5177, 0.1558],\n",
            "        [0.4841, 0.6979]], requires_grad=True)], Cost: 0.112\n",
            "Epoch: 9000, Model: [Parameter containing:\n",
            "tensor([[0.5445, 0.1342],\n",
            "        [0.4981, 0.6866]], requires_grad=True)], Cost: 0.107\n",
            "Epoch: 10000, Model: [Parameter containing:\n",
            "tensor([[0.5706, 0.1130],\n",
            "        [0.5117, 0.6756]], requires_grad=True)], Cost: 0.102\n",
            "Epoch: 11000, Model: [Parameter containing:\n",
            "tensor([[0.5962, 0.0924],\n",
            "        [0.5250, 0.6649]], requires_grad=True)], Cost: 0.098\n",
            "Epoch: 12000, Model: [Parameter containing:\n",
            "tensor([[0.6211, 0.0722],\n",
            "        [0.5380, 0.6543]], requires_grad=True)], Cost: 0.093\n",
            "Epoch: 13000, Model: [Parameter containing:\n",
            "tensor([[0.6455, 0.0525],\n",
            "        [0.5507, 0.6441]], requires_grad=True)], Cost: 0.089\n",
            "Epoch: 14000, Model: [Parameter containing:\n",
            "tensor([[0.6694, 0.0332],\n",
            "        [0.5631, 0.6340]], requires_grad=True)], Cost: 0.085\n",
            "Epoch: 15000, Model: [Parameter containing:\n",
            "tensor([[0.6927, 0.0143],\n",
            "        [0.5753, 0.6242]], requires_grad=True)], Cost: 0.081\n",
            "Epoch: 16000, Model: [Parameter containing:\n",
            "tensor([[ 0.7155, -0.0041],\n",
            "        [ 0.5872,  0.6146]], requires_grad=True)], Cost: 0.078\n",
            "Epoch: 17000, Model: [Parameter containing:\n",
            "tensor([[ 0.7378, -0.0221],\n",
            "        [ 0.5988,  0.6052]], requires_grad=True)], Cost: 0.074\n",
            "Epoch: 18000, Model: [Parameter containing:\n",
            "tensor([[ 0.7595, -0.0397],\n",
            "        [ 0.6101,  0.5961]], requires_grad=True)], Cost: 0.071\n",
            "Epoch: 19000, Model: [Parameter containing:\n",
            "tensor([[ 0.7808, -0.0569],\n",
            "        [ 0.6212,  0.5871]], requires_grad=True)], Cost: 0.068\n",
            "Epoch: 20000, Model: [Parameter containing:\n",
            "tensor([[ 0.8016, -0.0737],\n",
            "        [ 0.6320,  0.5783]], requires_grad=True)], Cost: 0.065\n"
          ]
        }
      ]
    },
    {
      "cell_type": "markdown",
      "source": [
        "## 모델/데이터세트 분리"
      ],
      "metadata": {
        "id": "3L9kheAKYrIb"
      }
    },
    {
      "cell_type": "markdown",
      "source": [
        "### 비선형 회귀"
      ],
      "metadata": {
        "id": "zJhKuA6zdSwm"
      }
    },
    {
      "cell_type": "code",
      "source": [
        "# 사용자 정의 데이터세트\n",
        "class CustomDataset(Dataset):\n",
        "  def __init__(self, file_path):\n",
        "    df = pd.read_csv(file_path)\n",
        "    self.x = df.iloc[:,0].values\n",
        "    self.y = df.ilco[:,1].values\n",
        "    self.length = len(df)\n",
        "\n",
        "  def __getitem__(self, index):\n",
        "    x = torch.FloatTensor([self.x[index]**2, self.x[index]])\n",
        "    y = torch.FloatTensor([self.y[index]])\n",
        "\n",
        "  def __len__(self):\n",
        "    return self.length"
      ],
      "metadata": {
        "id": "mZ1mxWEAYrAR"
      },
      "execution_count": 14,
      "outputs": []
    },
    {
      "cell_type": "code",
      "source": [
        "# 사용자 정의 모델\n",
        "class CustomModel(nn.Module):\n",
        "  def __init__(self):\n",
        "    super().__init__()\n",
        "    self.layer = nn.Linear(2,1)\n",
        "\n",
        "  def forward(self, x):\n",
        "    x = self.layer(x)\n",
        "    return x"
      ],
      "metadata": {
        "id": "A7D4_Vo0ehYm"
      },
      "execution_count": 15,
      "outputs": []
    },
    {
      "cell_type": "code",
      "source": [
        "# 사용자 정의 데이터세트와 데이터로더\n",
        "train_datset = CustomDataset(\"\")"
      ],
      "metadata": {
        "colab": {
          "base_uri": "https://localhost:8080/",
          "height": 317
        },
        "id": "z9367a34fFNc",
        "outputId": "b01a88c6-7c26-47b8-f702-34b509f793ed"
      },
      "execution_count": 16,
      "outputs": [
        {
          "output_type": "error",
          "ename": "FileNotFoundError",
          "evalue": "[Errno 2] No such file or directory: '../datasets/non_linear.csv'",
          "traceback": [
            "\u001b[0;31m---------------------------------------------------------------------------\u001b[0m",
            "\u001b[0;31mFileNotFoundError\u001b[0m                         Traceback (most recent call last)",
            "\u001b[0;32m<ipython-input-16-e5028408fba8>\u001b[0m in \u001b[0;36m<cell line: 2>\u001b[0;34m()\u001b[0m\n\u001b[1;32m      1\u001b[0m \u001b[0;31m# 사용자 정의 데이터세트와 데이터로더\u001b[0m\u001b[0;34m\u001b[0m\u001b[0;34m\u001b[0m\u001b[0m\n\u001b[0;32m----> 2\u001b[0;31m \u001b[0mtrain_datset\u001b[0m \u001b[0;34m=\u001b[0m \u001b[0mCustomDataset\u001b[0m\u001b[0;34m(\u001b[0m\u001b[0;34m\"../datasets/non_linear.csv\"\u001b[0m\u001b[0;34m)\u001b[0m\u001b[0;34m\u001b[0m\u001b[0;34m\u001b[0m\u001b[0m\n\u001b[0m",
            "\u001b[0;32m<ipython-input-14-9f7ea387047c>\u001b[0m in \u001b[0;36m__init__\u001b[0;34m(self, file_path)\u001b[0m\n\u001b[1;32m      2\u001b[0m \u001b[0;32mclass\u001b[0m \u001b[0mCustomDataset\u001b[0m\u001b[0;34m(\u001b[0m\u001b[0mDataset\u001b[0m\u001b[0;34m)\u001b[0m\u001b[0;34m:\u001b[0m\u001b[0;34m\u001b[0m\u001b[0;34m\u001b[0m\u001b[0m\n\u001b[1;32m      3\u001b[0m   \u001b[0;32mdef\u001b[0m \u001b[0m__init__\u001b[0m\u001b[0;34m(\u001b[0m\u001b[0mself\u001b[0m\u001b[0;34m,\u001b[0m \u001b[0mfile_path\u001b[0m\u001b[0;34m)\u001b[0m\u001b[0;34m:\u001b[0m\u001b[0;34m\u001b[0m\u001b[0;34m\u001b[0m\u001b[0m\n\u001b[0;32m----> 4\u001b[0;31m     \u001b[0mdf\u001b[0m \u001b[0;34m=\u001b[0m \u001b[0mpd\u001b[0m\u001b[0;34m.\u001b[0m\u001b[0mread_csv\u001b[0m\u001b[0;34m(\u001b[0m\u001b[0mfile_path\u001b[0m\u001b[0;34m)\u001b[0m\u001b[0;34m\u001b[0m\u001b[0;34m\u001b[0m\u001b[0m\n\u001b[0m\u001b[1;32m      5\u001b[0m     \u001b[0mself\u001b[0m\u001b[0;34m.\u001b[0m\u001b[0mx\u001b[0m \u001b[0;34m=\u001b[0m \u001b[0mdf\u001b[0m\u001b[0;34m.\u001b[0m\u001b[0miloc\u001b[0m\u001b[0;34m[\u001b[0m\u001b[0;34m:\u001b[0m\u001b[0;34m,\u001b[0m\u001b[0;36m0\u001b[0m\u001b[0;34m]\u001b[0m\u001b[0;34m.\u001b[0m\u001b[0mvalues\u001b[0m\u001b[0;34m\u001b[0m\u001b[0;34m\u001b[0m\u001b[0m\n\u001b[1;32m      6\u001b[0m     \u001b[0mself\u001b[0m\u001b[0;34m.\u001b[0m\u001b[0my\u001b[0m \u001b[0;34m=\u001b[0m \u001b[0mdf\u001b[0m\u001b[0;34m.\u001b[0m\u001b[0milco\u001b[0m\u001b[0;34m[\u001b[0m\u001b[0;34m:\u001b[0m\u001b[0;34m,\u001b[0m\u001b[0;36m1\u001b[0m\u001b[0;34m]\u001b[0m\u001b[0;34m.\u001b[0m\u001b[0mvalues\u001b[0m\u001b[0;34m\u001b[0m\u001b[0;34m\u001b[0m\u001b[0m\n",
            "\u001b[0;32m/usr/local/lib/python3.10/dist-packages/pandas/util/_decorators.py\u001b[0m in \u001b[0;36mwrapper\u001b[0;34m(*args, **kwargs)\u001b[0m\n\u001b[1;32m    209\u001b[0m                 \u001b[0;32melse\u001b[0m\u001b[0;34m:\u001b[0m\u001b[0;34m\u001b[0m\u001b[0;34m\u001b[0m\u001b[0m\n\u001b[1;32m    210\u001b[0m                     \u001b[0mkwargs\u001b[0m\u001b[0;34m[\u001b[0m\u001b[0mnew_arg_name\u001b[0m\u001b[0;34m]\u001b[0m \u001b[0;34m=\u001b[0m \u001b[0mnew_arg_value\u001b[0m\u001b[0;34m\u001b[0m\u001b[0;34m\u001b[0m\u001b[0m\n\u001b[0;32m--> 211\u001b[0;31m             \u001b[0;32mreturn\u001b[0m \u001b[0mfunc\u001b[0m\u001b[0;34m(\u001b[0m\u001b[0;34m*\u001b[0m\u001b[0margs\u001b[0m\u001b[0;34m,\u001b[0m \u001b[0;34m**\u001b[0m\u001b[0mkwargs\u001b[0m\u001b[0;34m)\u001b[0m\u001b[0;34m\u001b[0m\u001b[0;34m\u001b[0m\u001b[0m\n\u001b[0m\u001b[1;32m    212\u001b[0m \u001b[0;34m\u001b[0m\u001b[0m\n\u001b[1;32m    213\u001b[0m         \u001b[0;32mreturn\u001b[0m \u001b[0mcast\u001b[0m\u001b[0;34m(\u001b[0m\u001b[0mF\u001b[0m\u001b[0;34m,\u001b[0m \u001b[0mwrapper\u001b[0m\u001b[0;34m)\u001b[0m\u001b[0;34m\u001b[0m\u001b[0;34m\u001b[0m\u001b[0m\n",
            "\u001b[0;32m/usr/local/lib/python3.10/dist-packages/pandas/util/_decorators.py\u001b[0m in \u001b[0;36mwrapper\u001b[0;34m(*args, **kwargs)\u001b[0m\n\u001b[1;32m    329\u001b[0m                     \u001b[0mstacklevel\u001b[0m\u001b[0;34m=\u001b[0m\u001b[0mfind_stack_level\u001b[0m\u001b[0;34m(\u001b[0m\u001b[0;34m)\u001b[0m\u001b[0;34m,\u001b[0m\u001b[0;34m\u001b[0m\u001b[0;34m\u001b[0m\u001b[0m\n\u001b[1;32m    330\u001b[0m                 )\n\u001b[0;32m--> 331\u001b[0;31m             \u001b[0;32mreturn\u001b[0m \u001b[0mfunc\u001b[0m\u001b[0;34m(\u001b[0m\u001b[0;34m*\u001b[0m\u001b[0margs\u001b[0m\u001b[0;34m,\u001b[0m \u001b[0;34m**\u001b[0m\u001b[0mkwargs\u001b[0m\u001b[0;34m)\u001b[0m\u001b[0;34m\u001b[0m\u001b[0;34m\u001b[0m\u001b[0m\n\u001b[0m\u001b[1;32m    332\u001b[0m \u001b[0;34m\u001b[0m\u001b[0m\n\u001b[1;32m    333\u001b[0m         \u001b[0;31m# error: \"Callable[[VarArg(Any), KwArg(Any)], Any]\" has no\u001b[0m\u001b[0;34m\u001b[0m\u001b[0;34m\u001b[0m\u001b[0m\n",
            "\u001b[0;32m/usr/local/lib/python3.10/dist-packages/pandas/io/parsers/readers.py\u001b[0m in \u001b[0;36mread_csv\u001b[0;34m(filepath_or_buffer, sep, delimiter, header, names, index_col, usecols, squeeze, prefix, mangle_dupe_cols, dtype, engine, converters, true_values, false_values, skipinitialspace, skiprows, skipfooter, nrows, na_values, keep_default_na, na_filter, verbose, skip_blank_lines, parse_dates, infer_datetime_format, keep_date_col, date_parser, dayfirst, cache_dates, iterator, chunksize, compression, thousands, decimal, lineterminator, quotechar, quoting, doublequote, escapechar, comment, encoding, encoding_errors, dialect, error_bad_lines, warn_bad_lines, on_bad_lines, delim_whitespace, low_memory, memory_map, float_precision, storage_options)\u001b[0m\n\u001b[1;32m    948\u001b[0m     \u001b[0mkwds\u001b[0m\u001b[0;34m.\u001b[0m\u001b[0mupdate\u001b[0m\u001b[0;34m(\u001b[0m\u001b[0mkwds_defaults\u001b[0m\u001b[0;34m)\u001b[0m\u001b[0;34m\u001b[0m\u001b[0;34m\u001b[0m\u001b[0m\n\u001b[1;32m    949\u001b[0m \u001b[0;34m\u001b[0m\u001b[0m\n\u001b[0;32m--> 950\u001b[0;31m     \u001b[0;32mreturn\u001b[0m \u001b[0m_read\u001b[0m\u001b[0;34m(\u001b[0m\u001b[0mfilepath_or_buffer\u001b[0m\u001b[0;34m,\u001b[0m \u001b[0mkwds\u001b[0m\u001b[0;34m)\u001b[0m\u001b[0;34m\u001b[0m\u001b[0;34m\u001b[0m\u001b[0m\n\u001b[0m\u001b[1;32m    951\u001b[0m \u001b[0;34m\u001b[0m\u001b[0m\n\u001b[1;32m    952\u001b[0m \u001b[0;34m\u001b[0m\u001b[0m\n",
            "\u001b[0;32m/usr/local/lib/python3.10/dist-packages/pandas/io/parsers/readers.py\u001b[0m in \u001b[0;36m_read\u001b[0;34m(filepath_or_buffer, kwds)\u001b[0m\n\u001b[1;32m    603\u001b[0m \u001b[0;34m\u001b[0m\u001b[0m\n\u001b[1;32m    604\u001b[0m     \u001b[0;31m# Create the parser.\u001b[0m\u001b[0;34m\u001b[0m\u001b[0;34m\u001b[0m\u001b[0m\n\u001b[0;32m--> 605\u001b[0;31m     \u001b[0mparser\u001b[0m \u001b[0;34m=\u001b[0m \u001b[0mTextFileReader\u001b[0m\u001b[0;34m(\u001b[0m\u001b[0mfilepath_or_buffer\u001b[0m\u001b[0;34m,\u001b[0m \u001b[0;34m**\u001b[0m\u001b[0mkwds\u001b[0m\u001b[0;34m)\u001b[0m\u001b[0;34m\u001b[0m\u001b[0;34m\u001b[0m\u001b[0m\n\u001b[0m\u001b[1;32m    606\u001b[0m \u001b[0;34m\u001b[0m\u001b[0m\n\u001b[1;32m    607\u001b[0m     \u001b[0;32mif\u001b[0m \u001b[0mchunksize\u001b[0m \u001b[0;32mor\u001b[0m \u001b[0miterator\u001b[0m\u001b[0;34m:\u001b[0m\u001b[0;34m\u001b[0m\u001b[0;34m\u001b[0m\u001b[0m\n",
            "\u001b[0;32m/usr/local/lib/python3.10/dist-packages/pandas/io/parsers/readers.py\u001b[0m in \u001b[0;36m__init__\u001b[0;34m(self, f, engine, **kwds)\u001b[0m\n\u001b[1;32m   1440\u001b[0m \u001b[0;34m\u001b[0m\u001b[0m\n\u001b[1;32m   1441\u001b[0m         \u001b[0mself\u001b[0m\u001b[0;34m.\u001b[0m\u001b[0mhandles\u001b[0m\u001b[0;34m:\u001b[0m \u001b[0mIOHandles\u001b[0m \u001b[0;34m|\u001b[0m \u001b[0;32mNone\u001b[0m \u001b[0;34m=\u001b[0m \u001b[0;32mNone\u001b[0m\u001b[0;34m\u001b[0m\u001b[0;34m\u001b[0m\u001b[0m\n\u001b[0;32m-> 1442\u001b[0;31m         \u001b[0mself\u001b[0m\u001b[0;34m.\u001b[0m\u001b[0m_engine\u001b[0m \u001b[0;34m=\u001b[0m \u001b[0mself\u001b[0m\u001b[0;34m.\u001b[0m\u001b[0m_make_engine\u001b[0m\u001b[0;34m(\u001b[0m\u001b[0mf\u001b[0m\u001b[0;34m,\u001b[0m \u001b[0mself\u001b[0m\u001b[0;34m.\u001b[0m\u001b[0mengine\u001b[0m\u001b[0;34m)\u001b[0m\u001b[0;34m\u001b[0m\u001b[0;34m\u001b[0m\u001b[0m\n\u001b[0m\u001b[1;32m   1443\u001b[0m \u001b[0;34m\u001b[0m\u001b[0m\n\u001b[1;32m   1444\u001b[0m     \u001b[0;32mdef\u001b[0m \u001b[0mclose\u001b[0m\u001b[0;34m(\u001b[0m\u001b[0mself\u001b[0m\u001b[0;34m)\u001b[0m \u001b[0;34m->\u001b[0m \u001b[0;32mNone\u001b[0m\u001b[0;34m:\u001b[0m\u001b[0;34m\u001b[0m\u001b[0;34m\u001b[0m\u001b[0m\n",
            "\u001b[0;32m/usr/local/lib/python3.10/dist-packages/pandas/io/parsers/readers.py\u001b[0m in \u001b[0;36m_make_engine\u001b[0;34m(self, f, engine)\u001b[0m\n\u001b[1;32m   1733\u001b[0m                 \u001b[0;32mif\u001b[0m \u001b[0;34m\"b\"\u001b[0m \u001b[0;32mnot\u001b[0m \u001b[0;32min\u001b[0m \u001b[0mmode\u001b[0m\u001b[0;34m:\u001b[0m\u001b[0;34m\u001b[0m\u001b[0;34m\u001b[0m\u001b[0m\n\u001b[1;32m   1734\u001b[0m                     \u001b[0mmode\u001b[0m \u001b[0;34m+=\u001b[0m \u001b[0;34m\"b\"\u001b[0m\u001b[0;34m\u001b[0m\u001b[0;34m\u001b[0m\u001b[0m\n\u001b[0;32m-> 1735\u001b[0;31m             self.handles = get_handle(\n\u001b[0m\u001b[1;32m   1736\u001b[0m                 \u001b[0mf\u001b[0m\u001b[0;34m,\u001b[0m\u001b[0;34m\u001b[0m\u001b[0;34m\u001b[0m\u001b[0m\n\u001b[1;32m   1737\u001b[0m                 \u001b[0mmode\u001b[0m\u001b[0;34m,\u001b[0m\u001b[0;34m\u001b[0m\u001b[0;34m\u001b[0m\u001b[0m\n",
            "\u001b[0;32m/usr/local/lib/python3.10/dist-packages/pandas/io/common.py\u001b[0m in \u001b[0;36mget_handle\u001b[0;34m(path_or_buf, mode, encoding, compression, memory_map, is_text, errors, storage_options)\u001b[0m\n\u001b[1;32m    854\u001b[0m         \u001b[0;32mif\u001b[0m \u001b[0mioargs\u001b[0m\u001b[0;34m.\u001b[0m\u001b[0mencoding\u001b[0m \u001b[0;32mand\u001b[0m \u001b[0;34m\"b\"\u001b[0m \u001b[0;32mnot\u001b[0m \u001b[0;32min\u001b[0m \u001b[0mioargs\u001b[0m\u001b[0;34m.\u001b[0m\u001b[0mmode\u001b[0m\u001b[0;34m:\u001b[0m\u001b[0;34m\u001b[0m\u001b[0;34m\u001b[0m\u001b[0m\n\u001b[1;32m    855\u001b[0m             \u001b[0;31m# Encoding\u001b[0m\u001b[0;34m\u001b[0m\u001b[0;34m\u001b[0m\u001b[0m\n\u001b[0;32m--> 856\u001b[0;31m             handle = open(\n\u001b[0m\u001b[1;32m    857\u001b[0m                 \u001b[0mhandle\u001b[0m\u001b[0;34m,\u001b[0m\u001b[0;34m\u001b[0m\u001b[0;34m\u001b[0m\u001b[0m\n\u001b[1;32m    858\u001b[0m                 \u001b[0mioargs\u001b[0m\u001b[0;34m.\u001b[0m\u001b[0mmode\u001b[0m\u001b[0;34m,\u001b[0m\u001b[0;34m\u001b[0m\u001b[0;34m\u001b[0m\u001b[0m\n",
            "\u001b[0;31mFileNotFoundError\u001b[0m: [Errno 2] No such file or directory: '../datasets/non_linear.csv'"
          ]
        }
      ]
    }
  ]
}