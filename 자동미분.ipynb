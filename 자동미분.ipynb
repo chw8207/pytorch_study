{
  "nbformat": 4,
  "nbformat_minor": 0,
  "metadata": {
    "colab": {
      "provenance": [],
      "mount_file_id": "1kGPJ2BOS4ZcmisLq58YKEZaedBW9KXwB",
      "authorship_tag": "ABX9TyO9+0RylqHvZH189+Ow+ede",
      "include_colab_link": true
    },
    "kernelspec": {
      "name": "python3",
      "display_name": "Python 3"
    },
    "language_info": {
      "name": "python"
    }
  },
  "cells": [
    {
      "cell_type": "markdown",
      "metadata": {
        "id": "view-in-github",
        "colab_type": "text"
      },
      "source": [
        "<a href=\"https://colab.research.google.com/github/chw8207/pytorch_study/blob/main/%EC%9E%90%EB%8F%99%EB%AF%B8%EB%B6%84.ipynb\" target=\"_parent\"><img src=\"https://colab.research.google.com/assets/colab-badge.svg\" alt=\"Open In Colab\"/></a>"
      ]
    },
    {
      "cell_type": "markdown",
      "source": [
        "### 자동미분 실습하기"
      ],
      "metadata": {
        "id": "X99AUW-62kKg"
      }
    },
    {
      "cell_type": "code",
      "execution_count": 1,
      "metadata": {
        "id": "n-9-vml-2Zql"
      },
      "outputs": [],
      "source": [
        "import torch"
      ]
    },
    {
      "cell_type": "code",
      "source": [
        "# 스칼라 텐서 W선언\n",
        "W = torch.tensor(2.0, requires_grad = True)"
      ],
      "metadata": {
        "id": "cUZ2a_GB2qXC"
      },
      "execution_count": 2,
      "outputs": []
    }
  ]
}