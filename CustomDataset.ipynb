{
  "nbformat": 4,
  "nbformat_minor": 0,
  "metadata": {
    "colab": {
      "provenance": [],
      "mount_file_id": "1IY1xc4wytZ9oGUWUqgNWeAWjzIi7nD71",
      "authorship_tag": "ABX9TyOtvKkcEKCwSGVACRa7dqlA",
      "include_colab_link": true
    },
    "kernelspec": {
      "name": "python3",
      "display_name": "Python 3"
    },
    "language_info": {
      "name": "python"
    }
  },
  "cells": [
    {
      "cell_type": "markdown",
      "metadata": {
        "id": "view-in-github",
        "colab_type": "text"
      },
      "source": [
        "<a href=\"https://colab.research.google.com/github/chw8207/pytorch_study/blob/main/CustomDataset.ipynb\" target=\"_parent\"><img src=\"https://colab.research.google.com/assets/colab-badge.svg\" alt=\"Open In Colab\"/></a>"
      ]
    },
    {
      "cell_type": "markdown",
      "source": [
        "### 커스텀 데이터셋(Custom Dataset)"
      ],
      "metadata": {
        "id": "s1Mj_xyPQEd-"
      }
    },
    {
      "cell_type": "code",
      "source": [
        "import torch\n",
        "import torch.nn as nn\n",
        "import torch.nn.functional as F"
      ],
      "metadata": {
        "id": "UiEMgLU7VOLH"
      },
      "execution_count": 1,
      "outputs": []
    },
    {
      "cell_type": "code",
      "execution_count": null,
      "metadata": {
        "id": "LYIE73pEP8JK"
      },
      "outputs": [],
      "source": [
        "class CustomDataset(torch.utils.Dataset) : \n",
        "  # 데이터셋의 전처리를 해주는 부분\n",
        "  def __init__(self) :\n",
        "  \n",
        "  # 데이터셋의 길이(총 샘플의 수)\n",
        "  def __len__(self) : \n",
        "  \n",
        "  # 데이터셋에서 특정 1개의 샘플을 가져오는 부분\n",
        "  def __getitem__(self, idx) : "
      ]
    },
    {
      "cell_type": "markdown",
      "source": [
        "### 커스텀 데이터셋(Custom Dataset)으로 선형 회귀 구현"
      ],
      "metadata": {
        "id": "OsEgyDT2V37H"
      }
    },
    {
      "cell_type": "code",
      "source": [
        "import torch\n",
        "import torch.nn as nn\n",
        "import torch.nn.functional as F\n",
        "from torch.utils.data import Dataset\n",
        "from torch.utils.data import DataLoader"
      ],
      "metadata": {
        "id": "L_i6cqMzV40s"
      },
      "execution_count": 2,
      "outputs": []
    },
    {
      "cell_type": "code",
      "source": [
        "# Dataset 상속\n",
        "class CustomDataset(Dataset): \n",
        "  def __init__(self):\n",
        "    self.X_data = [[73, 80, 75],\n",
        "                   [93, 88, 93],\n",
        "                   [89, 91, 90],\n",
        "                   [96, 98, 100],\n",
        "                   [73, 66, 70]]\n",
        "    self.y_data = [[152], [185], [180], [196], [142]]\n",
        "\n",
        "  # 총 데이터의 개수를 리턴\n",
        "  def __len__(self): \n",
        "    return len(self.X_data)\n",
        "\n",
        "  # 인덱스를 입력받아 그에 맵핑되는 입출력 데이터를 파이토치의 Tensor 형태로 리턴\n",
        "  def __getitem__(self, idx): \n",
        "    X = torch.FloatTensor(self.X_data[idx])\n",
        "    y = torch.FloatTensor(self.y_data[idx])\n",
        "    return X, y"
      ],
      "metadata": {
        "id": "Ijft6IV_WR3S"
      },
      "execution_count": 20,
      "outputs": []
    },
    {
      "cell_type": "code",
      "source": [
        "dataset = CustomDataset()\n",
        "dataloader = DataLoader(dataset, batch_size=2, shuffle=True)"
      ],
      "metadata": {
        "id": "BNgd4XABW8xd"
      },
      "execution_count": 21,
      "outputs": []
    },
    {
      "cell_type": "code",
      "source": [
        "model = torch.nn.Linear(3,1)\n",
        "optimizer = torch.optim.SGD(model.parameters(), lr=1e-5) "
      ],
      "metadata": {
        "id": "KJRNVuJ8aR-x"
      },
      "execution_count": 22,
      "outputs": []
    },
    {
      "cell_type": "code",
      "source": [
        "nb_epochs = 20\n",
        "for epoch in range(nb_epochs + 1):\n",
        "  for batch_idx, samples in enumerate(dataloader):\n",
        "    # print(batch_idx)\n",
        "    # print(samples)\n",
        "    X_train, y_train = samples\n",
        "\n",
        "    # H(x) 계산\n",
        "    prediction = model(X_train)"
      ],
      "metadata": {
        "id": "gbeK1BQ5alA5"
      },
      "execution_count": 24,
      "outputs": []
    }
  ]
}