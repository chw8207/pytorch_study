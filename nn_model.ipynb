{
  "nbformat": 4,
  "nbformat_minor": 0,
  "metadata": {
    "colab": {
      "provenance": [],
      "mount_file_id": "1Itif5Roc6_fEyBDJwhjGA0Po0Q46Hcel",
      "authorship_tag": "ABX9TyPeJjv/EoQVadpZkWHvNdxc",
      "include_colab_link": true
    },
    "kernelspec": {
      "name": "python3",
      "display_name": "Python 3"
    },
    "language_info": {
      "name": "python"
    }
  },
  "cells": [
    {
      "cell_type": "markdown",
      "metadata": {
        "id": "view-in-github",
        "colab_type": "text"
      },
      "source": [
        "<a href=\"https://colab.research.google.com/github/chw8207/pytorch_study/blob/main/nn_model.ipynb\" target=\"_parent\"><img src=\"https://colab.research.google.com/assets/colab-badge.svg\" alt=\"Open In Colab\"/></a>"
      ]
    },
    {
      "cell_type": "markdown",
      "source": [
        "### 함수 간단 예시\n",
        " - nn.Linear() : 선형회귀모델\n",
        " - nn.functional.mse_loss() : 평균제곱오차"
      ],
      "metadata": {
        "id": "ISJKsh630mji"
      }
    },
    {
      "cell_type": "code",
      "execution_count": null,
      "metadata": {
        "id": "RMJUNI-z0Uvl"
      },
      "outputs": [],
      "source": []
    }
  ]
}