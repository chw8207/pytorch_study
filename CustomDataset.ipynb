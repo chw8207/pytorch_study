{
  "nbformat": 4,
  "nbformat_minor": 0,
  "metadata": {
    "colab": {
      "provenance": [],
      "mount_file_id": "1IY1xc4wytZ9oGUWUqgNWeAWjzIi7nD71",
      "authorship_tag": "ABX9TyP/Xl9YQ5p1gjfzKXWs3sZi",
      "include_colab_link": true
    },
    "kernelspec": {
      "name": "python3",
      "display_name": "Python 3"
    },
    "language_info": {
      "name": "python"
    }
  },
  "cells": [
    {
      "cell_type": "markdown",
      "metadata": {
        "id": "view-in-github",
        "colab_type": "text"
      },
      "source": [
        "<a href=\"https://colab.research.google.com/github/chw8207/pytorch_study/blob/main/CustomDataset.ipynb\" target=\"_parent\"><img src=\"https://colab.research.google.com/assets/colab-badge.svg\" alt=\"Open In Colab\"/></a>"
      ]
    },
    {
      "cell_type": "markdown",
      "source": [
        "### 커스텀 데이터셋(Custom Dataset)"
      ],
      "metadata": {
        "id": "s1Mj_xyPQEd-"
      }
    },
    {
      "cell_type": "code",
      "source": [
        "import torch\n",
        "import torch.nn as nn\n",
        "import torch.nn.functional as F"
      ],
      "metadata": {
        "id": "UiEMgLU7VOLH"
      },
      "execution_count": 1,
      "outputs": []
    },
    {
      "cell_type": "code",
      "execution_count": null,
      "metadata": {
        "id": "LYIE73pEP8JK"
      },
      "outputs": [],
      "source": [
        "class CustomDataset(torch.utils.Dataset) : \n",
        "  # 데이터셋의 전처리를 해주는 부분\n",
        "  def __init__(self) :\n",
        "  \n",
        "  # 데이터셋의 길이(총 샘플의 수)\n",
        "  def __len__(self) : \n",
        "  \n",
        "  # 데이터셋에서 특정 1개의 샘플을 가져오는 부분\n",
        "  def __getitem__(self, idx) : "
      ]
    },
    {
      "cell_type": "markdown",
      "source": [
        "### 커스텀 데이터셋(Custom Dataset)으로 선형 회귀 구현"
      ],
      "metadata": {
        "id": "OsEgyDT2V37H"
      }
    },
    {
      "cell_type": "code",
      "source": [
        "import torch\n",
        "import torch.nn as nn\n",
        "import torch.nn.functional as F\n",
        "from torch.utils.data import Dataset\n",
        "from torch.utils.data import DataLoader"
      ],
      "metadata": {
        "id": "L_i6cqMzV40s"
      },
      "execution_count": 2,
      "outputs": []
    }
  ]
}