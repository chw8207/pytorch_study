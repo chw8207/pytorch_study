{
  "nbformat": 4,
  "nbformat_minor": 0,
  "metadata": {
    "colab": {
      "provenance": [],
      "mount_file_id": "1bPh3kZNaXdcFyM7I0fFdz2AGzPf_Cnp_",
      "authorship_tag": "ABX9TyMNk04qtcI/zgQIGBj1BpPP",
      "include_colab_link": true
    },
    "kernelspec": {
      "name": "python3",
      "display_name": "Python 3"
    },
    "language_info": {
      "name": "python"
    }
  },
  "cells": [
    {
      "cell_type": "markdown",
      "metadata": {
        "id": "view-in-github",
        "colab_type": "text"
      },
      "source": [
        "<a href=\"https://colab.research.google.com/github/chw8207/pytorch_study/blob/main/%EB%8B%A4%EC%A4%91%EC%84%A0%ED%98%95%ED%9A%8C%EA%B7%80.ipynb\" target=\"_parent\"><img src=\"https://colab.research.google.com/assets/colab-badge.svg\" alt=\"Open In Colab\"/></a>"
      ]
    },
    {
      "cell_type": "code",
      "execution_count": 1,
      "metadata": {
        "id": "PepHaiIn39j1"
      },
      "outputs": [],
      "source": [
        "import torch\n",
        "import torch.nn as nn\n",
        "import torch.nn.functional as F\n",
        "import torch.optim as optim"
      ]
    },
    {
      "cell_type": "code",
      "source": [
        "torch.manual_seed(1)"
      ],
      "metadata": {
        "colab": {
          "base_uri": "https://localhost:8080/"
        },
        "id": "a5a8Wk_R4V8l",
        "outputId": "85a94417-4433-4016-b7f5-85713776e81f"
      },
      "execution_count": 2,
      "outputs": [
        {
          "output_type": "execute_result",
          "data": {
            "text/plain": [
              "<torch._C.Generator at 0x7f7fc39a2c50>"
            ]
          },
          "metadata": {},
          "execution_count": 2
        }
      ]
    },
    {
      "cell_type": "code",
      "source": [
        "# 훈련 데이터\n",
        "X1_train = torch.FloatTensor([[73],[93],[89],[96],[73]])\n",
        "X2_train = torch.FloatTensor([[80],[88],[91],[98],[66]])\n",
        "X3_train = torch.FloatTensor([[75],[93],[90],[100],[70]])\n",
        "y_train = torch.FloatTensor([[152],[185],[180],[196],[142]])"
      ],
      "metadata": {
        "id": "2M1t4JtB4fW1"
      },
      "execution_count": 3,
      "outputs": []
    },
    {
      "cell_type": "code",
      "source": [
        "# W, b 초기화\n",
        "W1 = torch.zeros(1, requires_grad=True)\n",
        "W2 = torch.zeros(1, requires_grad=True)\n",
        "W3 = torch.zeros(1, requires_grad=True)\n",
        "b = torch.zeros(1, requires_grad=True)"
      ],
      "metadata": {
        "id": "lvWNybuP5TbB"
      },
      "execution_count": 4,
      "outputs": []
    },
    {
      "cell_type": "code",
      "source": [
        "# optimizer 설정\n",
        "optimizer = optim.SGD([W1,W2,W3,b], lr=1e-5)\n",
        "\n",
        "nb_epochs = 1000\n",
        "for epoch in range(nb_epochs+1) : \n",
        "  # H(x) 계산\n",
        "  hypothesis = X1_train*W1 + X2_train*W2 + X3_train*W3 + b\n",
        "\n",
        "  # cost 계산\n",
        "  cost = torch.mean((hypothesis-y_train)**2)\n",
        "\n",
        "  # cost로 H(x) 개선\n",
        "  optimizer.zero_grad()\n",
        "  cost.backward()\n",
        "  optimizer.step()\n",
        "\n",
        "  # 100번마다 로그 출력\n",
        "  if epoch%100==0 : \n",
        "    print(f'Epoch {epoch:4d}/{nb_epochs} W1: {W1.item():.3f} W2: {W2.item():.3f} W3: {W3.item():.3f} b: {b.item():.3f} cost: {cost.item():.6f}')"
      ],
      "metadata": {
        "colab": {
          "base_uri": "https://localhost:8080/"
        },
        "id": "Y-0nAJnhhLHN",
        "outputId": "5d34b6ca-d844-4277-c71e-34c374e0865f"
      },
      "execution_count": 12,
      "outputs": [
        {
          "output_type": "stream",
          "name": "stdout",
          "text": [
            "Epoch    0/1000 W1: 0.788 W2: 0.540 W3: 0.682 b: 0.012 cost: 0.562076\n",
            "Epoch  100/1000 W1: 0.791 W2: 0.538 W3: 0.682 b: 0.012 cost: 0.547874\n",
            "Epoch  200/1000 W1: 0.793 W2: 0.535 W3: 0.682 b: 0.012 cost: 0.534385\n",
            "Epoch  300/1000 W1: 0.796 W2: 0.533 W3: 0.682 b: 0.012 cost: 0.521589\n",
            "Epoch  400/1000 W1: 0.798 W2: 0.530 W3: 0.682 b: 0.012 cost: 0.509433\n",
            "Epoch  500/1000 W1: 0.801 W2: 0.528 W3: 0.682 b: 0.013 cost: 0.497877\n",
            "Epoch  600/1000 W1: 0.803 W2: 0.526 W3: 0.681 b: 0.013 cost: 0.486913\n",
            "Epoch  700/1000 W1: 0.806 W2: 0.524 W3: 0.681 b: 0.013 cost: 0.476476\n",
            "Epoch  800/1000 W1: 0.808 W2: 0.521 W3: 0.681 b: 0.013 cost: 0.466572\n",
            "Epoch  900/1000 W1: 0.810 W2: 0.519 W3: 0.681 b: 0.013 cost: 0.457155\n",
            "Epoch 1000/1000 W1: 0.812 W2: 0.517 W3: 0.681 b: 0.013 cost: 0.448210\n"
          ]
        }
      ]
    },
    {
      "cell_type": "markdown",
      "source": [
        "### 벡터와 행렬 연산으로 바꾸기\n",
        " - 행렬의 곱셈(벡터의 내적) 활용"
      ],
      "metadata": {
        "id": "28LERG80uOWa"
      }
    },
    {
      "cell_type": "code",
      "source": [
        "# 훈련 데이터 행렬로 선언하기\n",
        "X_train = torch.FloatTensor([[73, 80, 75],\n",
        "                             [93, 88, 93],\n",
        "                             [89, 91, 80],\n",
        "                             [96, 98, 100],\n",
        "                             [73, 66, 70]])\n",
        "y_train = torch.FloatTensor([[152], [185], [180], [196], [142]])"
      ],
      "metadata": {
        "id": "SJIsMaRViHwT"
      },
      "execution_count": 13,
      "outputs": []
    },
    {
      "cell_type": "code",
      "source": [
        "# 크기 확인\n",
        "print(X_train.shape)\n",
        "print(y_train.shape)"
      ],
      "metadata": {
        "colab": {
          "base_uri": "https://localhost:8080/"
        },
        "id": "EMA2pEINviLQ",
        "outputId": "1e392335-f703-4eb9-a74e-3a98fb5ee27f"
      },
      "execution_count": 14,
      "outputs": [
        {
          "output_type": "stream",
          "name": "stdout",
          "text": [
            "torch.Size([5, 3])\n",
            "torch.Size([5, 1])\n"
          ]
        }
      ]
    },
    {
      "cell_type": "code",
      "source": [
        "# 가중치와 편향 선언\n",
        "W = torch.zeros((3,1), requires_grad=True)\n",
        "b = torch.zeros(1, requires_grad=True)"
      ],
      "metadata": {
        "id": "1G9LV7ccx1SZ"
      },
      "execution_count": 16,
      "outputs": []
    },
    {
      "cell_type": "code",
      "source": [
        "# 행렬곱으로 가설 선언\n",
        "hypothesis = X_train.matmul(W) + b"
      ],
      "metadata": {
        "id": "Oijm9uxTyUYq"
      },
      "execution_count": 17,
      "outputs": []
    },
    {
      "cell_type": "code",
      "source": [
        "# 전체 코드\n",
        "X_train = torch.FloatTensor([[73, 80, 75],\n",
        "                             [93, 88, 93],\n",
        "                             [89, 91, 80],\n",
        "                             [96, 98, 100],\n",
        "                             [73, 66, 70]])\n",
        "y_train = torch.FloatTensor([[152], [185], [180], [196], [142]])\n",
        "\n",
        "# 모델 초기화\n",
        "W = torch.zeros((3,1), requires_grad=True)\n",
        "b = torch.zeros(1, requires_grad=True)"
      ],
      "metadata": {
        "id": "x6fO-aRDyicH"
      },
      "execution_count": 18,
      "outputs": []
    }
  ]
}