{
  "nbformat": 4,
  "nbformat_minor": 0,
  "metadata": {
    "colab": {
      "provenance": [],
      "mount_file_id": "14eybURzP2FNo70DCJyKrYms-03Q1h7eP",
      "authorship_tag": "ABX9TyOqrgxQ1rfKpITc67N9XMZc",
      "include_colab_link": true
    },
    "kernelspec": {
      "name": "python3",
      "display_name": "Python 3"
    },
    "language_info": {
      "name": "python"
    }
  },
  "cells": [
    {
      "cell_type": "markdown",
      "metadata": {
        "id": "view-in-github",
        "colab_type": "text"
      },
      "source": [
        "<a href=\"https://colab.research.google.com/github/chw8207/pytorch_study/blob/main/%EB%AF%B8%EB%8B%88%EB%B0%B0%EC%B9%98.ipynb\" target=\"_parent\"><img src=\"https://colab.research.google.com/assets/colab-badge.svg\" alt=\"Open In Colab\"/></a>"
      ]
    },
    {
      "cell_type": "markdown",
      "source": [
        "### 데이터 로드하기\n",
        " -  TensorDataset : 텐서를 입력받아 Dataset의 형태로 변환"
      ],
      "metadata": {
        "id": "HQ1CFAElHwvz"
      }
    },
    {
      "cell_type": "code",
      "execution_count": 1,
      "metadata": {
        "id": "ZcwFM6B1Fj56"
      },
      "outputs": [],
      "source": [
        "import torch\n",
        "import torch.nn as nn\n",
        "import torch.nn.functional as F"
      ]
    },
    {
      "cell_type": "code",
      "source": [
        "from torch.utils.data import TensorDataset\n",
        "from torch.utils.data import DataLoader"
      ],
      "metadata": {
        "id": "ecmDKPFAIXQA"
      },
      "execution_count": 2,
      "outputs": []
    },
    {
      "cell_type": "code",
      "source": [
        "X_train = torch.FloatTensor([[73,80,75],\n",
        "                             [93,88,93],\n",
        "                             [89,91,90],\n",
        "                             [96,98,100],\n",
        "                             [73,66,70]])\n",
        "y_train = torch.FloatTensor([[152], [185], [180], [196], [142]])"
      ],
      "metadata": {
        "id": "iOeTgeBZI5gr"
      },
      "execution_count": 4,
      "outputs": []
    },
    {
      "cell_type": "code",
      "source": [
        "# TensorDataset의 입력으로 사용하고 dataset으로 저장\n",
        "dataset = TensorDataset(X_train, y_train)"
      ],
      "metadata": {
        "id": "-dG8ZugzJe9w"
      },
      "execution_count": 5,
      "outputs": []
    },
    {
      "cell_type": "code",
      "source": [
        "dataloader = DataLoader(dataset, batch_size=2, shuffle=True)"
      ],
      "metadata": {
        "id": "C3988T2-J13O"
      },
      "execution_count": 6,
      "outputs": []
    },
    {
      "cell_type": "code",
      "source": [
        "# 모델과 옵티마이저 설계\n",
        "model = nn.Linear(3,1)\n",
        "optimizer = torch.optim.SGD(model.parameters(), lr=1e-5)"
      ],
      "metadata": {
        "id": "tAG0xZgBKoij"
      },
      "execution_count": 7,
      "outputs": []
    },
    {
      "cell_type": "code",
      "source": [
        "nb_epochs = 20\n",
        "for epoch in range(nb_epochs+1) : \n",
        "  for batch_idx, samples in enumerate(dataloader) : \n",
        "    # print(batch_idx)\n",
        "    # print(samples)\n",
        "    X_train, y_train = samples\n",
        "\n",
        "    # H(x) 계산\n",
        "    prediction = model(X_train)\n",
        "\n",
        "    # cost 계산\n",
        "    cost = F.mse_loss(prediction, y_train)\n",
        "\n",
        "    # cost로 H(x) 개선\n",
        "    optimizer.zero_grad()\n",
        "    cost.backward()\n",
        "    optimizer.step()\n",
        "\n",
        "    print(f'Epoch {epoch:4d}/{nb_epochs} Batch {batch_idx+1}/{len(dataloader)} Cost: {cost.item():.6f}')"
      ],
      "metadata": {
        "colab": {
          "base_uri": "https://localhost:8080/"
        },
        "id": "4Pi_zVHPK8S_",
        "outputId": "9ddff0b1-55be-482f-cdb2-18f4d032be7b"
      },
      "execution_count": 13,
      "outputs": [
        {
          "output_type": "stream",
          "name": "stdout",
          "text": [
            "Epoch    0/20 Batch 1/3 Cost: 2.042452\n",
            "Epoch    0/20 Batch 2/3 Cost: 1.166801\n",
            "Epoch    0/20 Batch 3/3 Cost: 6.144326\n",
            "Epoch    1/20 Batch 1/3 Cost: 2.156163\n",
            "Epoch    1/20 Batch 2/3 Cost: 4.535724\n",
            "Epoch    1/20 Batch 3/3 Cost: 2.669566\n",
            "Epoch    2/20 Batch 1/3 Cost: 0.882942\n",
            "Epoch    2/20 Batch 2/3 Cost: 5.461133\n",
            "Epoch    2/20 Batch 3/3 Cost: 2.280775\n",
            "Epoch    3/20 Batch 1/3 Cost: 0.881829\n",
            "Epoch    3/20 Batch 2/3 Cost: 3.282073\n",
            "Epoch    3/20 Batch 3/3 Cost: 3.188308\n",
            "Epoch    4/20 Batch 1/3 Cost: 2.964344\n",
            "Epoch    4/20 Batch 2/3 Cost: 3.720336\n",
            "Epoch    4/20 Batch 3/3 Cost: 3.124494\n",
            "Epoch    5/20 Batch 1/3 Cost: 2.966929\n",
            "Epoch    5/20 Batch 2/3 Cost: 1.715972\n",
            "Epoch    5/20 Batch 3/3 Cost: 1.436187\n",
            "Epoch    6/20 Batch 1/3 Cost: 2.248733\n",
            "Epoch    6/20 Batch 2/3 Cost: 0.931859\n",
            "Epoch    6/20 Batch 3/3 Cost: 6.230712\n",
            "Epoch    7/20 Batch 1/3 Cost: 2.249772\n",
            "Epoch    7/20 Batch 2/3 Cost: 4.134714\n",
            "Epoch    7/20 Batch 3/3 Cost: 1.197424\n",
            "Epoch    8/20 Batch 1/3 Cost: 2.373130\n",
            "Epoch    8/20 Batch 2/3 Cost: 2.702689\n",
            "Epoch    8/20 Batch 3/3 Cost: 1.268717\n",
            "Epoch    9/20 Batch 1/3 Cost: 0.424223\n",
            "Epoch    9/20 Batch 2/3 Cost: 6.329509\n",
            "Epoch    9/20 Batch 3/3 Cost: 1.740043\n",
            "Epoch   10/20 Batch 1/3 Cost: 4.733605\n",
            "Epoch   10/20 Batch 2/3 Cost: 2.483403\n",
            "Epoch   10/20 Batch 3/3 Cost: 0.747073\n",
            "Epoch   11/20 Batch 1/3 Cost: 2.457626\n",
            "Epoch   11/20 Batch 2/3 Cost: 2.805919\n",
            "Epoch   11/20 Batch 3/3 Cost: 1.322802\n",
            "Epoch   12/20 Batch 1/3 Cost: 0.476623\n",
            "Epoch   12/20 Batch 2/3 Cost: 2.709299\n",
            "Epoch   12/20 Batch 3/3 Cost: 4.985479\n",
            "Epoch   13/20 Batch 1/3 Cost: 2.626958\n",
            "Epoch   13/20 Batch 2/3 Cost: 1.770055\n",
            "Epoch   13/20 Batch 3/3 Cost: 2.052567\n",
            "Epoch   14/20 Batch 1/3 Cost: 2.763042\n",
            "Epoch   14/20 Batch 2/3 Cost: 1.842533\n",
            "Epoch   14/20 Batch 3/3 Cost: 1.491085\n",
            "Epoch   15/20 Batch 1/3 Cost: 4.877829\n",
            "Epoch   15/20 Batch 2/3 Cost: 2.377204\n",
            "Epoch   15/20 Batch 3/3 Cost: 0.718909\n",
            "Epoch   16/20 Batch 1/3 Cost: 0.217104\n",
            "Epoch   16/20 Batch 2/3 Cost: 2.904196\n",
            "Epoch   16/20 Batch 3/3 Cost: 5.215246\n",
            "Epoch   17/20 Batch 1/3 Cost: 2.604311\n",
            "Epoch   17/20 Batch 2/3 Cost: 4.179379\n",
            "Epoch   17/20 Batch 3/3 Cost: 2.677100\n",
            "Epoch   18/20 Batch 1/3 Cost: 1.723348\n",
            "Epoch   18/20 Batch 2/3 Cost: 2.627877\n",
            "Epoch   18/20 Batch 3/3 Cost: 1.617837\n",
            "Epoch   19/20 Batch 1/3 Cost: 2.859567\n",
            "Epoch   19/20 Batch 2/3 Cost: 1.808188\n",
            "Epoch   19/20 Batch 3/3 Cost: 1.416142\n",
            "Epoch   20/20 Batch 1/3 Cost: 2.211491\n",
            "Epoch   20/20 Batch 2/3 Cost: 2.706588\n",
            "Epoch   20/20 Batch 3/3 Cost: 1.149197\n"
          ]
        }
      ]
    }
  ]
}