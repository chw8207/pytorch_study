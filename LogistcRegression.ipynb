{
  "nbformat": 4,
  "nbformat_minor": 0,
  "metadata": {
    "colab": {
      "provenance": [],
      "authorship_tag": "ABX9TyN0qEwyMp2S5v0O7WYL6RVo",
      "include_colab_link": true
    },
    "kernelspec": {
      "name": "python3",
      "display_name": "Python 3"
    },
    "language_info": {
      "name": "python"
    }
  },
  "cells": [
    {
      "cell_type": "markdown",
      "metadata": {
        "id": "view-in-github",
        "colab_type": "text"
      },
      "source": [
        "<a href=\"https://colab.research.google.com/github/chw8207/pytorch_study/blob/main/LogistcRegression.ipynb\" target=\"_parent\"><img src=\"https://colab.research.google.com/assets/colab-badge.svg\" alt=\"Open In Colab\"/></a>"
      ]
    },
    {
      "cell_type": "markdown",
      "source": [
        "### 시그모이드 함수"
      ],
      "metadata": {
        "id": "upc8U2eBlJCl"
      }
    },
    {
      "cell_type": "code",
      "execution_count": 2,
      "metadata": {
        "id": "eMrkv-l4i_N5"
      },
      "outputs": [],
      "source": [
        "import numpy as np\n",
        "import matplotlib.pyplot as plt"
      ]
    },
    {
      "cell_type": "code",
      "source": [
        "# 시그모이드 함수 정의\n",
        "def sigmoid(x) : \n",
        "  return 1/(1+np.exp(-x))"
      ],
      "metadata": {
        "id": "fj8VP07hlbma"
      },
      "execution_count": 3,
      "outputs": []
    },
    {
      "cell_type": "code",
      "source": [
        "# W=1, b=0인 그래프\n",
        "X = np.arange(-5.0, 5.0, 0.1)\n",
        "y = sigmoid(X)\n",
        "\n",
        "plt.plot(X, y, 'g')\n",
        "plt.plot([0,0],[1.0,0.0], ':')  # 가운데 점선 추가\n",
        "plt.title('Sigmoid Function')\n",
        "plt.show()"
      ],
      "metadata": {
        "colab": {
          "base_uri": "https://localhost:8080/",
          "height": 281
        },
        "id": "zEgrFnnMpb2x",
        "outputId": "c6bdff9d-890e-4ca3-8e6b-32acfcf4699b"
      },
      "execution_count": 12,
      "outputs": [
        {
          "output_type": "display_data",
          "data": {
            "text/plain": [
              "<Figure size 432x288 with 1 Axes>"
            ],
            "image/png": "[encoded data removed]"
          },
          "metadata": {
            "needs_background": "light"
          }
        }
      ]
    },
    {
      "cell_type": "markdown",
      "source": [
        "### W값의 변화에 따른 경사도의 변화"
      ],
      "metadata": {
        "id": "WKQj1CnCqnz_"
      }
    },
    {
      "cell_type": "code",
      "source": [],
      "metadata": {
        "id": "iP8D5cwyp30m"
      },
      "execution_count": null,
      "outputs": []
    }
  ]
}