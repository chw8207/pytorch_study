{
  "nbformat": 4,
  "nbformat_minor": 0,
  "metadata": {
    "colab": {
      "provenance": [],
      "mount_file_id": "1IY1xc4wytZ9oGUWUqgNWeAWjzIi7nD71",
      "authorship_tag": "ABX9TyOXf4qUrVWsTnyuvDalz6og",
      "include_colab_link": true
    },
    "kernelspec": {
      "name": "python3",
      "display_name": "Python 3"
    },
    "language_info": {
      "name": "python"
    }
  },
  "cells": [
    {
      "cell_type": "markdown",
      "metadata": {
        "id": "view-in-github",
        "colab_type": "text"
      },
      "source": [
        "<a href=\"https://colab.research.google.com/github/chw8207/pytorch_study/blob/main/%EB%94%A5%EB%9F%AC%EB%8B%9D%EB%AA%A8%EB%8D%B8_%EB%A7%8C%EB%93%A4%EA%B8%B0.ipynb\" target=\"_parent\"><img src=\"https://colab.research.google.com/assets/colab-badge.svg\" alt=\"Open In Colab\"/></a>"
      ]
    },
    {
      "cell_type": "markdown",
      "source": [
        "### 신경망의 구성요소 : 층\n",
        "- 입력과 입력의 기울기 모양 동일해야 함\n",
        "- 출력과 출력의 기울기 모양 동일해야 함"
      ],
      "metadata": {
        "id": "s1Mj_xyPQEd-"
      }
    },
    {
      "cell_type": "code",
      "source": [
        "import numpy as np\n",
        "from numpy import ndarray\n",
        "from typing import List"
      ],
      "metadata": {
        "id": "wJijM2sQl0tp"
      },
      "execution_count": 4,
      "outputs": []
    },
    {
      "cell_type": "code",
      "source": [
        "def assert_same_shape(array: ndarray,\n",
        "                      array_grad: ndarray):\n",
        "    assert array.shape == array_grad.shape, \\\n",
        "        '''\n",
        "        두 ndarray의 모양이 같아야 하는데,\n",
        "        첫 번째 ndarray의 모양은 {0}이고,\n",
        "        두 번째 ndarray의 모양은 {1}이다.\n",
        "        '''.format(tuple(array_grad.shape), tuple(array.shape))\n",
        "    return None"
      ],
      "metadata": {
        "id": "qyCeVg-jm8qf"
      },
      "execution_count": 6,
      "outputs": []
    },
    {
      "cell_type": "code",
      "source": [
        "class Operation(object) :\n",
        "  '''\n",
        "  신경망 모델의 연산 역할을 하는 기반 클래스\n",
        "  '''\n",
        "  def __init__(self) :\n",
        "    pass\n",
        "\n",
        "  def forward(self, input_: ndarray) :\n",
        "    '''\n",
        "    인스턴스 변수 self._input에 입력값을 저장한 다음\n",
        "    self._output()를 호출한다.\n",
        "    '''\n",
        "    self.input_ = input_\n",
        "    self.output = self._output()\n",
        "    return self.output\n",
        "\n",
        "  def backward(self, output_grad: ndarray) -> ndarray :\n",
        "    '''\n",
        "    self._input_grad()함수를 호출한다.\n",
        "    이 때 모양이 일치하는지 먼저 확인한다.\n",
        "    '''\n",
        "    assert_same_shape(self.output, output_grad)\n",
        "    self.input_grad = self._input_grad(output_grad)\n",
        "    assert_same_shape(self.input_, self.input_grad)\n",
        "    return self.input_grad\n",
        "\n",
        "  def _output(self) -> ndarray :\n",
        "    '''\n",
        "    Operation을 구현한 모든 구상 클래스는 _output 메서드를 구현해야 한다.\n",
        "    '''\n",
        "    raise NotImplementedError('_output메서드를 구현해야 합니다.')\n",
        "\n",
        "  def _input_grad(self, output_grad: ndarray) -> ndarray :\n",
        "    '''\n",
        "    Operation을 구현한 모든 구상 클래스는 _input_grad 메서드를 구현해야 한다.\n",
        "    '''\n",
        "    raise NotImplementedError('_input_grad 메서드를 구현해야 합니다.')"
      ],
      "metadata": {
        "id": "UiEMgLU7VOLH"
      },
      "execution_count": 17,
      "outputs": []
    },
    {
      "cell_type": "code",
      "source": [
        "# 특정한 연산(행렬곱 등)을 수행하는 클래스\n",
        "class ParamOperation(Operation) :\n",
        "  '''\n",
        "  파라미터를 갖는 연산\n",
        "  '''\n",
        "  def __init__(self, param: ndarray) -> ndarray :\n",
        "    '''\n",
        "    생성자 메서드\n",
        "    '''\n",
        "    super().__init__()\n",
        "    self.param = param\n",
        "\n",
        "  def backward(self, output_grad: ndarray) -> ndarray :\n",
        "    '''\n",
        "    self._input_grad, self._param_grad를 호출한다.\n",
        "    이때 ndarray 객체의 모양이 일치하는지 확인한다.\n",
        "    '''\n",
        "    assert_same_shape(self.output, output_grad)\n",
        "\n",
        "    self.input_grad = self._input_grad(output_grad)\n",
        "    self.param_grad = self._param_grad(output_grad)\n",
        "\n",
        "    assert_same_shape(self.input_, self.input_grad)\n",
        "    assert_same_shape(self.param_, self.param_grad)\n",
        "\n",
        "    return self.input_grad\n",
        "\n",
        "  def _param_grad(self, output_grad: ndarray) -> ndarray :\n",
        "    '''\n",
        "    Operation을 구현한 모든 구상 클래스는 _param_grad 메서드를 구현해야 한다.\n",
        "    '''\n",
        "    raise NotImplementedError('_param_grad'메서드를 구현해야 합니다.)"
      ],
      "metadata": {
        "id": "sFn232hUqT60"
      },
      "execution_count": 20,
      "outputs": []
    }
  ]
}