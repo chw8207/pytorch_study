{
  "nbformat": 4,
  "nbformat_minor": 0,
  "metadata": {
    "colab": {
      "provenance": [],
      "mount_file_id": "1Itif5Roc6_fEyBDJwhjGA0Po0Q46Hcel",
      "authorship_tag": "ABX9TyNC+GNrSX6YPY+TUkYRhkV/",
      "include_colab_link": true
    },
    "kernelspec": {
      "name": "python3",
      "display_name": "Python 3"
    },
    "language_info": {
      "name": "python"
    }
  },
  "cells": [
    {
      "cell_type": "markdown",
      "metadata": {
        "id": "view-in-github",
        "colab_type": "text"
      },
      "source": [
        "<a href=\"https://colab.research.google.com/github/chw8207/pytorch_study/blob/main/nn_model.ipynb\" target=\"_parent\"><img src=\"https://colab.research.google.com/assets/colab-badge.svg\" alt=\"Open In Colab\"/></a>"
      ]
    },
    {
      "cell_type": "markdown",
      "source": [
        "### 함수 간단 예시\n",
        " - nn.Linear() : 선형회귀모델\n",
        " - nn.functional.mse_loss() : 평균제곱오차"
      ],
      "metadata": {
        "id": "ISJKsh630mji"
      }
    },
    {
      "cell_type": "code",
      "execution_count": 2,
      "metadata": {
        "id": "RMJUNI-z0Uvl"
      },
      "outputs": [],
      "source": [
        "import torch.nn as nn\n",
        "model = nn.Linear(input_dim, output_idm)"
      ]
    },
    {
      "cell_type": "code",
      "source": [
        "import torch.nn.functional as F\n",
        "cost = F.mse_loss(prediction, y_train)"
      ],
      "metadata": {
        "id": "UGD4XZtx0_zD"
      },
      "execution_count": null,
      "outputs": []
    },
    {
      "cell_type": "markdown",
      "source": [
        "### 단순 선형회귀 구현"
      ],
      "metadata": {
        "id": "VmFYeOxV1P0R"
      }
    },
    {
      "cell_type": "code",
      "source": [
        "import torch\n",
        "import torch.nn as nn\n",
        "import torch.nn.functional as F"
      ],
      "metadata": {
        "id": "YqCRGhb71Rki"
      },
      "execution_count": 3,
      "outputs": []
    },
    {
      "cell_type": "code",
      "source": [
        "torch.manual_seed(1)"
      ],
      "metadata": {
        "colab": {
          "base_uri": "https://localhost:8080/"
        },
        "id": "iv2EJ6QB1ckl",
        "outputId": "677e18c7-022f-4597-fbb5-9aa1ca2856ad"
      },
      "execution_count": 4,
      "outputs": [
        {
          "output_type": "execute_result",
          "data": {
            "text/plain": [
              "<torch._C.Generator at 0x7f0b7e9e4c30>"
            ]
          },
          "metadata": {},
          "execution_count": 4
        }
      ]
    },
    {
      "cell_type": "code",
      "source": [
        "# 데이터\n",
        "X_train = torch.FloatTensor([[1], [2], [3]])\n",
        "y_train = torch.FloatTensor([[2], [4], [6]])"
      ],
      "metadata": {
        "id": "BHndfgcn3RwQ"
      },
      "execution_count": 11,
      "outputs": []
    },
    {
      "cell_type": "code",
      "source": [
        "# 모델 선언 및 초기화\n",
        "# 단순 선형회귀이므로 input_dim, output_dim 모두 1\n",
        "model = nn.Linear(1,1)"
      ],
      "metadata": {
        "id": "LGmJw3C21f3Q"
      },
      "execution_count": 5,
      "outputs": []
    },
    {
      "cell_type": "code",
      "source": [
        "# model.parameters() : 가중치와 편향 불러오기\n",
        "print(list(model.parameters()))"
      ],
      "metadata": {
        "colab": {
          "base_uri": "https://localhost:8080/"
        },
        "id": "O-etoZ5P1vI4",
        "outputId": "8f2bb4e8-ebe4-4a0d-da73-c81246f23167"
      },
      "execution_count": 6,
      "outputs": [
        {
          "output_type": "stream",
          "name": "stdout",
          "text": [
            "[Parameter containing:\n",
            "tensor([[0.5153]], requires_grad=True), Parameter containing:\n",
            "tensor([-0.4414], requires_grad=True)]\n"
          ]
        }
      ]
    },
    {
      "cell_type": "code",
      "source": [
        "# optimzer 설정\n",
        "optimizer = torch.optim.SGD(model.parameters(), lr=0.01)"
      ],
      "metadata": {
        "id": "ZYbP2scZ1-iM"
      },
      "execution_count": 8,
      "outputs": []
    },
    {
      "cell_type": "code",
      "source": [
        "nb_epochs = 2000\n",
        "for epoch in range(nb_epochs+1) : \n",
        "  # H(x) 계산\n",
        "  prediction = model(X_train)\n",
        "\n",
        "  # cost 계산\n",
        "  cost = F.mse_loss(prediction, y_train)\n",
        "\n",
        "  # cost로 H(x) 개선\n",
        "  optimizer.zero_grad()\n",
        "  cost.backward()\n",
        "  optimizer.step()\n",
        "\n",
        "  if epoch%100==0 : \n",
        "    print(f'Epoch {epoch:4d}/{nb_epochs} cost: {cost.item():.6f}')"
      ],
      "metadata": {
        "colab": {
          "base_uri": "https://localhost:8080/"
        },
        "id": "AaNqxfre2V7F",
        "outputId": "b4a7f5f8-630a-42b9-f134-775a74d0387d"
      },
      "execution_count": 12,
      "outputs": [
        {
          "output_type": "stream",
          "name": "stdout",
          "text": [
            "Epoch    0/2000 cost: 13.103541\n",
            "Epoch  100/2000 cost: 0.002791\n",
            "Epoch  200/2000 cost: 0.001724\n",
            "Epoch  300/2000 cost: 0.001066\n",
            "Epoch  400/2000 cost: 0.000658\n",
            "Epoch  500/2000 cost: 0.000407\n",
            "Epoch  600/2000 cost: 0.000251\n",
            "Epoch  700/2000 cost: 0.000155\n",
            "Epoch  800/2000 cost: 0.000096\n",
            "Epoch  900/2000 cost: 0.000059\n",
            "Epoch 1000/2000 cost: 0.000037\n",
            "Epoch 1100/2000 cost: 0.000023\n",
            "Epoch 1200/2000 cost: 0.000014\n",
            "Epoch 1300/2000 cost: 0.000009\n",
            "Epoch 1400/2000 cost: 0.000005\n",
            "Epoch 1500/2000 cost: 0.000003\n",
            "Epoch 1600/2000 cost: 0.000002\n",
            "Epoch 1700/2000 cost: 0.000001\n",
            "Epoch 1800/2000 cost: 0.000001\n",
            "Epoch 1900/2000 cost: 0.000000\n",
            "Epoch 2000/2000 cost: 0.000000\n"
          ]
        }
      ]
    }
  ]
}