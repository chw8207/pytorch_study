{
  "nbformat": 4,
  "nbformat_minor": 0,
  "metadata": {
    "colab": {
      "provenance": [],
      "mount_file_id": "1coPD42sVZEyZbGWJIo4u05EUNn38nYBd",
      "authorship_tag": "ABX9TyPZzJv19ZgrWObM0E3cFL4n",
      "include_colab_link": true
    },
    "kernelspec": {
      "name": "python3",
      "display_name": "Python 3"
    },
    "language_info": {
      "name": "python"
    }
  },
  "cells": [
    {
      "cell_type": "markdown",
      "metadata": {
        "id": "view-in-github",
        "colab_type": "text"
      },
      "source": [
        "<a href=\"https://colab.research.google.com/github/chw8207/pytorch_study/blob/main/%EC%8B%A0%EA%B2%BD%EB%A7%9D%EA%B8%B0%EC%B4%881.ipynb\" target=\"_parent\"><img src=\"https://colab.research.google.com/assets/colab-badge.svg\" alt=\"Open In Colab\"/></a>"
      ]
    },
    {
      "cell_type": "markdown",
      "source": [
        "### 타입을 확인하는 함수"
      ],
      "metadata": {
        "id": "upc8U2eBlJCl"
      }
    },
    {
      "cell_type": "code",
      "source": [
        "# 넘파이로 간단한 함수 구현하기\n",
        "import numpy as np\n",
        "from numpy import ndarray\n",
        "\n",
        "def square(x: ndarray) -> ndarray :\n",
        "  '''\n",
        "  인자로 받은 ndarray 배열의 각 요솟값을 제곱한다.\n",
        "  '''\n",
        "  return np.power(x, 2)\n",
        "\n",
        "def leaky_relu(x: ndarray) -> ndarray :\n",
        "  '''\n",
        "  ndarray 각 배열의 요소에 'Leaky ReLu함수를 적용한다.'\n",
        "  '''\n",
        "  return np.maximum(0.2*x, x)"
      ],
      "metadata": {
        "id": "5Q3J6WZd6zOD"
      },
      "execution_count": 1,
      "outputs": []
    },
    {
      "cell_type": "markdown",
      "source": [
        "### 도함수"
      ],
      "metadata": {
        "id": "VyJNH6Bd7oVD"
      }
    },
    {
      "cell_type": "code",
      "source": [
        "# func: Callable[[ndarray], ndarray]\n",
        "#       인자로 ndarray를 입력으로 받고, ndarray타입값을 반환하는 함수\n",
        "from typing import Callable\n",
        "\n",
        "def deriv(func: Callable[[ndarray], ndarray],\n",
        "          input_: ndarray,\n",
        "          delta: float = 0.001) -> ndarray :\n",
        "    '''\n",
        "    배열 input이 각 요소에 대해 함수 func의 도함수값 계산\n",
        "    '''\n",
        "    return (func(input_ + delta) - func(input_ - delta)) / (2 * delta)"
      ],
      "metadata": {
        "id": "O8DldtTg7pwR"
      },
      "execution_count": 2,
      "outputs": []
    },
    {
      "cell_type": "markdown",
      "source": [
        "### 합성함수"
      ],
      "metadata": {
        "id": "IZqOn-NG8dC1"
      }
    },
    {
      "cell_type": "code",
      "source": [
        "# 데이터 타입 정의\n",
        "from typing import List\n",
        "\n",
        "# ndarray를 인자로 받고 ndarray를 반환하는 함수\n",
        "Array_Function = Callable[[ndarray], ndarray]\n",
        "\n",
        "# Chain은 함수의 리스트다.\n",
        "Chain = List[Array_Function]"
      ],
      "metadata": {
        "id": "ISSJDEUl8c56"
      },
      "execution_count": 3,
      "outputs": []
    },
    {
      "cell_type": "code",
      "source": [
        "Chain"
      ],
      "metadata": {
        "colab": {
          "base_uri": "https://localhost:8080/"
        },
        "id": "fMXmqy749HC_",
        "outputId": "11b30dda-9ec0-45d5-d9b4-09f01cf1132f"
      },
      "execution_count": 4,
      "outputs": [
        {
          "output_type": "execute_result",
          "data": {
            "text/plain": [
              "typing.List[typing.Callable[[numpy.ndarray], numpy.ndarray]]"
            ]
          },
          "metadata": {},
          "execution_count": 4
        }
      ]
    },
    {
      "cell_type": "code",
      "source": [
        "# 합성함수로 처리\n",
        "def chain_length_2(chain: Chain, a: ndarray) -> ndarray :\n",
        "  '''\n",
        "  두 함수를 연쇄(chain)적으로 평가\n",
        "  '''\n",
        "  # 인자 chain의 길이는 2여야 함(2개의 함수 연결)\n",
        "  assert len(chain) == 2\n",
        "\n",
        "  f1 = chain[0]\n",
        "  f2 = chain[1]\n",
        "\n",
        "  return f2(f1(a))"
      ],
      "metadata": {
        "id": "4d-9Q0B98yD0"
      },
      "execution_count": 5,
      "outputs": []
    },
    {
      "cell_type": "markdown",
      "source": [
        "### 합성함수의 도함수"
      ],
      "metadata": {
        "id": "0qIECpadXfj7"
      }
    },
    {
      "cell_type": "code",
      "source": [
        "def sigmoid(x: ndarray) -> ndarray :\n",
        "  '''\n",
        "  입력으로 받은 ndarray의 각 요소에 대한 sigmoid 함수값을 계산한다.\n",
        "  '''\n",
        "  return 1 / (1 + np.exp(-x))"
      ],
      "metadata": {
        "id": "rVT5pVlyXf48"
      },
      "execution_count": 7,
      "outputs": []
    },
    {
      "cell_type": "code",
      "source": [
        "# 연쇄법칙 구현\n",
        "def chain_deriv_2(chain: Chain,\n",
        "                  input_range: ndarray) -> ndarray :\n",
        "    '''\n",
        "    두 함수로 구성된 합성함수의 도함수를 계산하기 위해 연쇄법칙 사용\n",
        "    (f2(f1(x))' = f2'(f1(x)) * f1'(x)\n",
        "    '''\n",
        "    assert len(chain) == 2\n",
        "\n",
        "    # input_range는 1차원 ndarray여야 함\n",
        "    assert input_range.ndim == 1\n",
        "    f1 = chain[0]\n",
        "    f2 = chain[1]\n",
        "\n",
        "    # df1/dx\n",
        "    f1_of_x = f1(input_range)\n",
        "\n",
        "    # df1/du\n",
        "    df1dx = deriv(f1, input_range)\n",
        "\n",
        "    # df2/du(f1(x))\n",
        "    df2du = deriv(f2, f1(input_range))\n",
        "\n",
        "    # 각 점끼리 값을 곱함\n",
        "    return df1dx * df2du"
      ],
      "metadata": {
        "id": "Vd5wKOnWXjLt"
      },
      "execution_count": 8,
      "outputs": []
    }
  ]
}