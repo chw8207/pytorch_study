{
  "nbformat": 4,
  "nbformat_minor": 0,
  "metadata": {
    "colab": {
      "provenance": [],
      "mount_file_id": "179TcECPt5RkvpaNutQlZzxb20HruFaUZ",
      "authorship_tag": "ABX9TyPHf/fbCKcMEu7ujtSTT9TY",
      "include_colab_link": true
    },
    "kernelspec": {
      "name": "python3",
      "display_name": "Python 3"
    },
    "language_info": {
      "name": "python"
    }
  },
  "cells": [
    {
      "cell_type": "markdown",
      "metadata": {
        "id": "view-in-github",
        "colab_type": "text"
      },
      "source": [
        "<a href=\"https://colab.research.google.com/github/chw8207/pytorch_study/blob/main/%EC%84%A0%ED%98%95%ED%9A%8C%EA%B7%80.ipynb\" target=\"_parent\"><img src=\"https://colab.research.google.com/assets/colab-badge.svg\" alt=\"Open In Colab\"/></a>"
      ]
    },
    {
      "cell_type": "code",
      "execution_count": 1,
      "metadata": {
        "id": "iLt-Pwf3Jnnf"
      },
      "outputs": [],
      "source": [
        "# 환경 셋팅\n",
        "import torch\n",
        "import torch.nn as nn\n",
        "import torch.nn.functional as F \n",
        "import torch.optim as optim"
      ]
    },
    {
      "cell_type": "code",
      "source": [
        "# 현재 실습하고 있는 파이썬 코드를 재실행해도 다음에도 같은 결과가 나오도록 랜덤 시드(random seed)주기\n",
        "torch.manual_seed(1)"
      ],
      "metadata": {
        "colab": {
          "base_uri": "https://localhost:8080/"
        },
        "id": "sxsO84a3KPxt",
        "outputId": "37e8fb73-2cf2-466e-eb82-4cf3f865d208"
      },
      "execution_count": 45,
      "outputs": [
        {
          "output_type": "execute_result",
          "data": {
            "text/plain": [
              "<torch._C.Generator at 0x7f2da8dcdd30>"
            ]
          },
          "metadata": {},
          "execution_count": 45
        }
      ]
    },
    {
      "cell_type": "code",
      "source": [
        "X_train = torch.FloatTensor([[1],[2],[3]])\n",
        "y_train = torch.FloatTensor([[2],[4],[6]])"
      ],
      "metadata": {
        "id": "SLASBImPKaT2"
      },
      "execution_count": 3,
      "outputs": []
    },
    {
      "cell_type": "code",
      "source": [
        "# X_train 출력 및 크기 확인\n",
        "print(X_train)\n",
        "print(X_train.shape)"
      ],
      "metadata": {
        "colab": {
          "base_uri": "https://localhost:8080/"
        },
        "id": "qsOFMV9MMCZk",
        "outputId": "b34a4b10-e856-4470-edf0-5d9d148a3651"
      },
      "execution_count": 4,
      "outputs": [
        {
          "output_type": "stream",
          "name": "stdout",
          "text": [
            "tensor([[1.],\n",
            "        [2.],\n",
            "        [3.]])\n",
            "torch.Size([3, 1])\n"
          ]
        }
      ]
    },
    {
      "cell_type": "code",
      "source": [
        "# y_train 출력 및 크기 확인\n",
        "print(y_train)\n",
        "print(y_train.shape)"
      ],
      "metadata": {
        "colab": {
          "base_uri": "https://localhost:8080/"
        },
        "id": "ANf2erjsMMvB",
        "outputId": "fc5a711d-9bb3-4084-e1c7-1982a2ae617a"
      },
      "execution_count": 5,
      "outputs": [
        {
          "output_type": "stream",
          "name": "stdout",
          "text": [
            "tensor([[2.],\n",
            "        [4.],\n",
            "        [6.]])\n",
            "torch.Size([3, 1])\n"
          ]
        }
      ]
    },
    {
      "cell_type": "code",
      "source": [
        "# 가중치와 편향의 초기화\n",
        "# 가중치 W를 0으로 초기화하고 학습을 통해 값이 변경되는 변수임을 명시\n",
        "# requires_grad=True : 학습을 통해 인자가 변경될 수 있음\n",
        "W = torch.zeros(1, requires_grad=True)\n",
        "print(W)"
      ],
      "metadata": {
        "colab": {
          "base_uri": "https://localhost:8080/"
        },
        "id": "PjBfHUGuMbVO",
        "outputId": "5ea42dbe-f781-4f96-efe1-fe7505de9ce5"
      },
      "execution_count": 6,
      "outputs": [
        {
          "output_type": "stream",
          "name": "stdout",
          "text": [
            "tensor([0.], requires_grad=True)\n"
          ]
        }
      ]
    },
    {
      "cell_type": "code",
      "source": [
        "# 편향b도 0으로 초기화하고, 학습을 통해 값이 변경되는 변수임을 명시\n",
        "b = torch.zeros(1, requires_grad=True)\n",
        "print(b)"
      ],
      "metadata": {
        "colab": {
          "base_uri": "https://localhost:8080/"
        },
        "id": "M1y98hCMM7vx",
        "outputId": "c092b437-226b-4eaf-de57-4cba6d0a4d99"
      },
      "execution_count": 7,
      "outputs": [
        {
          "output_type": "stream",
          "name": "stdout",
          "text": [
            "tensor([0.], requires_grad=True)\n"
          ]
        }
      ]
    },
    {
      "cell_type": "markdown",
      "source": [
        "#### 가설 세우기\n",
        " - H(x) = Wx + b"
      ],
      "metadata": {
        "id": "B4w8VSToNOju"
      }
    },
    {
      "cell_type": "code",
      "source": [
        "hypothesis = X_train*W + b\n",
        "print(hypothesis)"
      ],
      "metadata": {
        "colab": {
          "base_uri": "https://localhost:8080/"
        },
        "id": "bTPCHVrBNT2p",
        "outputId": "40c3ea9f-11f7-4d78-f18c-43553e561585"
      },
      "execution_count": 8,
      "outputs": [
        {
          "output_type": "stream",
          "name": "stdout",
          "text": [
            "tensor([[0.],\n",
            "        [0.],\n",
            "        [0.]], grad_fn=<AddBackward0>)\n"
          ]
        }
      ]
    },
    {
      "cell_type": "markdown",
      "source": [
        "### 비용 함수 선언하기\n",
        "![image.png](data:image/png;base64,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)"
      ],
      "metadata": {
        "id": "NtxQ-O-WNn5T"
      }
    },
    {
      "cell_type": "code",
      "source": [
        "cost = torch.mean((hypothesis-y_train)**2)\n",
        "print(cost)"
      ],
      "metadata": {
        "colab": {
          "base_uri": "https://localhost:8080/"
        },
        "id": "GYo2gXjVNpIC",
        "outputId": "ad47d8f2-1707-4b15-f751-5bb817bf504d"
      },
      "execution_count": 9,
      "outputs": [
        {
          "output_type": "stream",
          "name": "stdout",
          "text": [
            "tensor(18.6667, grad_fn=<MeanBackward0>)\n"
          ]
        }
      ]
    },
    {
      "cell_type": "code",
      "source": [
        "# 경사 하강법\n",
        "optimizer = optim.SGD([W,b], lr=0.01)"
      ],
      "metadata": {
        "id": "CpUSlnJ3OB7r"
      },
      "execution_count": 10,
      "outputs": []
    },
    {
      "cell_type": "code",
      "source": [
        "# optimizer.zero_grad() : 미분을 통해 얻은 기울기 0으로 초기화\n",
        "# cost.backward() : 가중치와 편향에 대한 기울기 계산\n",
        "# opimizer의 .step() : 가중치와 편향 업데이트"
      ],
      "metadata": {
        "id": "rOT_AHEWQx9Q"
      },
      "execution_count": null,
      "outputs": []
    },
    {
      "cell_type": "code",
      "source": [
        "# gradient를 0으로 초기화\n",
        "optimizer.zero_grad()"
      ],
      "metadata": {
        "id": "OBAxKw6ORFjl"
      },
      "execution_count": 11,
      "outputs": []
    },
    {
      "cell_type": "code",
      "source": [
        "# 비용 함수를 미분하여 gradient 계산\n",
        "cost.backward()"
      ],
      "metadata": {
        "id": "Z-dfMm0ERMnU"
      },
      "execution_count": 12,
      "outputs": []
    },
    {
      "cell_type": "code",
      "source": [
        "# W와 b를 업데이트\n",
        "optimizer.step()"
      ],
      "metadata": {
        "id": "Y0snKK1vRVot"
      },
      "execution_count": 13,
      "outputs": []
    },
    {
      "cell_type": "markdown",
      "source": [
        "### 전체 코드"
      ],
      "metadata": {
        "id": "J_ezsxkmrZou"
      }
    },
    {
      "cell_type": "code",
      "source": [
        "# 데이터\n",
        "X_train = torch.FloatTensor([[1],[2],[3]])\n",
        "y_train = torch.FloatTensor([[2],[4],[6]])\n",
        "\n",
        "# 모델 초기화\n",
        "W = torch.zeros(1, requires_grad=True)\n",
        "b = torch.zeros(1, requires_grad=True)\n",
        "\n",
        "# optimizer 설정\n",
        "optimizer = optim.SGD([W, b], lr=0.01)\n",
        "\n",
        "# 에포크 설정\n",
        "nb_epochs = 2000\n",
        "for epoch in range(nb_epochs+1) : \n",
        "  # H(x) 계산\n",
        "  hypothesis = X_train*W+b\n",
        "\n",
        "  # cost 계산\n",
        "  cost = torch.mean((hypothesis-y_train)**2)\n",
        "\n",
        "  # cost로 H(x) 개선\n",
        "  optimizer.zero_grad()\n",
        "  cost.backward()\n",
        "  optimizer.step()\n",
        "\n",
        "  # 20번 마다 로그 출력\n",
        "  if epoch%100==0 : \n",
        "    print(f'Epoch {epoch:4d}/{nb_epochs} W: {W.item():.3f} b: {b.item():.3f} cost: {cost.item():.6f}')"
      ],
      "metadata": {
        "colab": {
          "base_uri": "https://localhost:8080/"
        },
        "id": "xvV5kg1rmgpR",
        "outputId": "21b35a61-640e-4781-d5fe-ca3d91374d1f"
      },
      "execution_count": 57,
      "outputs": [
        {
          "output_type": "stream",
          "name": "stdout",
          "text": [
            "Epoch    0/2000 W: 0.187 b: 0.080 cost: 18.666666\n",
            "Epoch  100/2000 W: 1.746 b: 0.578 cost: 0.048171\n",
            "Epoch  200/2000 W: 1.800 b: 0.454 cost: 0.029767\n",
            "Epoch  300/2000 W: 1.843 b: 0.357 cost: 0.018394\n",
            "Epoch  400/2000 W: 1.876 b: 0.281 cost: 0.011366\n",
            "Epoch  500/2000 W: 1.903 b: 0.221 cost: 0.007024\n",
            "Epoch  600/2000 W: 1.924 b: 0.174 cost: 0.004340\n",
            "Epoch  700/2000 W: 1.940 b: 0.136 cost: 0.002682\n",
            "Epoch  800/2000 W: 1.953 b: 0.107 cost: 0.001657\n",
            "Epoch  900/2000 W: 1.963 b: 0.084 cost: 0.001024\n",
            "Epoch 1000/2000 W: 1.971 b: 0.066 cost: 0.000633\n",
            "Epoch 1100/2000 W: 1.977 b: 0.052 cost: 0.000391\n",
            "Epoch 1200/2000 W: 1.982 b: 0.041 cost: 0.000242\n",
            "Epoch 1300/2000 W: 1.986 b: 0.032 cost: 0.000149\n",
            "Epoch 1400/2000 W: 1.989 b: 0.025 cost: 0.000092\n",
            "Epoch 1500/2000 W: 1.991 b: 0.020 cost: 0.000057\n",
            "Epoch 1600/2000 W: 1.993 b: 0.016 cost: 0.000035\n",
            "Epoch 1700/2000 W: 1.995 b: 0.012 cost: 0.000022\n",
            "Epoch 1800/2000 W: 1.996 b: 0.010 cost: 0.000013\n",
            "Epoch 1900/2000 W: 1.997 b: 0.008 cost: 0.000008\n",
            "Epoch 2000/2000 W: 1.997 b: 0.006 cost: 0.000005\n"
          ]
        }
      ]
    },
    {
      "cell_type": "markdown",
      "source": [
        "### optimizer.zero_grad()가 필요한 이유\n",
        " - 기울기 누적 문제를 해결하기 위해"
      ],
      "metadata": {
        "id": "XaGcP2_60irg"
      }
    },
    {
      "cell_type": "code",
      "source": [
        "# 기울기 누적 문제 예시\n",
        "import torch\n",
        "W = torch.tensor(2.0, requires_grad=True)"
      ],
      "metadata": {
        "id": "0iiTOiqN0kAK"
      },
      "execution_count": 58,
      "outputs": []
    }
  ]
}